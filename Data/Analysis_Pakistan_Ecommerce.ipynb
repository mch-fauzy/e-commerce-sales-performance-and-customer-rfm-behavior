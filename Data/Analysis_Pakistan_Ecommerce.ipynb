{
 "cells": [
  {
   "cell_type": "markdown",
   "id": "4a17dc8f-a28b-43ad-9082-7a5b1224a588",
   "metadata": {
    "id": "ANhAFjMrc46Z"
   },
   "source": [
    "# **Latar Belakang**\n",
    "Perusahaan memiliki data berisi informasi tentang transaksi ecommerce yang dilakukan oleh pelanggan di Pakistan. Data mencakup berbagai kolom seperti \"Item ID\", \"Order Status\", \"Date of Order\", \"SKU\", \"Price\", \"Quantity\", \"Grand Total\", \"Category\", \"Payment Method\" and \"Customer ID\". Perusahaan ingin menggunakan data tersebut untuk menyusun strategi bisnis berdasarkan data."
   ]
  },
  {
   "cell_type": "markdown",
   "id": "6620b1c8-26d1-4aad-8b11-90682f9157f7",
   "metadata": {
    "id": "6mjDpIeUc46e",
    "tags": []
   },
   "source": [
    "# **Pernyataan Masalah**\n",
    "Perusahaan *E-Commerce* ingin mengetahui ***sales performance*** dan ***customer behaviour***. Informasi ini akan membantu perusahaan untuk menentukan strategi dalam meningkatkan penjualan dan kepuasan pelanggan. \n",
    "\n",
    "\n",
    "Sebagai *Data Analyst*, saya bertugas untuk memahami *customer behaviour* dan apa rekomendasi yang dapat diberikan untuk meningkatkan penjualan dan kepuasan pelanggan.\n"
    "* Berapa rentang harga produk yang sering dibeli customer?\n",
    "* Produk apa yang berada pada rentang harga tersebut?\n",
   ]
  },
  {
   "cell_type": "markdown",
   "id": "511f08d8-0d39-4d88-a794-6e0217f6d375",
   "metadata": {
    "id": "6mjDpIeUc46e",
    "tags": []
   },
   "source": [
    "# **Function**"
   ]
  },
  {
   "cell_type": "code",
   "execution_count": 1,
   "id": "afcf5756-d77d-4a11-b493-8f56ff3dcd04",
   "metadata": {},
   "outputs": [],
   "source": [
    "def horizontal_barplot(series, series_sum, y_text_adj_proportion=0.2, figsize=(12,6), palette='coolwarm', color='tab:blue', alpha=0.5):\n",
    "    plt.figure(figsize=figsize)\n",
    "    sns.barplot(y=series.index.astype('str'), x=series.values, color=color, palette=palette, alpha=alpha, orient='h')\n",
    "\n",
    "    # Add text in barplot\n",
    "    total = series_sum\n",
    "    for index, value in enumerate(series):\n",
    "        plt.text(total*y_text_adj_proportion,\n",
    "                 index,\n",
    "                f'{value:.0f} ({value/total*100:.1f}%)', \n",
    "                color='black', \n",
    "                ha='center',\n",
    "                va='center',\n",
    "                fontweight='bold', fontsize=8.5)\n",
    "    plt.ylabel('')\n",
    "    sns.despine(bottom=True, left=True)\n",
    "    plt.tight_layout();"
   ]
  },
  {
   "cell_type": "code",
   "execution_count": 2,
   "id": "e3223576-f7ed-451d-b219-9c442f153b02",
   "metadata": {},
   "outputs": [],
   "source": [
    "def single_histogram_check(df, variable, bins=None, stat='probability', norm=True, hue=None, kde=True, alpha=0.5, element='step', linewidth=2,\n",
    "                           palette='coolwarm', color='tab:blue', figsize=(6,4), show_line=True, hist_plot=True, bw_adjust=1,\n",
    "                           show_cumulative=True, color_cum='tab:blue', is_ecdf=True, distance=1.5, fill=True, show_detail=True):\n",
    "    #sns.set_style('white')\n",
    "    fig, ax1 = plt.subplots(figsize=figsize,dpi=100)\n",
    "\n",
    "    IQR = np.nanpercentile(df[variable], 75) - np.nanpercentile(df[variable], 25)\n",
    "    lower_boundary = np.nanpercentile(df[variable], 25) - (IQR * distance) # distance = 1.5 or 3\n",
    "    upper_boundary = np.nanpercentile(df[variable], 75) + (IQR * distance)\n",
    "\n",
    "    # calculate bins if not specified \n",
    "    if bins is None:\n",
    "        data_range = np.max(df[variable]) - np.min(df[variable])\n",
    "        data_len = len(df)\n",
    "        try:\n",
    "            bin_width = 2*IQR/data_len**(1/3) # Freedman-Diaconis’s Rule\n",
    "            bins = data_range/bin_width\n",
    "            bins = int(np.round(bins,0))\n",
    "        except:\n",
    "            bin_width = np.cbrt(data_len) * 2 # Rice’s Rule\n",
    "            bins = data_range/bin_width\n",
    "            bins = int(np.round(bins,0))\n",
    "\n",
    "    if hist_plot:\n",
    "        sns.histplot(x=variable, \n",
    "                    data=df,\n",
    "                    bins=bins,\n",
    "                    hue=hue,\n",
    "                    stat=stat, common_norm=norm, kde=kde,\n",
    "                    alpha=alpha,\n",
    "                    palette=palette, #diapakai jika hue digunakan sebagai input (bivariate)\n",
    "                    element=element,\n",
    "                    color=color, #digunakan untuk univariate\n",
    "                    linewidth=0,\n",
    "                    legend=True,\n",
    "                    ax=ax1)\n",
    "    else:\n",
    "        sns.kdeplot(x=variable, \n",
    "                    data=df,\n",
    "                    hue=hue,\n",
    "                    common_norm=norm,\n",
    "                    alpha=alpha,\n",
    "                    palette=palette, #diapakai jika hue digunakan sebagai input (bivariate)\n",
    "                    color=color, #digunakan untuk univariate\n",
    "                    linewidth=linewidth,\n",
    "                    bw_adjust=bw_adjust,\n",
    "                    fill=fill,\n",
    "                    ax=ax1)\n",
    "    #plt.setp(ax1.get_legend().get_texts(), fontsize='6') # for legend text\n",
    "    #plt.setp(ax1.get_legend().get_title(), fontsize='6') # for legend title\n",
    "    ax1.set_xlabel('')\n",
    "    ax1.set_ylabel(f\"{stat}\", fontsize=8)\n",
    "    ax1.tick_params(labelsize=7)\n",
    "    #if hue is not None:\n",
    "        #ax1.legend(df[hue].unique(), loc=(0.50,-0.23), fontsize=6.5, ncol=3)\n",
    "    #ax1.tick_params(left=False, bottom=False)\n",
    "    \n",
    "    if show_line:\n",
    "        # Add Vertical line\n",
    "        ax2 = ax1.twinx()\n",
    "        \n",
    "        #remove ticks\n",
    "        ax2.tick_params(right=False , labelright=False)\n",
    "        #ax2.axvline(x=np.nanpercentile(df[variable],5),ls='dashed', color='tab:blue', label='Percentile-5%', alpha=0.5)\n",
    "        #ax2.axvline(x=np.nanpercentile(df[variable],25),ls='dashed',color='tab:green', label='Percentile-25%', alpha=0.5)\n",
    "        #ax2.axvline(x=df[variable].median(),ls='dashed', color='tab:red', label='Median', alpha=0.5)\n",
    "        #ax2.axvline(x=np.nanpercentile(df[variable],75),ls='dashed',color='yellow',label='Percentile-75%', alpha=0.5)\n",
    "        #ax2.axvline(x=np.nanpercentile(df[variable],90),ls='dashed',color='tab:purple', label='Percentile-90%', alpha=0.5)\n",
    "        #ax2.axvline(x=np.nanpercentile(df[variable],99),ls='dashed',color='tab:cyan', label='Percentile-99%', alpha=0.5)\n",
    "        \n",
    "        ax2.axvline(x=np.nanpercentile(df[variable],25),ls='dashed',color='black', label='Q1', alpha=0.5, linewidth=1)\n",
    "        ax2.axvline(x=df[variable].median(),ls='dashed', color='black', label='Q2', alpha=0.5, linewidth=1)\n",
    "        ax2.axvline(x=np.nanpercentile(df[variable],75),ls='dashed',color='black',label='Q3', alpha=0.5, linewidth=1)\n",
    "        \n",
    "        if lower_boundary > df[variable].min():\n",
    "            ax2.axvline(x=lower_boundary, ls='dashed', color='tab:red',label='Low Bound', alpha=0.5, linewidth=1)\n",
    "        if upper_boundary < df[variable].max():\n",
    "            ax2.axvline(x=upper_boundary, ls='dashed', color='tab:red',label='Upper Bound', alpha=0.5, linewidth=1)\n",
    "        \n",
    "        #ax2.legend(loc=(0.20,-0.23), fontsize=6.5, ncol=3)\n",
    "    \n",
    "    if show_cumulative:\n",
    "        ax3 = ax1.twinx()\n",
    "        \n",
    "        if is_ecdf:\n",
    "            sns.ecdfplot(data=df, x=variable, color=color_cum, ax=ax3, linewidth=1)\n",
    "            ax3.set_ylim(0,1)\n",
    "        else:\n",
    "            sns.histplot(data=df, x=variable, color=color_cum, bins=bins, cumulative=True, fill=False, element='poly', stat='percent', linewidth=1,\n",
    "                     ax=ax3)\n",
    "            ax3.set_ylim(0,100)\n",
    "        ax3.tick_params(labelright=True, labelsize=7, right=True)\n",
    "        ax3.set_ylabel(ylabel='Cumulative', fontsize=8)\n",
    "        \n",
    "        \n",
    "    \n",
    "    # add text in figure\n",
    "    if show_detail:\n",
    "        plt.figtext(0.95,0.5, np.round(df[variable].describe(percentiles=[0.025, .05, .15, .25, .35, .45, .5, .6, .75,.90, .95, 0.975, .99, .995]),2).to_string(),\n",
    "                    fontsize=7, ma='right')\n",
    "        #plt.figtext(0.95,0.33, f\"Mode {str(df.agg({variable: lambda x: x.mode()})[variable].tolist())}\",\n",
    "         #           fontsize=6, ma='right')\n",
    "        plt.figtext(0.95,0.30, pd.Series(np.round(IQR,2), index=['IQR']).to_string(),\n",
    "                    fontsize=6, ma='right')\n",
    "        plt.figtext(0.95,0.26, pd.Series(np.round(lower_boundary,2), index=['Low']).to_string(),\n",
    "                    fontsize=6, ma='right')\n",
    "        plt.figtext(0.95,0.22, pd.Series(np.round(upper_boundary,2), index=['Upp']).to_string(),\n",
    "                    fontsize=6, ma='right')\n",
    "        plt.figtext(0.95,0.15, np.round(df[variable].dropna().agg(['skew', 'kurtosis']),2).to_string(),\n",
    "                    fontsize=7, ma='right')\n",
    "    #re.sub(re.compile(r\"[^\\S\\r\\n]{2,}\"), r'', pd.Series(prod_AM).to_string(index=False)) # find and replace all whitespace except \\n\n",
    "    #plt.title(f'Histogram {variable}');\n",
    "    \n",
    "    # remove border\n",
    "    sns.despine(bottom=True, left=True)"
   ]
  },
  {
   "cell_type": "code",
   "execution_count": 3,
   "id": "6aa999e9-f5cc-4942-8695-5dcb5764d5c3",
   "metadata": {},
   "outputs": [],
   "source": [
    "def box_plot(df, x, y=None, figsize=(7,4),palette=None, color='tab:blue', show_line=False, distance=1.5, whis=1.5, fliersize=3, order=None, alpha=1):\n",
    "    IQR = np.nanpercentile(df[x], 75) - np.nanpercentile(df[x], 25)\n",
    "\n",
    "    lower_boundary = np.nanpercentile(df[x], 25) - (IQR * distance) # distance = 1.5 or 3\n",
    "    upper_boundary = np.nanpercentile(df[x], 75) + (IQR * distance)\n",
    "    \n",
    "    plt.figure(figsize=figsize)\n",
    "    if y is not None:\n",
    "        df_ = df[[x,y]].copy()\n",
    "        df_[y] = df_[y].astype('str')\n",
    "    else:\n",
    "        df_ = df[[x]].copy()\n",
    "        \n",
    "    sns.boxplot(x=x,  y=y, data=df_, color=color, palette=palette, whis=whis, fliersize=fliersize, order=order, boxprops=dict(alpha=alpha))\n",
    "    if show_line:\n",
    "        #plt.axvline(x=np.nanpercentile(df[x],5),color='tab:gray', alpha=0.7)\n",
    "        #plt.axvline(x=customer_df['Age'].median(), color='tab:gray', label='Median', alpha=0.7)\n",
    "        #plt.axvline(x=np.nanpercentile(df[x],95),color='tab:gray', alpha=0.7)\n",
    "        if lower_boundary > df[x].min():\n",
    "            plt.axvline(x=lower_boundary,ls='dashed', color='tab:red', alpha=0.5, linewidth=1)\n",
    "        \n",
    "        if upper_boundary < df[x].max():\n",
    "            plt.axvline(x=upper_boundary,ls='dashed', color='tab:red', alpha=0.5, linewidth=1)\n",
    "\n",
    "    # remove border\n",
    "    plt.xlabel('')\n",
    "    sns.despine(bottom=True, left=True);"
   ]
  },
  {
   "cell_type": "markdown",
   "id": "17ec8a2c-e5eb-4330-a3c1-efe99e3417de",
   "metadata": {
    "id": "SHJR7ajIsgKD"
   },
   "source": [
    "# **Libraries and Data**"
   ]
  },
  {
   "cell_type": "code",
   "execution_count": 4,
   "id": "3e7c268a-1e0d-43da-94ca-d22d483d6b43",
   "metadata": {},
   "outputs": [],
   "source": [
    "import pandas as pd\n",
    "import numpy as np\n",
    "import seaborn as sns\n",
    "import matplotlib.pyplot as plt\n",
    "import scipy.stats as stats\n",
    "import datetime\n",
    "from dateutil.relativedelta import relativedelta\n",
    "#import fnmatch # wildcard library\n",
    "# set the max columns to none\n",
    "pd.set_option('display.max_columns', None)\n",
    "plt.style.use('seaborn-white')"
   ]
  },
  {
   "cell_type": "code",
   "execution_count": 5,
   "id": "b1954d57-2c6f-49b7-be7f-363cf40714fa",
   "metadata": {},
   "outputs": [],
   "source": [
    "df = pd.read_csv('D:/Documents/AI_and_Embedded_Systems/AI/Courses/Purwadhika/Module_2_Data_Analysis/Online_Learning/Capstone/Pakistan Largest Ecommerce Dataset.csv',low_memory=False)"
   ]
  },
  {
   "cell_type": "code",
   "execution_count": 6,
   "id": "c7e60ec7-4d78-42d5-8b1f-b00e9f81d647",
   "metadata": {},
   "outputs": [
    {
     "data": {
      "text/html": [
       "<div>\n",
       "<style scoped>\n",
       "    .dataframe tbody tr th:only-of-type {\n",
       "        vertical-align: middle;\n",
       "    }\n",
       "\n",
       "    .dataframe tbody tr th {\n",
       "        vertical-align: top;\n",
       "    }\n",
       "\n",
       "    .dataframe thead th {\n",
       "        text-align: right;\n",
       "    }\n",
       "</style>\n",
       "<table border=\"1\" class=\"dataframe\">\n",
       "  <thead>\n",
       "    <tr style=\"text-align: right;\">\n",
       "      <th></th>\n",
       "      <th>item_id</th>\n",
       "      <th>status</th>\n",
       "      <th>created_at</th>\n",
       "      <th>sku</th>\n",
       "      <th>price</th>\n",
       "      <th>qty_ordered</th>\n",
       "      <th>grand_total</th>\n",
       "      <th>increment_id</th>\n",
       "      <th>category_name_1</th>\n",
       "      <th>sales_commission_code</th>\n",
       "      <th>discount_amount</th>\n",
       "      <th>payment_method</th>\n",
       "      <th>Working Date</th>\n",
       "      <th>BI Status</th>\n",
       "      <th>MV</th>\n",
       "      <th>Year</th>\n",
       "      <th>Month</th>\n",
       "      <th>Customer Since</th>\n",
       "      <th>M-Y</th>\n",
       "      <th>FY</th>\n",
       "      <th>Customer ID</th>\n",
       "      <th>Unnamed: 21</th>\n",
       "      <th>Unnamed: 22</th>\n",
       "      <th>Unnamed: 23</th>\n",
       "      <th>Unnamed: 24</th>\n",
       "      <th>Unnamed: 25</th>\n",
       "    </tr>\n",
       "  </thead>\n",
       "  <tbody>\n",
       "    <tr>\n",
       "      <th>0</th>\n",
       "      <td>211131.0</td>\n",
       "      <td>complete</td>\n",
       "      <td>7/1/2016</td>\n",
       "      <td>kreations_YI 06-L</td>\n",
       "      <td>1950.0</td>\n",
       "      <td>1.0</td>\n",
       "      <td>1950.0</td>\n",
       "      <td>100147443</td>\n",
       "      <td>Women's Fashion</td>\n",
       "      <td>\\N</td>\n",
       "      <td>0.0</td>\n",
       "      <td>cod</td>\n",
       "      <td>7/1/2016</td>\n",
       "      <td>#REF!</td>\n",
       "      <td>1,950</td>\n",
       "      <td>2016.0</td>\n",
       "      <td>7.0</td>\n",
       "      <td>2016-7</td>\n",
       "      <td>7-2016</td>\n",
       "      <td>FY17</td>\n",
       "      <td>1.0</td>\n",
       "      <td>NaN</td>\n",
       "      <td>NaN</td>\n",
       "      <td>NaN</td>\n",
       "      <td>NaN</td>\n",
       "      <td>NaN</td>\n",
       "    </tr>\n",
       "    <tr>\n",
       "      <th>1</th>\n",
       "      <td>211133.0</td>\n",
       "      <td>canceled</td>\n",
       "      <td>7/1/2016</td>\n",
       "      <td>kcc_Buy 2 Frey Air Freshener &amp; Get 1 Kasual Bo...</td>\n",
       "      <td>240.0</td>\n",
       "      <td>1.0</td>\n",
       "      <td>240.0</td>\n",
       "      <td>100147444</td>\n",
       "      <td>Beauty &amp; Grooming</td>\n",
       "      <td>\\N</td>\n",
       "      <td>0.0</td>\n",
       "      <td>cod</td>\n",
       "      <td>7/1/2016</td>\n",
       "      <td>Gross</td>\n",
       "      <td>240</td>\n",
       "      <td>2016.0</td>\n",
       "      <td>7.0</td>\n",
       "      <td>2016-7</td>\n",
       "      <td>7-2016</td>\n",
       "      <td>FY17</td>\n",
       "      <td>2.0</td>\n",
       "      <td>NaN</td>\n",
       "      <td>NaN</td>\n",
       "      <td>NaN</td>\n",
       "      <td>NaN</td>\n",
       "      <td>NaN</td>\n",
       "    </tr>\n",
       "    <tr>\n",
       "      <th>2</th>\n",
       "      <td>211134.0</td>\n",
       "      <td>canceled</td>\n",
       "      <td>7/1/2016</td>\n",
       "      <td>Ego_UP0017-999-MR0</td>\n",
       "      <td>2450.0</td>\n",
       "      <td>1.0</td>\n",
       "      <td>2450.0</td>\n",
       "      <td>100147445</td>\n",
       "      <td>Women's Fashion</td>\n",
       "      <td>\\N</td>\n",
       "      <td>0.0</td>\n",
       "      <td>cod</td>\n",
       "      <td>7/1/2016</td>\n",
       "      <td>Gross</td>\n",
       "      <td>2,450</td>\n",
       "      <td>2016.0</td>\n",
       "      <td>7.0</td>\n",
       "      <td>2016-7</td>\n",
       "      <td>7-2016</td>\n",
       "      <td>FY17</td>\n",
       "      <td>3.0</td>\n",
       "      <td>NaN</td>\n",
       "      <td>NaN</td>\n",
       "      <td>NaN</td>\n",
       "      <td>NaN</td>\n",
       "      <td>NaN</td>\n",
       "    </tr>\n",
       "    <tr>\n",
       "      <th>3</th>\n",
       "      <td>211135.0</td>\n",
       "      <td>complete</td>\n",
       "      <td>7/1/2016</td>\n",
       "      <td>kcc_krone deal</td>\n",
       "      <td>360.0</td>\n",
       "      <td>1.0</td>\n",
       "      <td>60.0</td>\n",
       "      <td>100147446</td>\n",
       "      <td>Beauty &amp; Grooming</td>\n",
       "      <td>R-FSD-52352</td>\n",
       "      <td>300.0</td>\n",
       "      <td>cod</td>\n",
       "      <td>7/1/2016</td>\n",
       "      <td>Net</td>\n",
       "      <td>360</td>\n",
       "      <td>2016.0</td>\n",
       "      <td>7.0</td>\n",
       "      <td>2016-7</td>\n",
       "      <td>7-2016</td>\n",
       "      <td>FY17</td>\n",
       "      <td>4.0</td>\n",
       "      <td>NaN</td>\n",
       "      <td>NaN</td>\n",
       "      <td>NaN</td>\n",
       "      <td>NaN</td>\n",
       "      <td>NaN</td>\n",
       "    </tr>\n",
       "    <tr>\n",
       "      <th>4</th>\n",
       "      <td>211136.0</td>\n",
       "      <td>order_refunded</td>\n",
       "      <td>7/1/2016</td>\n",
       "      <td>BK7010400AG</td>\n",
       "      <td>555.0</td>\n",
       "      <td>2.0</td>\n",
       "      <td>1110.0</td>\n",
       "      <td>100147447</td>\n",
       "      <td>Soghaat</td>\n",
       "      <td>\\N</td>\n",
       "      <td>0.0</td>\n",
       "      <td>cod</td>\n",
       "      <td>7/1/2016</td>\n",
       "      <td>Valid</td>\n",
       "      <td>1,110</td>\n",
       "      <td>2016.0</td>\n",
       "      <td>7.0</td>\n",
       "      <td>2016-7</td>\n",
       "      <td>7-2016</td>\n",
       "      <td>FY17</td>\n",
       "      <td>5.0</td>\n",
       "      <td>NaN</td>\n",
       "      <td>NaN</td>\n",
       "      <td>NaN</td>\n",
       "      <td>NaN</td>\n",
       "      <td>NaN</td>\n",
       "    </tr>\n",
       "  </tbody>\n",
       "</table>\n",
       "</div>"
      ],
      "text/plain": [
       "    item_id          status created_at  \\\n",
       "0  211131.0        complete   7/1/2016   \n",
       "1  211133.0        canceled   7/1/2016   \n",
       "2  211134.0        canceled   7/1/2016   \n",
       "3  211135.0        complete   7/1/2016   \n",
       "4  211136.0  order_refunded   7/1/2016   \n",
       "\n",
       "                                                 sku   price  qty_ordered  \\\n",
       "0                                  kreations_YI 06-L  1950.0          1.0   \n",
       "1  kcc_Buy 2 Frey Air Freshener & Get 1 Kasual Bo...   240.0          1.0   \n",
       "2                                 Ego_UP0017-999-MR0  2450.0          1.0   \n",
       "3                                     kcc_krone deal   360.0          1.0   \n",
       "4                                        BK7010400AG   555.0          2.0   \n",
       "\n",
       "   grand_total increment_id    category_name_1 sales_commission_code  \\\n",
       "0       1950.0    100147443    Women's Fashion                    \\N   \n",
       "1        240.0    100147444  Beauty & Grooming                    \\N   \n",
       "2       2450.0    100147445    Women's Fashion                    \\N   \n",
       "3         60.0    100147446  Beauty & Grooming           R-FSD-52352   \n",
       "4       1110.0    100147447            Soghaat                    \\N   \n",
       "\n",
       "   discount_amount payment_method Working Date BI Status      MV     Year  \\\n",
       "0              0.0            cod     7/1/2016     #REF!   1,950   2016.0   \n",
       "1              0.0            cod     7/1/2016     Gross     240   2016.0   \n",
       "2              0.0            cod     7/1/2016     Gross   2,450   2016.0   \n",
       "3            300.0            cod     7/1/2016       Net     360   2016.0   \n",
       "4              0.0            cod     7/1/2016     Valid   1,110   2016.0   \n",
       "\n",
       "   Month Customer Since     M-Y    FY  Customer ID  Unnamed: 21  Unnamed: 22  \\\n",
       "0    7.0         2016-7  7-2016  FY17          1.0          NaN          NaN   \n",
       "1    7.0         2016-7  7-2016  FY17          2.0          NaN          NaN   \n",
       "2    7.0         2016-7  7-2016  FY17          3.0          NaN          NaN   \n",
       "3    7.0         2016-7  7-2016  FY17          4.0          NaN          NaN   \n",
       "4    7.0         2016-7  7-2016  FY17          5.0          NaN          NaN   \n",
       "\n",
       "   Unnamed: 23  Unnamed: 24  Unnamed: 25  \n",
       "0          NaN          NaN          NaN  \n",
       "1          NaN          NaN          NaN  \n",
       "2          NaN          NaN          NaN  \n",
       "3          NaN          NaN          NaN  \n",
       "4          NaN          NaN          NaN  "
      ]
     },
     "execution_count": 6,
     "metadata": {},
     "output_type": "execute_result"
    }
   ],
   "source": [
    "df.head()"
   ]
  },
  {
   "cell_type": "code",
   "execution_count": 7,
   "id": "8820fcc2-bb60-4ba2-bbde-095565f72e14",
   "metadata": {},
   "outputs": [
    {
     "data": {
      "text/plain": [
       "(1048575, 26)"
      ]
     },
     "execution_count": 7,
     "metadata": {},
     "output_type": "execute_result"
    }
   ],
   "source": [
    "df.shape"
   ]
  },
  {
   "cell_type": "markdown",
   "id": "48f6d687-80de-408f-9633-6053b86790eb",
   "metadata": {},
   "source": [
    "Dataset memiliki \n",
    "* 1048575 baris\n",
    "* 26 kolom"
   ]
  },
  {
   "cell_type": "markdown",
   "id": "427d653e-1563-4b99-a998-cc7266dcf7db",
   "metadata": {
    "id": "F9s1eOviQH6l"
   },
   "source": [
    "# **Data Cleaning**"
   ]
  },
  {
   "cell_type": "markdown",
   "id": "33095339-9e0b-41f7-a679-b0c50f5f39f7",
   "metadata": {
    "id": "F9s1eOviQH6l"
   },
   "source": [
    "## **Drop Unused Column**"
   ]
  },
  {
   "cell_type": "code",
   "execution_count": 8,
   "id": "f5f95abb-2d88-4e9e-ab06-84c81aa88b1c",
   "metadata": {},
   "outputs": [],
   "source": [
    "# drop kolom yang tidak diperlukan dalam analisa\n",
    "df.drop(['Unnamed: 21', 'Unnamed: 22', 'Unnamed: 23',\n",
    "         'Unnamed: 24', 'Unnamed: 25', 'increment_id',\n",
    "         'sales_commission_code', 'Working Date',\n",
    "         'BI Status', ' MV ', 'Year', 'M-Y', 'FY', 'Month'], axis=1, inplace=True)"
   ]
  },
  {
   "cell_type": "code",
   "execution_count": 9,
   "id": "eeaffb64-4638-4eae-b6ef-f533c9f0e8e5",
   "metadata": {},
   "outputs": [
    {
     "data": {
      "text/html": [
       "<div>\n",
       "<style scoped>\n",
       "    .dataframe tbody tr th:only-of-type {\n",
       "        vertical-align: middle;\n",
       "    }\n",
       "\n",
       "    .dataframe tbody tr th {\n",
       "        vertical-align: top;\n",
       "    }\n",
       "\n",
       "    .dataframe thead th {\n",
       "        text-align: right;\n",
       "    }\n",
       "</style>\n",
       "<table border=\"1\" class=\"dataframe\">\n",
       "  <thead>\n",
       "    <tr style=\"text-align: right;\">\n",
       "      <th></th>\n",
       "      <th>item_id</th>\n",
       "      <th>status</th>\n",
       "      <th>created_at</th>\n",
       "      <th>sku</th>\n",
       "      <th>price</th>\n",
       "      <th>qty_ordered</th>\n",
       "      <th>grand_total</th>\n",
       "      <th>category_name_1</th>\n",
       "      <th>discount_amount</th>\n",
       "      <th>payment_method</th>\n",
       "      <th>Customer Since</th>\n",
       "      <th>Customer ID</th>\n",
       "    </tr>\n",
       "  </thead>\n",
       "  <tbody>\n",
       "    <tr>\n",
       "      <th>0</th>\n",
       "      <td>211131.0</td>\n",
       "      <td>complete</td>\n",
       "      <td>7/1/2016</td>\n",
       "      <td>kreations_YI 06-L</td>\n",
       "      <td>1950.0</td>\n",
       "      <td>1.0</td>\n",
       "      <td>1950.0</td>\n",
       "      <td>Women's Fashion</td>\n",
       "      <td>0.0</td>\n",
       "      <td>cod</td>\n",
       "      <td>2016-7</td>\n",
       "      <td>1.0</td>\n",
       "    </tr>\n",
       "    <tr>\n",
       "      <th>1</th>\n",
       "      <td>211133.0</td>\n",
       "      <td>canceled</td>\n",
       "      <td>7/1/2016</td>\n",
       "      <td>kcc_Buy 2 Frey Air Freshener &amp; Get 1 Kasual Bo...</td>\n",
       "      <td>240.0</td>\n",
       "      <td>1.0</td>\n",
       "      <td>240.0</td>\n",
       "      <td>Beauty &amp; Grooming</td>\n",
       "      <td>0.0</td>\n",
       "      <td>cod</td>\n",
       "      <td>2016-7</td>\n",
       "      <td>2.0</td>\n",
       "    </tr>\n",
       "    <tr>\n",
       "      <th>2</th>\n",
       "      <td>211134.0</td>\n",
       "      <td>canceled</td>\n",
       "      <td>7/1/2016</td>\n",
       "      <td>Ego_UP0017-999-MR0</td>\n",
       "      <td>2450.0</td>\n",
       "      <td>1.0</td>\n",
       "      <td>2450.0</td>\n",
       "      <td>Women's Fashion</td>\n",
       "      <td>0.0</td>\n",
       "      <td>cod</td>\n",
       "      <td>2016-7</td>\n",
       "      <td>3.0</td>\n",
       "    </tr>\n",
       "    <tr>\n",
       "      <th>3</th>\n",
       "      <td>211135.0</td>\n",
       "      <td>complete</td>\n",
       "      <td>7/1/2016</td>\n",
       "      <td>kcc_krone deal</td>\n",
       "      <td>360.0</td>\n",
       "      <td>1.0</td>\n",
       "      <td>60.0</td>\n",
       "      <td>Beauty &amp; Grooming</td>\n",
       "      <td>300.0</td>\n",
       "      <td>cod</td>\n",
       "      <td>2016-7</td>\n",
       "      <td>4.0</td>\n",
       "    </tr>\n",
       "    <tr>\n",
       "      <th>4</th>\n",
       "      <td>211136.0</td>\n",
       "      <td>order_refunded</td>\n",
       "      <td>7/1/2016</td>\n",
       "      <td>BK7010400AG</td>\n",
       "      <td>555.0</td>\n",
       "      <td>2.0</td>\n",
       "      <td>1110.0</td>\n",
       "      <td>Soghaat</td>\n",
       "      <td>0.0</td>\n",
       "      <td>cod</td>\n",
       "      <td>2016-7</td>\n",
       "      <td>5.0</td>\n",
       "    </tr>\n",
       "  </tbody>\n",
       "</table>\n",
       "</div>"
      ],
      "text/plain": [
       "    item_id          status created_at  \\\n",
       "0  211131.0        complete   7/1/2016   \n",
       "1  211133.0        canceled   7/1/2016   \n",
       "2  211134.0        canceled   7/1/2016   \n",
       "3  211135.0        complete   7/1/2016   \n",
       "4  211136.0  order_refunded   7/1/2016   \n",
       "\n",
       "                                                 sku   price  qty_ordered  \\\n",
       "0                                  kreations_YI 06-L  1950.0          1.0   \n",
       "1  kcc_Buy 2 Frey Air Freshener & Get 1 Kasual Bo...   240.0          1.0   \n",
       "2                                 Ego_UP0017-999-MR0  2450.0          1.0   \n",
       "3                                     kcc_krone deal   360.0          1.0   \n",
       "4                                        BK7010400AG   555.0          2.0   \n",
       "\n",
       "   grand_total    category_name_1  discount_amount payment_method  \\\n",
       "0       1950.0    Women's Fashion              0.0            cod   \n",
       "1        240.0  Beauty & Grooming              0.0            cod   \n",
       "2       2450.0    Women's Fashion              0.0            cod   \n",
       "3         60.0  Beauty & Grooming            300.0            cod   \n",
       "4       1110.0            Soghaat              0.0            cod   \n",
       "\n",
       "  Customer Since  Customer ID  \n",
       "0         2016-7          1.0  \n",
       "1         2016-7          2.0  \n",
       "2         2016-7          3.0  \n",
       "3         2016-7          4.0  \n",
       "4         2016-7          5.0  "
      ]
     },
     "execution_count": 9,
     "metadata": {},
     "output_type": "execute_result"
    }
   ],
   "source": [
    "df.head()"
   ]
  },
  {
   "cell_type": "code",
   "execution_count": 10,
   "id": "0b3dd3ac-9afa-48be-a6e9-1c27176c86aa",
   "metadata": {},
   "outputs": [
    {
     "data": {
      "text/plain": [
       "(584524, 84889)"
      ]
     },
     "execution_count": 10,
     "metadata": {},
     "output_type": "execute_result"
    }
   ],
   "source": [
    "df['item_id'].nunique(), df['sku'].nunique()"
   ]
  },
  {
   "cell_type": "markdown",
   "id": "3f3ee6d5-ebb6-4434-afd9-f10dcf671f16",
   "metadata": {},
   "source": [
    "Karena item_id unik pada setiap baris sedangkan sku tidak, maka item_id adalah ID transaksi/order bukan ID barang. \n",
    "\n",
    "Berikut adalah kolom yang akan digunakan dalam proses analisis:\n",
    "\n",
    "* item_id: ID unik transaksi/order\n",
    "* status: status barang yang dibeli \n",
    "* created_at: tanggal order\n",
    "* sku: stock keeping unit, ID unik barang\n",
    "* price: harga barang\n",
    "* qty_ordered: jumlah barang yang dibeli\n",
    "* grand_total: total harga barang yang dibeli \n",
    "* category_name_1: kategori barang\n",
    "* discount_amount: diskon barang\n",
    "* payment_method: cara pembayaran\n",
    "* Customer Since: waktu pertama pelanggan menggunakan platform\n",
    "* Customer ID: ID pelanggan"
   ]
  },
  {
   "cell_type": "markdown",
   "id": "622b2870-a81d-466a-ac4c-3ec90b11996a",
   "metadata": {
    "id": "F9s1eOviQH6l"
   },
   "source": [
    "## **Missing Value Handling**"
   ]
  },
  {
   "cell_type": "code",
   "execution_count": 11,
   "id": "75268698-08bd-4986-8ac5-bffe4dd73a46",
   "metadata": {},
   "outputs": [
    {
     "data": {
      "text/plain": [
       "item_id            44.255394\n",
       "status             44.256825\n",
       "created_at         44.255394\n",
       "sku                44.257302\n",
       "price              44.255394\n",
       "qty_ordered        44.255394\n",
       "grand_total        44.255394\n",
       "category_name_1    44.271034\n",
       "discount_amount    44.255394\n",
       "payment_method     44.255394\n",
       "Customer Since     44.256443\n",
       "Customer ID        44.256443\n",
       "dtype: float64"
      ]
     },
     "execution_count": 11,
     "metadata": {},
     "output_type": "execute_result"
    }
   ],
   "source": [
    "df.isnull().mean()*100"
   ]
  },
  {
   "cell_type": "markdown",
   "id": "2da9fe45-01d4-449e-b416-3071ea591a88",
   "metadata": {},
   "source": [
    "Tiap kolom memiliki lebih dari 40% NaN value\n",
    "* ada kemungkinan bahwa semua kolom pada baris tertentu bernilai NaN karena kesalahan dalam penyimpanan data yang menyebabkan baris tanpa data ikut tercatat"
   ]
  },
  {
   "cell_type": "markdown",
   "id": "7bcef2ec-4e75-45bb-8ce2-9976085ece40",
   "metadata": {
    "id": "F9s1eOviQH6l"
   },
   "source": [
    "### **Drop Rows with All NaN Values**"
   ]
  },
  {
   "cell_type": "code",
   "execution_count": 12,
   "id": "f512225a-7b0d-41bf-80ae-bf33c7e9a145",
   "metadata": {},
   "outputs": [],
   "source": [
    "# drow row if have NaN in every column\n",
    "df.dropna(axis=0, how='all', inplace=True)"
   ]
  },
  {
   "cell_type": "code",
   "execution_count": 13,
   "id": "51658ed8-f2bd-4602-aa5f-8b35c3a9ca43",
   "metadata": {},
   "outputs": [
    {
     "data": {
      "text/plain": [
       "item_id            0.000000\n",
       "status             0.002566\n",
       "created_at         0.000000\n",
       "sku                0.003422\n",
       "price              0.000000\n",
       "qty_ordered        0.000000\n",
       "grand_total        0.000000\n",
       "category_name_1    0.028057\n",
       "discount_amount    0.000000\n",
       "payment_method     0.000000\n",
       "Customer Since     0.001882\n",
       "Customer ID        0.001882\n",
       "dtype: float64"
      ]
     },
     "execution_count": 13,
     "metadata": {},
     "output_type": "execute_result"
    }
   ],
   "source": [
    "df.isnull().mean()*100"
   ]
  },
  {
   "cell_type": "markdown",
   "id": "7d4fc08b-574e-4968-a6f6-73d251935884",
   "metadata": {},
   "source": [
    "Setelah dilakukan drop baris dengan kondisi jika memiliki NaN value di setiap kolom. \n",
    "* Dapat diperoleh persentase NaN value dibawah 1% untuk tiap kolom"
   ]
  },
  {
   "cell_type": "markdown",
   "id": "18716e43-36bf-4269-8aca-2b18c90f25bb",
   "metadata": {
    "id": "F9s1eOviQH6l"
   },
   "source": [
    "### **Drop Rows if Customer ID is NaN**"
   ]
  },
  {
   "cell_type": "code",
   "execution_count": 14,
   "id": "2fbd438a-c823-4e3b-95fc-159a3942176d",
   "metadata": {},
   "outputs": [],
   "source": [
    "df.dropna(subset=['Customer ID'], axis=0, inplace=True)"
   ]
  },
  {
   "cell_type": "code",
   "execution_count": 15,
   "id": "17024bf1-314c-40d7-84e1-e1d5c285c489",
   "metadata": {},
   "outputs": [
    {
     "data": {
      "text/plain": [
       "item_id            0.000000\n",
       "status             0.002566\n",
       "created_at         0.000000\n",
       "sku                0.003422\n",
       "price              0.000000\n",
       "qty_ordered        0.000000\n",
       "grand_total        0.000000\n",
       "category_name_1    0.028058\n",
       "discount_amount    0.000000\n",
       "payment_method     0.000000\n",
       "Customer Since     0.000000\n",
       "Customer ID        0.000000\n",
       "dtype: float64"
      ]
     },
     "execution_count": 15,
     "metadata": {},
     "output_type": "execute_result"
    }
   ],
   "source": [
    "df.isnull().mean()*100"
   ]
  },
  {
   "cell_type": "markdown",
   "id": "e69866e8-363a-43a6-a45c-2e91c79b831a",
   "metadata": {},
   "source": [
    "Karena customer wajib mendaftar sebelum menggunakan platform\n",
    "* maka baris yang tidak memiliki Customer ID akan di drop"
   ]
  },
  {
   "cell_type": "markdown",
   "id": "c7f45447-ee60-49f9-920b-8a0e729e065d",
   "metadata": {
    "id": "F9s1eOviQH6l"
   },
   "source": [
    "### **Most Frequent Imputation for NaN under 5%**"
   ]
  },
  {
   "cell_type": "code",
   "execution_count": 16,
   "id": "d5cef1df-1a75-48a4-a8c7-4c38158d8a5b",
   "metadata": {},
   "outputs": [],
   "source": [
    "df['sku'].fillna(df['sku'].mode()[0], inplace=True)\n",
    "df['status'].fillna(df['status'].mode()[0], inplace=True)\n",
    "df['category_name_1'].fillna(df['category_name_1'].mode()[0], inplace=True)"
   ]
  },
  {
   "cell_type": "code",
   "execution_count": 17,
   "id": "0a7e3314-422f-4686-a035-d072dec91a29",
   "metadata": {},
   "outputs": [
    {
     "data": {
      "text/plain": [
       "item_id            0.0\n",
       "status             0.0\n",
       "created_at         0.0\n",
       "sku                0.0\n",
       "price              0.0\n",
       "qty_ordered        0.0\n",
       "grand_total        0.0\n",
       "category_name_1    0.0\n",
       "discount_amount    0.0\n",
       "payment_method     0.0\n",
       "Customer Since     0.0\n",
       "Customer ID        0.0\n",
       "dtype: float64"
      ]
     },
     "execution_count": 17,
     "metadata": {},
     "output_type": "execute_result"
    }
   ],
   "source": [
    "df.isnull().mean()*100"
   ]
  },
  {
   "cell_type": "markdown",
   "id": "14d42b14-188c-48e6-8ba4-92d11543e7b8",
   "metadata": {},
   "source": [
    "Berdasarkan hasil tersebut\n",
    "\n",
    "* Jika NaN pada categorical data diatas 5%, NaN value bisa di labeli dengan kategori baru seperti \"Rare\" atau \"Other\" karena dianggap distribusi baru.\n",
    "* Karena NaN pada categorical data dibawah 5%, maka NaN akan di imputasi dengan nilai yang sering muncul."
   ]
  },
  {
   "cell_type": "markdown",
   "id": "1910642e-01f7-42d6-934e-22ad6b1d245b",
   "metadata": {
    "id": "uRacqcn-QH6v"
   },
   "source": [
    "## **Data Types Conversion**"
   ]
  },
  {
   "cell_type": "code",
   "execution_count": 18,
   "id": "cf8dcce8-d8e3-464e-8770-123152871930",
   "metadata": {},
   "outputs": [],
   "source": [
    "df['created_at'] = pd.to_datetime(df['created_at'])\n",
    "df['Customer Since'] = pd.to_datetime(df['Customer Since'])"
   ]
  },
  {
   "cell_type": "code",
   "execution_count": 19,
   "id": "04f5ef85-acae-4297-833a-ebbf9a9d1283",
   "metadata": {},
   "outputs": [],
   "source": [
    "df['item_id'] = df['item_id'].astype('Int64').astype('str')\n",
    "df['Customer ID'] = df['Customer ID'].astype('Int64').astype('str')"
   ]
  },
  {
   "cell_type": "markdown",
   "id": "9e3e33ba-bf8e-4b68-a7eb-7c58a72227e9",
   "metadata": {
    "id": "uRacqcn-QH6v"
   },
   "source": [
    "## **Data Consistency and Anomalies**"
   ]
  },
  {
   "cell_type": "markdown",
   "id": "b55d4554-e6ae-4cf0-bc58-dbe62d94fed6",
   "metadata": {},
   "source": [
    "### **Grouping Common Label**"
   ]
  },
  {
   "cell_type": "code",
   "execution_count": 20,
   "id": "7ca958a0-ca68-4469-aa08-1ecd86ae01c8",
   "metadata": {
    "colab": {
     "base_uri": "https://localhost:8080/"
    },
    "id": "EyQ94aUbQH6v",
    "outputId": "d5034c30-f2f9-4336-91d6-e64a01210ad8"
   },
   "outputs": [
    {
     "name": "stdout",
     "output_type": "stream",
     "text": [
      "nilai unik dari status :\n",
      "['COMPLETE' 'CANCELED' 'ORDER_REFUNDED' 'RECEIVED' 'REFUND' 'CLOSED'\n",
      " 'FRAUD' 'HOLDED' 'EXCHANGE' 'PENDING_PAYPAL' 'PAID' '\\\\N' 'COD' 'PENDING'\n",
      " 'PROCESSING' 'PAYMENT_REVIEW']\n",
      "====================================================================================================\n",
      "nilai unik dari category_name_1 :\n",
      "[\"WOMEN'S FASHION\" 'BEAUTY & GROOMING' 'SOGHAAT' 'MOBILES & TABLETS'\n",
      " 'APPLIANCES' 'HOME & LIVING' \"MEN'S FASHION\" 'KIDS & BABY' '\\\\N' 'OTHERS'\n",
      " 'ENTERTAINMENT' 'COMPUTING' 'SUPERSTORE' 'HEALTH & SPORTS' 'BOOKS'\n",
      " 'SCHOOL & EDUCATION']\n",
      "====================================================================================================\n",
      "nilai unik dari payment_method :\n",
      "['COD' 'UBLCREDITCARD' 'MYGATEWAY' 'CUSTOMERCREDIT' 'CASHATDOORSTEP'\n",
      " 'MCBLITE' 'INTERNETBANKING' 'MARKETINGEXPENSE' 'PRODUCTCREDIT'\n",
      " 'FINANCESETTLEMENT' 'PAYAXIS' 'JAZZVOUCHER' 'JAZZWALLET' 'EASYPAY'\n",
      " 'EASYPAY_MA' 'EASYPAY_VOUCHER' 'BANKALFALAH' 'APG']\n",
      "====================================================================================================\n"
     ]
    }
   ],
   "source": [
    "#check inkonsisten data menggunakan looping\n",
    "cat_col = list(df.select_dtypes(include='object').columns)\n",
    "for col in cat_col:\n",
    "    df[col] = df[col].str.upper()\n",
    "    if col in ['status', 'category_name_1', 'payment_method']:\n",
    "        print(f'nilai unik dari {col} :')\n",
    "        print(f'{df[col].unique()}')\n",
    "        print('=='*50)"
   ]
  },
  {
   "cell_type": "code",
   "execution_count": 21,
   "id": "1897717d-1caa-4f6d-9f32-d2d3792491cc",
   "metadata": {},
   "outputs": [
    {
     "data": {
      "text/plain": [
       "COMPLETE          39.982002\n",
       "CANCELED          34.429345\n",
       "RECEIVED          13.222803\n",
       "ORDER_REFUNDED    10.183520\n",
       "REFUND             1.377215\n",
       "COD                0.489125\n",
       "PAID               0.198285\n",
       "CLOSED             0.084515\n",
       "PAYMENT_REVIEW     0.009752\n",
       "PENDING            0.008212\n",
       "PROCESSING         0.005646\n",
       "HOLDED             0.005304\n",
       "FRAUD              0.001711\n",
       "PENDING_PAYPAL     0.001198\n",
       "EXCHANGE           0.000684\n",
       "\\N                 0.000684\n",
       "Name: status, dtype: float64"
      ]
     },
     "execution_count": 21,
     "metadata": {},
     "output_type": "execute_result"
    }
   ],
   "source": [
    "df['status'].value_counts()/len(df)*100"
   ]
  },
  {
   "cell_type": "code",
   "execution_count": 22,
   "id": "aa4ba780-b539-4e86-9211-045dedab71d3",
   "metadata": {},
   "outputs": [],
   "source": [
    "# Status\n",
    "\n",
    "# replace RECEIVED and CLOSED to COMPLETE\n",
    "df['status'] = np.where(df['status'].isin(['RECEIVED', 'CLOSED']),\n",
    "                        'COMPLETE', \n",
    "                        df['status']\n",
    "                       )\n",
    "\n",
    "# replace ORDER_REFUNDED and REFUND to CANCELED\n",
    "df['status'] = np.where(df['status'].isin(['ORDER_REFUNDED', 'REFUND']), \n",
    "                        'CANCELED', \n",
    "                        df['status']\n",
    "                       )\n",
    "\n",
    "# replace PENDING_PAYPAL, PAYMENT_REVIEW, PENDING, HOLDED, EXCHANGE, PAID, and COD to PROCESSING\n",
    "df['status'] = np.where(df['status'].isin(['PENDING_PAYPAL', 'PAYMENT_REVIEW', 'PENDING', 'HOLDED', 'EXCHANGE', 'PAID', 'COD']), \n",
    "                        'PROCESSING', \n",
    "                        df['status']\n",
    "                       )"
   ]
  },
  {
   "cell_type": "code",
   "execution_count": 23,
   "id": "eef88b7f-47ee-4257-93e7-83e6711ddc4c",
   "metadata": {},
   "outputs": [
    {
     "data": {
      "text/plain": [
       "COMPLETE      53.289319\n",
       "CANCELED      45.990081\n",
       "PROCESSING     0.718205\n",
       "FRAUD          0.001711\n",
       "\\N             0.000684\n",
       "Name: status, dtype: float64"
      ]
     },
     "execution_count": 23,
     "metadata": {},
     "output_type": "execute_result"
    }
   ],
   "source": [
    "df['status'].value_counts()/len(df)*100"
   ]
  },
  {
   "cell_type": "markdown",
   "id": "a5e0bf8b-8c26-4676-8a3b-a1b27f3283a1",
   "metadata": {},
   "source": [
    "Beberapa label di kolom status memiliki kesamaan arti:\n",
    "\n",
    "* RECEIVED dan CLOSED menjadi COMPLETE\n",
    "* ORDER_REFUNDED dan REFUND menjadi CANCELED\n",
    "* PENDING_PAYPAL, PAYMENT_REVIEW, PENDING, HOLDED, EXCHANGE, PAID, dan COD menjadi PROCESSING\n",
    "* Label \"PROCESSING\" dan \"FRAUD\" sangatlah kecil (0.7 dan 0.001%), jadi bisa di drop jika tidak diperlukan dalam analisis "
   ]
  },
  {
   "cell_type": "code",
   "execution_count": 24,
   "id": "ef9ff00c-9077-49cc-b7aa-c7eb78a49cbe",
   "metadata": {},
   "outputs": [
    {
     "data": {
      "text/plain": [
       "COD                  46.526767\n",
       "PAYAXIS              16.704504\n",
       "EASYPAY              14.182063\n",
       "JAZZWALLET            6.012698\n",
       "EASYPAY_VOUCHER       5.333671\n",
       "BANKALFALAH           3.946020\n",
       "JAZZVOUCHER           2.674534\n",
       "EASYPAY_MA            2.399776\n",
       "CUSTOMERCREDIT        1.292529\n",
       "APG                   0.300763\n",
       "UBLCREDITCARD         0.150895\n",
       "CASHATDOORSTEP        0.125232\n",
       "MCBLITE               0.123693\n",
       "MYGATEWAY             0.114454\n",
       "INTERNETBANKING       0.080751\n",
       "PRODUCTCREDIT         0.021385\n",
       "MARKETINGEXPENSE      0.007699\n",
       "FINANCESETTLEMENT     0.002566\n",
       "Name: payment_method, dtype: float64"
      ]
     },
     "execution_count": 24,
     "metadata": {},
     "output_type": "execute_result"
    }
   ],
   "source": [
    "df['payment_method'].value_counts()/len(df)*100"
   ]
  },
  {
   "cell_type": "code",
   "execution_count": 25,
   "id": "c323e308-cf89-41e4-94c1-42440606c908",
   "metadata": {},
   "outputs": [],
   "source": [
    "# Payment Method\n",
    "\n",
    "# replace EASYPAY_MA and EASYPAY_VOUCHER to EASYPAY\n",
    "df['payment_method'] = np.where(df['payment_method'].isin(['EASYPAY_MA', 'EASYPAY_VOUCHER']),\n",
    "                                'EASYPAY', \n",
    "                                df['payment_method']\n",
    "                               )"
   ]
  },
  {
   "cell_type": "markdown",
   "id": "527f0727-8699-4789-97e9-5865daac2c6f",
   "metadata": {},
   "source": [
    "Label EASYPAY di kolom payment_method memiliki label dengan fitur yang berbeda, sehingga dijadikan satu label:\n",
    "\n",
    "* EASYPAY_MA dan EASYPAY_VOUCHER menjadi EASYPAY"
   ]
  },
  {
   "cell_type": "markdown",
   "id": "fd4633f9-40a6-4b22-839e-ce975b32d9eb",
   "metadata": {
    "id": "uRacqcn-QH6v"
   },
   "source": [
    "### **Drop Anomalies Data**"
   ]
  },
  {
   "cell_type": "code",
   "execution_count": 26,
   "id": "eef1bdad-355b-4b14-86ef-947da1f3beeb",
   "metadata": {},
   "outputs": [
    {
     "data": {
      "text/plain": [
       "1.342998359317928"
      ]
     },
     "execution_count": 26,
     "metadata": {},
     "output_type": "execute_result"
    }
   ],
   "source": [
    "(len(df[(df['status'] == '\\\\N') |\n",
    "        (df['category_name_1'] == '\\\\N')])/len(df)\n",
    ")*100"
   ]
  },
  {
   "cell_type": "code",
   "execution_count": 27,
   "id": "fc1ea61e-b940-4e62-a439-cdf6cbe91356",
   "metadata": {},
   "outputs": [],
   "source": [
    "df.drop(df[(df['status'] == '\\\\N') |\n",
    "           (df['category_name_1'] == '\\\\N')].index,\n",
    "        axis=0,\n",
    "        inplace=True)"
   ]
  },
  {
   "cell_type": "markdown",
   "id": "5bf96915-5587-42bf-9d6f-a915d2850e98",
   "metadata": {},
   "source": [
    "Terdapat anomali data pada kolom \"status\" dan \"category_name_1\" dengan label \"\\\\N\"\n",
    "* Karena persentasenya sangat kecil (1%), maka baris dengan label \"\\\\N\" akan di drop"
   ]
  },
  {
   "cell_type": "markdown",
   "id": "5ad7c493-3e4a-4fb5-a981-075a0bd7d07d",
   "metadata": {
    "id": "uRacqcn-QH6v"
   },
   "source": [
    "### **Replace Anomalies Data**"
   ]
  },
  {
   "cell_type": "code",
   "execution_count": 28,
   "id": "84223cd8-3a35-4277-a2da-d103ab9b67e3",
   "metadata": {},
   "outputs": [
    {
     "data": {
      "text/html": [
       "<div>\n",
       "<style scoped>\n",
       "    .dataframe tbody tr th:only-of-type {\n",
       "        vertical-align: middle;\n",
       "    }\n",
       "\n",
       "    .dataframe tbody tr th {\n",
       "        vertical-align: top;\n",
       "    }\n",
       "\n",
       "    .dataframe thead th {\n",
       "        text-align: right;\n",
       "    }\n",
       "</style>\n",
       "<table border=\"1\" class=\"dataframe\">\n",
       "  <thead>\n",
       "    <tr style=\"text-align: right;\">\n",
       "      <th></th>\n",
       "      <th>price</th>\n",
       "      <th>grand_total</th>\n",
       "      <th>discount_amount</th>\n",
       "    </tr>\n",
       "  </thead>\n",
       "  <tbody>\n",
       "    <tr>\n",
       "      <th>count</th>\n",
       "      <td>5.766630e+05</td>\n",
       "      <td>5.766630e+05</td>\n",
       "      <td>576663.000000</td>\n",
       "    </tr>\n",
       "    <tr>\n",
       "      <th>mean</th>\n",
       "      <td>6.378782e+03</td>\n",
       "      <td>8.584670e+03</td>\n",
       "      <td>503.163399</td>\n",
       "    </tr>\n",
       "    <tr>\n",
       "      <th>std</th>\n",
       "      <td>1.500496e+04</td>\n",
       "      <td>6.172218e+04</td>\n",
       "      <td>1510.458286</td>\n",
       "    </tr>\n",
       "    <tr>\n",
       "      <th>min</th>\n",
       "      <td>0.000000e+00</td>\n",
       "      <td>-1.594000e+03</td>\n",
       "      <td>-599.500000</td>\n",
       "    </tr>\n",
       "    <tr>\n",
       "      <th>25%</th>\n",
       "      <td>3.600000e+02</td>\n",
       "      <td>9.518600e+02</td>\n",
       "      <td>0.000000</td>\n",
       "    </tr>\n",
       "    <tr>\n",
       "      <th>50%</th>\n",
       "      <td>9.000000e+02</td>\n",
       "      <td>1.986000e+03</td>\n",
       "      <td>0.000000</td>\n",
       "    </tr>\n",
       "    <tr>\n",
       "      <th>75%</th>\n",
       "      <td>4.053000e+03</td>\n",
       "      <td>6.998000e+03</td>\n",
       "      <td>164.850000</td>\n",
       "    </tr>\n",
       "    <tr>\n",
       "      <th>max</th>\n",
       "      <td>1.012626e+06</td>\n",
       "      <td>1.788800e+07</td>\n",
       "      <td>90300.000000</td>\n",
       "    </tr>\n",
       "  </tbody>\n",
       "</table>\n",
       "</div>"
      ],
      "text/plain": [
       "              price   grand_total  discount_amount\n",
       "count  5.766630e+05  5.766630e+05    576663.000000\n",
       "mean   6.378782e+03  8.584670e+03       503.163399\n",
       "std    1.500496e+04  6.172218e+04      1510.458286\n",
       "min    0.000000e+00 -1.594000e+03      -599.500000\n",
       "25%    3.600000e+02  9.518600e+02         0.000000\n",
       "50%    9.000000e+02  1.986000e+03         0.000000\n",
       "75%    4.053000e+03  6.998000e+03       164.850000\n",
       "max    1.012626e+06  1.788800e+07     90300.000000"
      ]
     },
     "execution_count": 28,
     "metadata": {},
     "output_type": "execute_result"
    }
   ],
   "source": [
    "df[['price','grand_total', 'discount_amount']].describe()"
   ]
  },
  {
   "cell_type": "code",
   "execution_count": 29,
   "id": "2c7601ab-888e-4fa5-873e-0563487c9ceb",
   "metadata": {},
   "outputs": [],
   "source": [
    "df = df[(df['grand_total']>0) & (df['discount_amount']>=0) & (df['price']>0)]"
   ]
  },
  {
   "cell_type": "markdown",
   "id": "1c0afdf3-8879-4664-98bc-e7c5c9ffd95a",
   "metadata": {},
   "source": [
    "Terdapat anomali data pada kolom \"grand_total\" dan \"discount_amount\", yaitu nilainya ada yang negatif (harga dan diskon seharusnya tidak negatif)\n",
    "* Maka akan di filter hanya include grand total dan diskon yang lebih dari 0"
   ]
  },
  {
   "cell_type": "markdown",
   "id": "93c70825-8ef5-447a-96ad-e89d339901d2",
   "metadata": {
    "id": "uRacqcn-QH6v"
   },
   "source": [
    "## **Add New Features (Feature Improvements)**"
   ]
  },
  {
   "cell_type": "markdown",
   "id": "504cf23c-98b6-44f3-837a-3f054f9ef7ae",
   "metadata": {
    "id": "uRacqcn-QH6v"
   },
   "source": [
    "### **Order Quantity Binning**"
   ]
  },
  {
   "cell_type": "code",
   "execution_count": 31,
   "id": "2c8ca358-36bd-4b34-b44f-4483a075ff58",
   "metadata": {},
   "outputs": [],
   "source": [
    "df['qty_bins'] = pd.cut(\n",
    "    df.qty_ordered,\n",
    "    bins=[0, 1, 2, 3, 4, 5, 10, 20, 100, 1000],\n",
    "    include_lowest=True,\n",
    "    labels=[\"1\", \"2\", \"3\", \"4\", \"5\", \"6-10\", \"11-20\", \"21-100\", \"101-1000\"]\n",
    ")"
   ]
  },
  {
   "cell_type": "markdown",
   "id": "2c379ad0-6980-4dae-886d-f17b1c64275e",
   "metadata": {
    "id": "uRacqcn-QH6v"
   },
   "source": [
    "### **Monthly Period**"
   ]
  },
  {
   "cell_type": "code",
   "execution_count": 36,
   "id": "c702fd89-5ba1-46ae-9f9e-c16cfaad3a60",
   "metadata": {},
   "outputs": [],
   "source": [
    "df[\"order_month\"] = df['created_at'].dt.to_period(\"M\")"
   ]
  },
  {
   "cell_type": "markdown",
   "id": "2c87b7a3-d71c-4649-b106-9691a840f668",
   "metadata": {
    "id": "uRacqcn-QH6v"
   },
   "source": [
    "### **Quarter Period**"
   ]
  },
  {
   "cell_type": "code",
   "execution_count": 37,
   "id": "c4470611-5564-40eb-9c1d-50fb558cebf9",
   "metadata": {},
   "outputs": [],
   "source": [
    "df[\"order_quarter\"] = df['created_at'].dt.to_period(\"Q\")"
   ]
  },
  {
   "cell_type": "markdown",
   "id": "3ad8d07a-0313-4954-9d4c-5063f0247351",
   "metadata": {
    "id": "uRacqcn-QH6v"
   },
   "source": [
    "### **Day of Week**"
   ]
  },
  {
   "cell_type": "code",
   "execution_count": 38,
   "id": "4627439e-1753-439f-80b4-18f5fdf9dfca",
   "metadata": {},
   "outputs": [],
   "source": [
    "dow_mapping = {\n",
    "    0: \"Monday\",\n",
    "    1: \"Tuesday\",\n",
    "    2: \"Wednesday\",\n",
    "    3: \"Thursday\",\n",
    "    4: \"Friday\",\n",
    "    5: \"Saturday\",\n",
    "    6: \"Sunday\",\n",
    "}\n",
    "\n",
    "df[\"day_of_week\"] = df['created_at'].dt.dayofweek"
   ]
  },
  {
   "cell_type": "code",
   "execution_count": 39,
   "id": "7eddba32-792d-48a0-9eeb-a39b882d3008",
   "metadata": {},
   "outputs": [],
   "source": [
    "df[\"day_of_week\"] = df[\"day_of_week\"].map(dow_mapping)"
   ]
  },
  {
   "cell_type": "markdown",
   "id": "3d6c674d-4716-43bd-8cee-4eb2980ae41a",
   "metadata": {
    "id": "uRacqcn-QH6v"
   },
   "source": [
    "### **Is Complete Order?**"
   ]
  },
  {
   "cell_type": "code",
   "execution_count": 40,
   "id": "f2bf93af-d203-4d9e-8287-739ff2730109",
   "metadata": {},
   "outputs": [],
   "source": [
    "df[\"is_complete\"] = df['status'].apply(lambda x: 1 if x in [\"COMPLETE\"] else 0)"
   ]
  },
  {
   "cell_type": "markdown",
   "id": "c4cc0cc0-065a-498e-baa9-e8dd3c9aa652",
   "metadata": {
    "id": "uRacqcn-QH6v"
   },
   "source": [
    "## **Check Duplicate Data**"
   ]
  },
  {
   "cell_type": "code",
   "execution_count": 41,
   "id": "0386c115-d94c-4653-a0b1-de1d43d56a0c",
   "metadata": {},
   "outputs": [
    {
     "data": {
      "text/plain": [
       "0"
      ]
     },
     "execution_count": 41,
     "metadata": {},
     "output_type": "execute_result"
    }
   ],
   "source": [
    "df.duplicated().sum()"
   ]
  },
  {
   "cell_type": "markdown",
   "id": "39817a8c-2d4d-4657-ac08-c4207fa0e3f6",
   "metadata": {},
   "source": [
    "Tidak ada duplikat data"
   ]
  },
  {
   "cell_type": "code",
   "execution_count": 42,
   "id": "af1ff169-b3ca-4b2b-aaed-be5f6fdbe28d",
   "metadata": {},
   "outputs": [],
   "source": [
    "df.reset_index(drop=True, inplace=True)"
   ]
  },
  {
   "cell_type": "code",
   "execution_count": 43,
   "id": "1b8f316c-157f-45e2-8f6a-abc47f1b6f47",
   "metadata": {},
   "outputs": [
    {
     "data": {
      "text/plain": [
       "(565003, 17)"
      ]
     },
     "execution_count": 43,
     "metadata": {},
     "output_type": "execute_result"
    }
   ],
   "source": [
    "df.shape"
   ]
  },
  {
   "cell_type": "markdown",
   "id": "8560cdbf-6bab-4af4-81e2-4c69d550ffaa",
   "metadata": {},
   "source": [
    "Dataset memiliki \n",
    "* 565003 baris\n",
    "* 17 kolom"
   ]
  },
  {
   "cell_type": "code",
   "execution_count": 44,
   "id": "9b7a0624-db58-43f0-80aa-809b80d6255e",
   "metadata": {},
   "outputs": [],
   "source": [
    "#df.to_csv(\"D:/Documents/AI_and_Embedded_Systems/AI/Courses/Purwadhika/Module_2_Data_Analysis/Online_Learning/Capstone/Pakistan_Ecommerce.csv\", index=False)  "
   ]
  },
  {
   "cell_type": "markdown",
   "id": "fe4ba025-8e8e-4af7-b6a7-822fdd5db94f",
   "metadata": {
    "id": "ko_NifDfr9bd"
   },
   "source": [
    "# **Exploratory Data Analysis**\n",
    "\n",
    "Analisa kali ini di filter berdasarkan status:\n",
    "\n",
    "* COMPLETE dan CANCELED\n",
    "\n",
    "NB: Average Order Value tidak diterapkan karena distribusi price tidak normal sehingga missleading dalam perancangan strategi. Contohnya AOV tinggi dengan price tinggi tapi order rendah, sekilas menunjukan performance yang bagus tetapi jika ditinjau secara quantity, akan menunjukan quantity penjualan yang rendah."
   ]
  },
  {
   "cell_type": "code",
   "execution_count": 45,
   "id": "d6b831f2-7934-4c12-9f37-07bf28c908d9",
   "metadata": {},
   "outputs": [],
   "source": [
    "df1 = df[df['status'].isin(['COMPLETE','CANCELED'])].copy()"
   ]
  },
  {
   "cell_type": "code",
   "execution_count": 46,
   "id": "811e6c3a-4d42-4c6c-8616-b103579ef473",
   "metadata": {},
   "outputs": [],
   "source": [
    "#df1.to_csv(\"D:/Documents/AI_and_Embedded_Systems/AI/Courses/Purwadhika/Module_2_Data_Analysis/Online_Learning/Capstone/Pakistan_Ecommerce_Complete_Cancel_Stat.csv\", index=False)  "
   ]
  },
  {
   "cell_type": "code",
   "execution_count": 47,
   "id": "25ea26a4-0b48-40b5-98a1-4021049bcae4",
   "metadata": {},
   "outputs": [
    {
     "data": {
      "text/plain": [
       "(561011, 17)"
      ]
     },
     "execution_count": 47,
     "metadata": {},
     "output_type": "execute_result"
    }
   ],
   "source": [
    "df1.shape"
   ]
  },
  {
   "cell_type": "markdown",
   "id": "dd310ea9-c09f-43eb-9246-27f5361c2faf",
   "metadata": {},
   "source": [
    "## Product Price\n",
    "\n",
    "Untuk menjawab pertanyaan berikut:\n",
    "* Berapa rentang harga produk yang sering dibeli customer?\n",
    "* Produk apa yang berada pada rentang harga tersebut?\n",
    "\n",
    "Akan dilakukan analisa terhadap harga dan kategori produk"
   ]
  },
  {
   "cell_type": "code",
   "execution_count": 48,
   "id": "30ceed1c-1940-4de6-a549-2a5609f8ed37",
   "metadata": {},
   "outputs": [
    {
     "data": {
      "image/png": "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\n",
      "text/plain": [
       "<Figure size 900x300 with 2 Axes>"
      ]
     },
     "metadata": {},
     "output_type": "display_data"
    }
   ],
   "source": [
    "single_histogram_check(df1,\n",
    "                       'price',\n",
    "                       show_cumulative=False,\n",
    "                       kde=False,\n",
    "                       figsize=(9,3),\n",
    "                       hist_plot=True,\n",
    "                       stat='percent',\n",
    "                       bins=5000\n",
    "                      )\n",
    "plt.xlim(0,np.nanpercentile(df1['price'],83));"
   ]
  },
  {
   "cell_type": "code",
   "execution_count": 49,
   "id": "d70daeca-8786-461b-9f85-790e64ac0d81",
   "metadata": {},
   "outputs": [],
   "source": [
    "mean_price_by_cat = df1.groupby([\"category_name_1\"]).agg(mean_price=(\"price\", \"mean\")).reset_index()"
   ]
  },
  {
   "cell_type": "code",
   "execution_count": 50,
   "id": "f2300e9d-db34-43dd-9464-f1c3f36acbe7",
   "metadata": {},
   "outputs": [
    {
     "data": {
      "image/png": "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\n",
      "text/plain": [
       "<Figure size 864x432 with 1 Axes>"
      ]
     },
     "metadata": {},
     "output_type": "display_data"
    }
   ],
   "source": [
    "# price distribution by category\n",
    "box_plot(df=df1, x='price',y='category_name_1',whis=0,fliersize=0, figsize=(12,6), alpha=0.7,\n",
    "        order=mean_price_by_cat.sort_values(by='mean_price', ascending=False)['category_name_1'].values,\n",
    "        palette=['tab:gray', 'tab:gray', 'tab:gray', 'tab:gray', 'tab:gray', 'tab:gray', 'tab:blue',\n",
    "                 'tab:blue', 'tab:blue', 'tab:blue', 'tab:blue','tab:blue','tab:blue','tab:blue','tab:blue'])\n",
    "plt.axvline(x=df1['price'].median(),ls='dashed',color='tab:red', alpha=1, linewidth=1)\n",
    "plt.ylabel('')\n",
    "plt.xlabel('Price')\n",
    "plt.xlim(0,np.nanpercentile(df['price'],95));"
   ]
  },
  {
   "cell_type": "code",
   "execution_count": 51,
   "id": "f010404e-ca18-4c60-b4dd-5ac1573775be",
   "metadata": {},
   "outputs": [
    {
     "data": {
      "image/png": "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\n",
      "text/plain": [
       "<Figure size 432x288 with 1 Axes>"
      ]
     },
     "metadata": {},
     "output_type": "display_data"
    }
   ],
   "source": [
    "# mean price by category\n",
    "sns.barplot(y='category_name_1', x='mean_price', data=mean_price_by_cat.sort_values(by='mean_price', ascending=False), color='tab:blue', orient='h', alpha=0.7,\n",
    "           palette=['tab:gray', 'tab:gray', 'tab:gray', 'tab:gray', 'tab:gray', 'tab:gray', 'tab:blue',\n",
    "                    'tab:blue', 'tab:blue', 'tab:blue', 'tab:blue','tab:blue','tab:blue','tab:blue','tab:blue'])\n",
    "#plt.xticks(rotation=90)\n",
    "plt.xlabel('Mean Price')\n",
    "plt.ylabel('')\n",
    "plt.axvline(x=df1['price'].median(),ls='dashed',color='tab:red', alpha=1, linewidth=1)\n",
    "# remove border\n",
    "sns.despine(bottom=True, left=True);"
   ]
  },
  {
   "cell_type": "markdown",
   "id": "0ee0da0b-3a41-44f1-b601-bd76cdcbaf57",
   "metadata": {},
   "source": [
    "Data analysis reveals customers prefer products priced below Quartile 2, 940\n",
    "\n",
    "Customer cenderung membeli produk dengan harga di bawah kisaran Q2 dan kemungkinan pembelian menurun secara signifikan di atas Q2. Ini berarti bahwa perusahaan disarankan fokus untuk menawarkan lebih banyak produk dalam kisaran harga ini untuk memenuhi permintaan customer dan meningkatkan kinerja penjualan.\n",
    "\n",
    "Key points:\n",
    "* Customer lebih sering membeli produk dengan harga di bawah 939.\n",
    "    * Perusahaan dapat lebih fokus dalam menawarkan produk-produk dengan harga dibawah 939 seperti \"Men's Fashion\", \"Home & Living\", dan \"Health & Sports\" untuk memenuhi permintaan pelanggan dan meningkatkan kinerja penjualan.\n",
    "* Data menunjukkan bahwa probabilitas pembelian di bawah 5% untuk produk dengan harga diatas 939. \n",
    "    * Perusahaan harus berhati-hati saat menetapkan harga produk mereka di atas titik harga ini dan mungkin ingin mempertimbangkan harga produk mereka secara lebih kompetitif untuk meningkatkan kinerja penjualan.\n",
    "* Diidentifikasi keberadaan outlier pada produk dengan harga di atas 10.000. Outlier ini mungkin mewakili sejumlah kecil produk berharga tinggi yang berbeda secara signifikan dari distribusi harga lainnya. \n",
    "    * Perusahaan disarankan menyelidiki produk berharga tinggi dan pengaruhnya terhadap penjualan.\n",
    "\n",
    "Consideration:\n",
    "* Perlu analisa lebih lanjut untuk produk dengan harga diatas 939, karena beberapa produk memiliki rentang harga yang lebar dan adanya brand yang mengeluarkan produk low-budget."
   ]
  },
  {
   "cell_type": "markdown",
   "id": "12a6fe43-728c-4460-826a-7915157e4ff2",
   "metadata": {},
   "source": [
    "## Order Quantity Frequency\n",
    "\n",
    "Untuk menjawab pertanyaan berikut:\n",
    "* Berapa order quantity customer?\n",
    "* Apa pengaruh order quantity terhadap status order customer?\n",
    "\n",
    "Akan dilakukan analisa order quantity berdasarkan status ordernya"
   ]
  },
  {
   "cell_type": "code",
   "execution_count": 52,
   "id": "191afc7a-27ea-47df-925b-b4435df3e163",
   "metadata": {
    "tags": []
   },
   "outputs": [],
   "source": [
    "# order quantity frequency\n",
    "orders_freq = df1.groupby(\"qty_bins\").agg(total_orders=(\"item_id\", \"nunique\"),\n",
    "                                         complete_orders=(\"is_complete\", \"sum\"),\n",
    "                                         complete_order_pct=(\"is_complete\", \"mean\")).reset_index()\n",
    "orders_freq['complete_order_pct'] = orders_freq['complete_order_pct']*100\n",
    "orders_freq[\"order_pct\"] = (orders_freq[\"total_orders\"] / orders_freq[\"total_orders\"].sum()) * 100"
   ]
  },
  {
   "cell_type": "code",
   "execution_count": 53,
   "id": "4e1cc2a1-fc31-498e-9240-a88731dde8e4",
   "metadata": {},
   "outputs": [],
   "source": [
    "#orders_freq.to_csv(\"D:/Documents/AI_and_Embedded_Systems/AI/Courses/Purwadhika/Module_2_Data_Analysis/Online_Learning/Capstone/orders_freq.csv\", index=False)  "
   ]
  },
  {
   "cell_type": "code",
   "execution_count": 54,
   "id": "2c023024-fc08-497e-a90c-89ad23686d6f",
   "metadata": {},
   "outputs": [
    {
     "data": {
      "text/html": [
       "<div>\n",
       "<style scoped>\n",
       "    .dataframe tbody tr th:only-of-type {\n",
       "        vertical-align: middle;\n",
       "    }\n",
       "\n",
       "    .dataframe tbody tr th {\n",
       "        vertical-align: top;\n",
       "    }\n",
       "\n",
       "    .dataframe thead th {\n",
       "        text-align: right;\n",
       "    }\n",
       "</style>\n",
       "<table border=\"1\" class=\"dataframe\">\n",
       "  <thead>\n",
       "    <tr style=\"text-align: right;\">\n",
       "      <th></th>\n",
       "      <th>qty_bins</th>\n",
       "      <th>total_orders</th>\n",
       "      <th>complete_orders</th>\n",
       "      <th>complete_order_pct</th>\n",
       "      <th>order_pct</th>\n",
       "    </tr>\n",
       "  </thead>\n",
       "  <tbody>\n",
       "    <tr>\n",
       "      <th>0</th>\n",
       "      <td>1</td>\n",
       "      <td>485062</td>\n",
       "      <td>262757</td>\n",
       "      <td>54.169776</td>\n",
       "      <td>86.462119</td>\n",
       "    </tr>\n",
       "  </tbody>\n",
       "</table>\n",
       "</div>"
      ],
      "text/plain": [
       "  qty_bins  total_orders  complete_orders  complete_order_pct  order_pct\n",
       "0        1        485062           262757           54.169776  86.462119"
      ]
     },
     "execution_count": 54,
     "metadata": {},
     "output_type": "execute_result"
    }
   ],
   "source": [
    "orders_freq.head(1)"
   ]
  },
  {
   "cell_type": "code",
   "execution_count": 55,
   "id": "8aa31f0f-31a5-48cd-8031-f12d77bac594",
   "metadata": {},
   "outputs": [
    {
     "data": {
      "image/png": "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\n",
      "text/plain": [
       "<Figure size 864x288 with 1 Axes>"
      ]
     },
     "metadata": {},
     "output_type": "display_data"
    }
   ],
   "source": [
    "plt.figure(figsize=(12,4))\n",
    "sns.lineplot(y='complete_order_pct', x='qty_bins', data=orders_freq, color='tab:orange', lw=1, marker='o')\n",
    "sns.barplot(y='order_pct', x='qty_bins', data=orders_freq, color='tab:blue', orient='v', alpha=0.8)\n",
    "#plt.xticks(rotation=90)\n",
    "plt.xlabel('Order Quantity')\n",
    "plt.ylabel('Total Orders %, Complete Orders %')\n",
    "plt.ylim(0,100)\n",
    "plt.tight_layout()\n",
    "# remove border\n",
    "sns.despine(bottom=True, left=True);"
   ]
  },
  {
   "cell_type": "code",
   "execution_count": 56,
   "id": "f3e48d3f-40f8-4041-a179-744436c40aa8",
   "metadata": {},
   "outputs": [],
   "source": [
    "# monthly order quantity frequency by order status\n",
    "monthly_orders_freq = df1.groupby([\"order_month\", \"qty_bins\"])\\\n",
    "                                .agg(total_orders=(\"item_id\", \"nunique\"),\n",
    "                                     complete_orders=(\"is_complete\", \"sum\"),\n",
    "                                     complete_order_pct=(\"is_complete\", \"mean\")\n",
    "                              ).reset_index()\n",
    "monthly_orders_freq['complete_order_pct'] = monthly_orders_freq['complete_order_pct']*100\n",
    "#monthly_orders_freq[\"order_pct\"] = (monthly_orders_freq[\"total_orders\"] / monthly_orders_freq[\"total_orders\"].sum()) * 100"
   ]
  },
  {
   "cell_type": "code",
   "execution_count": 57,
   "id": "784dd0e6-f020-4f26-85b8-af2057bd4438",
   "metadata": {},
   "outputs": [],
   "source": [
    "monthly_orders_freq['complete_order_pct'].fillna(0, inplace=True)"
   ]
  },
  {
   "cell_type": "code",
   "execution_count": 58,
   "id": "b40a7640-6587-4e32-82ed-b79f92e933d4",
   "metadata": {},
   "outputs": [],
   "source": [
    "#monthly_orders_freq.to_csv(\"D:/Documents/AI_and_Embedded_Systems/AI/Courses/Purwadhika/Module_2_Data_Analysis/Online_Learning/Capstone/monthly_orders_freq.csv\", index=False)  "
   ]
  },
  {
   "cell_type": "code",
   "execution_count": 59,
   "id": "ed77761b-3cbe-4a9a-af8c-510a294af15f",
   "metadata": {},
   "outputs": [
    {
     "data": {
      "text/html": [
       "<div>\n",
       "<style scoped>\n",
       "    .dataframe tbody tr th:only-of-type {\n",
       "        vertical-align: middle;\n",
       "    }\n",
       "\n",
       "    .dataframe tbody tr th {\n",
       "        vertical-align: top;\n",
       "    }\n",
       "\n",
       "    .dataframe thead th {\n",
       "        text-align: right;\n",
       "    }\n",
       "</style>\n",
       "<table border=\"1\" class=\"dataframe\">\n",
       "  <thead>\n",
       "    <tr style=\"text-align: right;\">\n",
       "      <th></th>\n",
       "      <th>order_month</th>\n",
       "      <th>qty_bins</th>\n",
       "      <th>total_orders</th>\n",
       "      <th>complete_orders</th>\n",
       "      <th>complete_order_pct</th>\n",
       "    </tr>\n",
       "  </thead>\n",
       "  <tbody>\n",
       "    <tr>\n",
       "      <th>0</th>\n",
       "      <td>2016-07</td>\n",
       "      <td>1</td>\n",
       "      <td>7361</td>\n",
       "      <td>4900</td>\n",
       "      <td>66.567043</td>\n",
       "    </tr>\n",
       "  </tbody>\n",
       "</table>\n",
       "</div>"
      ],
      "text/plain": [
       "  order_month qty_bins  total_orders  complete_orders  complete_order_pct\n",
       "0     2016-07        1          7361             4900           66.567043"
      ]
     },
     "execution_count": 59,
     "metadata": {},
     "output_type": "execute_result"
    }
   ],
   "source": [
    "monthly_orders_freq.head(1)"
   ]
  },
  {
   "cell_type": "code",
   "execution_count": 60,
   "id": "f09c259a-80a8-4b85-9b4d-530802cc3dee",
   "metadata": {},
   "outputs": [
    {
     "data": {
      "image/png": "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\n",
      "text/plain": [
       "<Figure size 504x288 with 1 Axes>"
      ]
     },
     "metadata": {},
     "output_type": "display_data"
    }
   ],
   "source": [
    "box_plot(df=monthly_orders_freq, x='complete_order_pct', y='qty_bins',whis=0, fliersize=0, alpha=0.7,\n",
    "        palette=['tab:blue', 'tab:blue', 'tab:blue', 'tab:blue', 'tab:blue', 'tab:gray', 'tab:blue', 'tab:gray', 'tab:gray'],\n",
    "        \n",
    "        )\n",
    "plt.ylabel('Order Quantity')\n",
    "plt.xlabel('Distribution of Complete Orders %');"
   ]
  },
  {
   "cell_type": "markdown",
   "id": "99835e5c-2abf-4ade-b7b1-94229a4a8ccf",
   "metadata": {},
   "source": [
    "Analysis reveals optimal order quantity range for complete orders\n",
    "\n",
    "Key points:\n",
    "* Lebih dari 80% order memiliki 1 quantity per order dengan rata-rata persentase complete order cenderung diatas 55% pada rentang order quantity 1-3 dan 6-10, selain order quantity tersebut cenderung mengalami penurunan. Hal ini mungkin menunjukkan bahwa customer lebih memilih untuk melakukan pembelian yang lebih kecil dengan produk yang lebih sedikit per order. \n",
    "    * Perusahaan direkomendasikan berfokus pada promosi penawaran bundel yang lebih kecil, order quantity 1-3  atau menerapkan loyalty program untuk customer yang melakukan order dengan quantity 6-10 untuk memaksimalkan kesempatan complete order demi meningkatkan penjualan.\n",
    "\n",
    "Consideration:\n",
    "* Jika perusahaan ingin lebih berhati-hati dalam menerapkan strategi promosi, lebih baik berfokus pada order quantity 1-5 dan 11-20 karena secara distribusi memiliki median persentase complete order lebih stabil diatas 55% dan rentang yang lebih sempit."
   ]
  },
  {
   "cell_type": "markdown",
   "id": "9d193f1e-d98d-4d7d-81b2-9bd3dd5016de",
   "metadata": {},
   "source": [
    "## Order by Category\n",
    "\n",
    "Untuk menjawab pertanyaan berikut:\n",
    "* Apakah ada perbedaan total order dan complete order rate tiap kategori\n",
    "\n",
    "Akan dilakukan analisa total order dan complete rate berdasarkan produk catogry"
   ]
  },
  {
   "cell_type": "code",
   "execution_count": 61,
   "id": "f2bde1bb-f718-4595-ad5e-a601f6aced7c",
   "metadata": {},
   "outputs": [],
   "source": [
    "# order frequency by product\n",
    "orders_freq_by_prod = df1.groupby([\"category_name_1\"]).agg(total_orders=(\"item_id\", \"nunique\"),\n",
    "                                         complete_orders=(\"is_complete\", \"sum\"),\n",
    "                                         complete_order_pct=(\"is_complete\", \"mean\")).reset_index().sort_values(by='total_orders', ascending=False)\n",
    "orders_freq_by_prod['complete_order_pct'] = orders_freq_by_prod['complete_order_pct']*100\n",
    "orders_freq_by_prod[\"order_pct\"] = (orders_freq_by_prod[\"total_orders\"] / orders_freq_by_prod[\"total_orders\"].sum()) * 100"
   ]
  },
  {
   "cell_type": "code",
   "execution_count": 62,
   "id": "225c67fe-56ab-472f-8616-f7b078e5417f",
   "metadata": {},
   "outputs": [],
   "source": [
    "#orders_freq_by_prod.to_csv(\"D:/Documents/AI_and_Embedded_Systems/AI/Courses/Purwadhika/Module_2_Data_Analysis/Online_Learning/Capstone/orders_freq_by_prod.csv\", index=False)  "
   ]
  },
  {
   "cell_type": "code",
   "execution_count": 63,
   "id": "26dd7466-90d2-4792-809a-cbf85dc8b63c",
   "metadata": {},
   "outputs": [
    {
     "data": {
      "image/png": "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\n",
      "text/plain": [
       "<Figure size 864x288 with 1 Axes>"
      ]
     },
     "metadata": {},
     "output_type": "display_data"
    }
   ],
   "source": [
    "plt.figure(figsize=(12,4))\n",
    "sns.lineplot(y='complete_order_pct', x='category_name_1', data=orders_freq_by_prod, color='tab:orange', lw=1, marker='o')\n",
    "sns.barplot(y='order_pct', x='category_name_1', data=orders_freq_by_prod, color='tab:blue', orient='v', alpha=0.8)\n",
    "#plt.xticks(rotation=90)\n",
    "plt.xlabel('')\n",
    "plt.ylabel('Total Orders %, Complete Orders %')\n",
    "plt.ylim(0,orders_freq_by_prod['complete_order_pct'].max() + 5)\n",
    "plt.tight_layout()\n",
    "plt.xticks(rotation=90)\n",
    "# remove border\n",
    "sns.despine(bottom=True, left=True);"
   ]
  },
  {
   "cell_type": "markdown",
   "id": "5a25f2a4-6e86-422c-9266-f063c6cbcbe3",
   "metadata": {},
   "source": [
    "Men's Fashion and Mobiles & Tablets are the top categories, but exhibit different cancellation rates\n",
    "\n",
    "Key points:\n",
    "* Analisis menunjukkan bahwa Men's Fashion dan Mobiles & Tablets adalah kategori tertinggi yang diorder customers, terhitung sekitar 15-20% dari total transaksi. Namun, mereka menunjukkan tingkat complete order rate yang berbeda. Rata-rata complete order rate untuk Mobiles & Tablets (42%) adalah sekitar 15% lebih rendah daripada Men's Fashion (57%). \n",
    "    * Perusahaan dapat fokus dalam menyusun strategi untuk meningkatkan complete order rate untuk kategori Mobiles & Tablets.\n",
    "    * Kategori Men's Fashion memiliki complete order rate yang tinggi, namun sangat penting untuk menjaga kualitas produk dan customer service untuk mempertahankan customer.\n",
    "* Beberapa kemungkinan penyebab complete order rate kategori Mobiles & Tablets lebih rendah dari Men's Fashion, antara lain karena Mobiles & Tablets memiliki rata-rata harga tinggi, sehingga customers mengurungkan niat untuk membeli atau produk yang sebenarnya tidak sesuai dari yang diiklankan\n",
    "    * Perusahaan bisa mempertimbangkan untuk menyediakan program cicilan atau memastikan bahwa produk aktual yang dikirim ke customer sesuai dengan iklan untuk meminimalkan jumlah order yang dibatalkan\n",
    "* Di sisi lain, Soghaat memiliki complete order rate tertinggi tetapi total ordernya rendah.\n",
    "    * Soghaat adalah produk makanan manis, complete order rate tinggi menunjukkan bahwa customer puas dengan produk dan layanannya. Namun, penting untuk berfokus pada peningkatan total order untuk kategori ini."
   ]
  },
  {
   "cell_type": "markdown",
   "id": "d55f6212-4e39-493f-8a85-e3eae1a41296",
   "metadata": {},
   "source": [
    "## **Trends of Grand Total and Total Orders**\n",
    "\n",
    "Untuk menjawab pertanyaan berikut:\n",
    "* Bagaimana pola grand total dan total order dari waktu ke waktu?\n",
    "* Apa dampaknya terhadap complete order rate\n",
    "\n",
    "Akan dilakukan analisa grand total (setelah diskon) tiap order secara quarter dan bulanan beserta rasio complete order"
   ]
  },
  {
   "cell_type": "markdown",
   "id": "9bbb9343-429d-4b45-95c0-4febe1ed5b98",
   "metadata": {},
   "source": [
    "### Quarterly"
   ]
  },
  {
   "cell_type": "code",
   "execution_count": 64,
   "id": "a9227dd7-2014-4e92-93d8-0ba87a788bfb",
   "metadata": {},
   "outputs": [],
   "source": [
    "quarter_trend = df1.groupby([\"order_quarter\"]).agg(\n",
    "                                         mean_grand_total=(\"grand_total\", \"mean\"),\n",
    "                                         total_orders=(\"item_id\", \"nunique\"),\n",
    "                                         complete_orders=(\"is_complete\", \"sum\"),\n",
    "                                         complete_order_pct=(\"is_complete\", \"mean\")\n",
    "                                        ).reset_index()\n",
    "quarter_trend['complete_order_pct'] = quarter_trend['complete_order_pct']*100\n",
    "#quarter_trend[\"order_pct\"] = (quarter_trend[\"total_orders\"] / quarter_trend[\"total_orders\"].sum()) * 100\n",
    "quarter_trend['AOV'] = quarter_trend['mean_grand_total']/quarter_trend['total_orders']"
   ]
  },
  {
   "cell_type": "code",
   "execution_count": 65,
   "id": "8202c7e0-bdc6-477e-a727-1d4f35db59cb",
   "metadata": {},
   "outputs": [
    {
     "data": {
      "text/html": [
       "<div>\n",
       "<style scoped>\n",
       "    .dataframe tbody tr th:only-of-type {\n",
       "        vertical-align: middle;\n",
       "    }\n",
       "\n",
       "    .dataframe tbody tr th {\n",
       "        vertical-align: top;\n",
       "    }\n",
       "\n",
       "    .dataframe thead th {\n",
       "        text-align: right;\n",
       "    }\n",
       "</style>\n",
       "<table border=\"1\" class=\"dataframe\">\n",
       "  <thead>\n",
       "    <tr style=\"text-align: right;\">\n",
       "      <th></th>\n",
       "      <th>order_quarter</th>\n",
       "      <th>mean_grand_total</th>\n",
       "      <th>total_orders</th>\n",
       "      <th>complete_orders</th>\n",
       "      <th>complete_order_pct</th>\n",
       "      <th>AOV</th>\n",
       "    </tr>\n",
       "  </thead>\n",
       "  <tbody>\n",
       "    <tr>\n",
       "      <th>4</th>\n",
       "      <td>2017Q3</td>\n",
       "      <td>5642.517948</td>\n",
       "      <td>50420</td>\n",
       "      <td>28926</td>\n",
       "      <td>57.370091</td>\n",
       "      <td>0.111910</td>\n",
       "    </tr>\n",
       "    <tr>\n",
       "      <th>5</th>\n",
       "      <td>2017Q4</td>\n",
       "      <td>8706.723791</td>\n",
       "      <td>114189</td>\n",
       "      <td>59704</td>\n",
       "      <td>52.285246</td>\n",
       "      <td>0.076248</td>\n",
       "    </tr>\n",
       "    <tr>\n",
       "      <th>6</th>\n",
       "      <td>2018Q1</td>\n",
       "      <td>10370.433055</td>\n",
       "      <td>79630</td>\n",
       "      <td>38930</td>\n",
       "      <td>48.888610</td>\n",
       "      <td>0.130233</td>\n",
       "    </tr>\n",
       "    <tr>\n",
       "      <th>7</th>\n",
       "      <td>2018Q2</td>\n",
       "      <td>15999.371525</td>\n",
       "      <td>52578</td>\n",
       "      <td>25092</td>\n",
       "      <td>47.723382</td>\n",
       "      <td>0.304298</td>\n",
       "    </tr>\n",
       "    <tr>\n",
       "      <th>8</th>\n",
       "      <td>2018Q3</td>\n",
       "      <td>19061.155847</td>\n",
       "      <td>21530</td>\n",
       "      <td>9231</td>\n",
       "      <td>42.875058</td>\n",
       "      <td>0.885330</td>\n",
       "    </tr>\n",
       "  </tbody>\n",
       "</table>\n",
       "</div>"
      ],
      "text/plain": [
       "  order_quarter  mean_grand_total  total_orders  complete_orders  \\\n",
       "4        2017Q3       5642.517948         50420            28926   \n",
       "5        2017Q4       8706.723791        114189            59704   \n",
       "6        2018Q1      10370.433055         79630            38930   \n",
       "7        2018Q2      15999.371525         52578            25092   \n",
       "8        2018Q3      19061.155847         21530             9231   \n",
       "\n",
       "   complete_order_pct       AOV  \n",
       "4           57.370091  0.111910  \n",
       "5           52.285246  0.076248  \n",
       "6           48.888610  0.130233  \n",
       "7           47.723382  0.304298  \n",
       "8           42.875058  0.885330  "
      ]
     },
     "execution_count": 65,
     "metadata": {},
     "output_type": "execute_result"
    }
   ],
   "source": [
    "#quarter_trend.to_csv(\"D:/Documents/AI_and_Embedded_Systems/AI/Courses/Purwadhika/Module_2_Data_Analysis/Online_Learning/Capstone/quarter_trend.csv\", index=False)  \n",
    "quarter_trend.tail()"
   ]
  },
  {
   "cell_type": "code",
   "execution_count": 66,
   "id": "5663790f-0d63-4b27-ad0a-1f8f78298031",
   "metadata": {},
   "outputs": [
    {
     "data": {
      "image/png": "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\n",
      "text/plain": [
       "<Figure size 864x144 with 1 Axes>"
      ]
     },
     "metadata": {},
     "output_type": "display_data"
    }
   ],
   "source": [
    "plt.figure(figsize=(12,2))\n",
    "\n",
    "sns.lineplot(x=quarter_trend['order_quarter'].astype('str'),\n",
    "             y=quarter_trend['complete_order_pct'],\n",
    "             color='tab:green'\n",
    "            )\n",
    "plt.xlabel('')\n",
    "plt.xticks(rotation=90)\n",
    "plt.ylabel('Complete Order %')\n",
    "plt.ylim(0, quarter_trend['complete_order_pct'].max() + 5);\n",
    "#plt.axvline(pd.to_datetime('2018-05-01'))\n",
    "\n",
    "# remove border\n",
    "sns.despine(bottom=True, left=True);"
   ]
  },
  {
   "cell_type": "code",
   "execution_count": 67,
   "id": "1226197c-a4a1-4571-994a-b931864240e3",
   "metadata": {},
   "outputs": [
    {
     "data": {
      "image/png": "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\n",
      "text/plain": [
       "<Figure size 864x360 with 1 Axes>"
      ]
     },
     "metadata": {},
     "output_type": "display_data"
    }
   ],
   "source": [
    "plt.figure(figsize=(12,5))\n",
    "sns.barplot(x=quarter_trend['order_quarter'].astype('str'),\n",
    "             y=quarter_trend['mean_grand_total'],\n",
    "             #ax=ax1,\n",
    "            #color='tab:gray',\n",
    "            palette=['tab:gray','tab:gray','tab:gray','tab:gray','tab:blue','tab:blue','tab:blue','tab:blue','tab:blue'],\n",
    "            alpha=0.7\n",
    "            )\n",
    "sns.lineplot(x=quarter_trend['order_quarter'].astype('str'),\n",
    "             y=quarter_trend['total_orders'],\n",
    "             #ax=ax1,\n",
    "             color='tab:orange',\n",
    "             lw=2\n",
    "            )\n",
    "plt.ylabel('Mean Grand Total, Total Orders')\n",
    "plt.xlabel('')\n",
    "plt.xticks(rotation=90)\n",
    "# remove border\n",
    "sns.despine(bottom=True, left=True);"
   ]
  },
  {
   "cell_type": "markdown",
   "id": "6d372aab-6381-4425-a242-d54920abf672",
   "metadata": {},
   "source": [
    "Grand total mean of orders has increased by 238% from 2017 Q3 to 2018 Q3. However, complete order rate has been decreasing over time.\n",
    "\n",
    "Key points untuk quarterly:\n",
    "\n",
    "* Rata-rata grand total terus meningkat sejak 2017 Q3. Bahkan, meningkat 238% dari Q3 2017 ke Q3 2018 dengan total orders tertinggi terjadi pada Q4. Namun, selama periode waktu yang sama, complete order rate mengalami penurunan dari waktu ke waktu tanpa pola yang jelas. \n",
    "* Analisis per quarter menunjukan bahwa total orders tertinggi ada di Q4 dengan orders lebih dari 90000\n",
    "    * Perusahaan dapat fokus pada Q4 dan mempertimbangkan untuk menerapkan strategi promosi untuk meningkatkan penjualan selama periode tersebut, karena memiliki volume order yang tinggi secara historis.\n",
    "    \n",
    "Consideration:\n",
    "* Butuh analisia lebih lanjut untuk memahami alasan di balik penurunan complete order rate, seperti masalah product quality, customer service atau customer experience."
   ]
  },
  {
   "cell_type": "markdown",
   "id": "79cdbc9e-c080-4c89-9d1d-b3fee17adf54",
   "metadata": {},
   "source": [
    "### Monthly"
   ]
  },
  {
   "cell_type": "code",
   "execution_count": 68,
   "id": "5e0eeec4-dbb3-4e31-966b-027ee2c2c97a",
   "metadata": {},
   "outputs": [],
   "source": [
    "monthly_trend = df1.groupby([\"order_month\"]).agg(\n",
    "                                     mean_grand_total=(\"grand_total\", \"mean\"),\n",
    "                                     total_orders=(\"item_id\", \"nunique\"),\n",
    "                                     complete_orders=(\"is_complete\", \"sum\"),\n",
    "                                     complete_order_pct=(\"is_complete\", \"mean\")\n",
    "\n",
    "                                    ).reset_index()\n",
    "monthly_trend['complete_order_pct'] = monthly_trend['complete_order_pct']*100\n",
    "#monthly_trend[\"order_pct\"] = (monthly_trend[\"total_orders\"] / monthly_trend[\"total_orders\"].sum()) * 100\n",
    "monthly_trend['AOV'] = monthly_trend['mean_grand_total']/monthly_trend['total_orders']"
   ]
  },
  {
   "cell_type": "code",
   "execution_count": 69,
   "id": "a9ea4f14-3b9b-4fee-8985-3bd9c0766863",
   "metadata": {},
   "outputs": [
    {
     "data": {
      "text/html": [
       "<div>\n",
       "<style scoped>\n",
       "    .dataframe tbody tr th:only-of-type {\n",
       "        vertical-align: middle;\n",
       "    }\n",
       "\n",
       "    .dataframe tbody tr th {\n",
       "        vertical-align: top;\n",
       "    }\n",
       "\n",
       "    .dataframe thead th {\n",
       "        text-align: right;\n",
       "    }\n",
       "</style>\n",
       "<table border=\"1\" class=\"dataframe\">\n",
       "  <thead>\n",
       "    <tr style=\"text-align: right;\">\n",
       "      <th></th>\n",
       "      <th>order_month</th>\n",
       "      <th>mean_grand_total</th>\n",
       "      <th>total_orders</th>\n",
       "      <th>complete_orders</th>\n",
       "      <th>complete_order_pct</th>\n",
       "      <th>AOV</th>\n",
       "    </tr>\n",
       "  </thead>\n",
       "  <tbody>\n",
       "    <tr>\n",
       "      <th>0</th>\n",
       "      <td>2016-07</td>\n",
       "      <td>5295.429308</td>\n",
       "      <td>7932</td>\n",
       "      <td>5266</td>\n",
       "      <td>66.389309</td>\n",
       "      <td>0.667603</td>\n",
       "    </tr>\n",
       "    <tr>\n",
       "      <th>1</th>\n",
       "      <td>2016-08</td>\n",
       "      <td>4959.094994</td>\n",
       "      <td>11166</td>\n",
       "      <td>7370</td>\n",
       "      <td>66.003941</td>\n",
       "      <td>0.444125</td>\n",
       "    </tr>\n",
       "    <tr>\n",
       "      <th>2</th>\n",
       "      <td>2016-09</td>\n",
       "      <td>5669.054307</td>\n",
       "      <td>14255</td>\n",
       "      <td>7614</td>\n",
       "      <td>53.412838</td>\n",
       "      <td>0.397689</td>\n",
       "    </tr>\n",
       "    <tr>\n",
       "      <th>3</th>\n",
       "      <td>2016-10</td>\n",
       "      <td>7266.060396</td>\n",
       "      <td>12132</td>\n",
       "      <td>7037</td>\n",
       "      <td>58.003627</td>\n",
       "      <td>0.598917</td>\n",
       "    </tr>\n",
       "    <tr>\n",
       "      <th>4</th>\n",
       "      <td>2016-11</td>\n",
       "      <td>3810.305749</td>\n",
       "      <td>68089</td>\n",
       "      <td>38442</td>\n",
       "      <td>56.458459</td>\n",
       "      <td>0.055961</td>\n",
       "    </tr>\n",
       "  </tbody>\n",
       "</table>\n",
       "</div>"
      ],
      "text/plain": [
       "  order_month  mean_grand_total  total_orders  complete_orders  \\\n",
       "0     2016-07       5295.429308          7932             5266   \n",
       "1     2016-08       4959.094994         11166             7370   \n",
       "2     2016-09       5669.054307         14255             7614   \n",
       "3     2016-10       7266.060396         12132             7037   \n",
       "4     2016-11       3810.305749         68089            38442   \n",
       "\n",
       "   complete_order_pct       AOV  \n",
       "0           66.389309  0.667603  \n",
       "1           66.003941  0.444125  \n",
       "2           53.412838  0.397689  \n",
       "3           58.003627  0.598917  \n",
       "4           56.458459  0.055961  "
      ]
     },
     "execution_count": 69,
     "metadata": {},
     "output_type": "execute_result"
    }
   ],
   "source": [
    "#monthly_trend.to_csv(\"D:/Documents/AI_and_Embedded_Systems/AI/Courses/Purwadhika/Module_2_Data_Analysis/Online_Learning/Capstone/monthly_trend.csv\", index=False)  \n",
    "monthly_trend.head()"
   ]
  },
  {
   "cell_type": "code",
   "execution_count": 70,
   "id": "30ef7496-eee3-4632-9d93-1ff8c9e7132a",
   "metadata": {},
   "outputs": [
    {
     "data": {
      "image/png": "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\n",
      "text/plain": [
       "<Figure size 576x144 with 1 Axes>"
      ]
     },
     "metadata": {},
     "output_type": "display_data"
    }
   ],
   "source": [
    "plt.figure(figsize=(8,2))\n",
    "\n",
    "sns.lineplot(x=monthly_trend['order_month'].astype('str'),\n",
    "             y=monthly_trend['complete_order_pct'],\n",
    "             color='tab:green'\n",
    "            )\n",
    "plt.xlabel('')\n",
    "plt.xticks(rotation=90)\n",
    "plt.ylabel('Complete Order %')\n",
    "plt.ylim(0, monthly_trend['complete_order_pct'].max() + 5);\n",
    "#plt.axvline(pd.to_datetime('2018-05-01'))\n",
    "\n",
    "# remove border\n",
    "sns.despine(bottom=True, left=True);"
   ]
  },
  {
   "cell_type": "code",
   "execution_count": 72,
   "id": "2bb61d46-974f-4e77-8fdc-aaa794756ab9",
   "metadata": {},
   "outputs": [
    {
     "data": {
      "image/png": "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\n",
      "text/plain": [
       "<Figure size 864x360 with 1 Axes>"
      ]
     },
     "metadata": {},
     "output_type": "display_data"
    }
   ],
   "source": [
    "plt.figure(figsize=(12,5))\n",
    "sns.barplot(x=monthly_trend['order_month'].astype('str'),\n",
    "             y=monthly_trend['mean_grand_total'],\n",
    "             #ax=ax1,\n",
    "            #color='tab:gray',\n",
    "            palette=['tab:gray','tab:gray','tab:gray','tab:gray','tab:gray','tab:gray','tab:gray','tab:gray','tab:gray','tab:gray',\n",
    "                     'tab:gray','tab:blue','tab:gray','tab:gray','tab:gray','tab:gray','tab:gray','tab:gray','tab:gray','tab:gray',\n",
    "                     'tab:gray','tab:gray','tab:gray','tab:blue','tab:gray','tab:gray'\n",
    "                    ],\n",
    "            alpha=0.7\n",
    "            )\n",
    "sns.lineplot(x=monthly_trend['order_month'].astype('str'),\n",
    "             y=monthly_trend['total_orders'],\n",
    "             #ax=ax1,\n",
    "             color='tab:orange',\n",
    "             lw=2\n",
    "            )\n",
    "plt.ylabel('Mean Grand Total, Total Orders')\n",
    "plt.xlabel('')\n",
    "plt.xticks(rotation=90)\n",
    "# remove border\n",
    "sns.despine(bottom=True, left=True);"
   ]
  },
  {
   "cell_type": "markdown",
   "id": "b125ecac-ac16-4274-8af5-5bff0dd1a4d8",
   "metadata": {},
   "source": [
    "Analysis Reveals Highest Total Orders in November, with surge rise in May\n",
    "\n",
    "Key points untuk monthly:\n",
    "* Total orders terbesar terjadi pada bulan November dengan order lebih dari 60k. Total orders kedua terbesar terjadi pada bulan Mei dengan order mencapai 25k. \n",
    "    * Perusahaan dapat fokus mempersiapkan volume order yang tinggi di bulan November dan Mei serta mempertimbangkan untuk meningkatkan stock pada bulan tersebut untuk memenuhi permintaan customer\n",
    "* Analisis lebih lanjut dengan data bulanan menunjukkan bahwa pada bulan Juni rata-rata grand total cenderung lebih tinggi dengan rentang mencapai 1.5-1.7 kali rata-rata grand total bulan-bulan lainnya. \n",
    "    * Perusahaan dapat memanfaatkan tren rata-rata grand total yang lebih tinggi di bulan Juni dengan memberikan penawaran dan promosi untuk menarik lebih banyak customer.\n",
    "    \n",
    "Consideration:\n",
    "* Terjadi lonjakan order pada bulan Agustus 2017 dan Maret 2018 hingga mencapai 45k order, hal ini kemungkinan dikarenakan campaign atau hari besar (non-kalendar masehi) yang terjadi di bulan tersebut. \n",
    "    * Butuh analisa lebih lanjut di tahun berikutnya atau sebelumnya untuk mengetahui adanya perubahan pola, untuk sementara perusahaan dapat mereplikasi strategi yang menyebabkan lonjakan tersebut"
   ]
  },
  {
   "cell_type": "markdown",
   "id": "5d7bc6df-ccfb-4240-b41b-a40f08dc3170",
   "metadata": {},
   "source": [
    "### **Day of Week**"
   ]
  },
  {
   "cell_type": "code",
   "execution_count": 73,
   "id": "aee28ad0-f87b-4fe5-a137-43181d5a0592",
   "metadata": {},
   "outputs": [],
   "source": [
    "dow_trend = df1.groupby([\"day_of_week\"]).agg(\n",
    "                                     mean_grand_total=(\"grand_total\", \"mean\"),\n",
    "                                     total_orders=(\"item_id\", \"nunique\"),\n",
    "                                     complete_orders=(\"is_complete\", \"sum\"),\n",
    "                                     complete_order_pct=(\"is_complete\", \"mean\")\n",
    "\n",
    "                                    ).reset_index()\n",
    "dow_trend['complete_order_pct'] = dow_trend['complete_order_pct']*100\n",
    "#dow_trend[\"order_pct\"] = (dow_trend[\"total_orders\"] / dow_trend[\"total_orders\"].sum()) * 100\n",
    "dow_trend['AOV'] = dow_trend['mean_grand_total']/dow_trend['total_orders']"
   ]
  },
  {
   "cell_type": "code",
   "execution_count": 74,
   "id": "91d69d55-eb91-46ae-b76a-f3ea09036b5a",
   "metadata": {},
   "outputs": [
    {
     "data": {
      "text/html": [
       "<div>\n",
       "<style scoped>\n",
       "    .dataframe tbody tr th:only-of-type {\n",
       "        vertical-align: middle;\n",
       "    }\n",
       "\n",
       "    .dataframe tbody tr th {\n",
       "        vertical-align: top;\n",
       "    }\n",
       "\n",
       "    .dataframe thead th {\n",
       "        text-align: right;\n",
       "    }\n",
       "</style>\n",
       "<table border=\"1\" class=\"dataframe\">\n",
       "  <thead>\n",
       "    <tr style=\"text-align: right;\">\n",
       "      <th></th>\n",
       "      <th>day_of_week</th>\n",
       "      <th>mean_grand_total</th>\n",
       "      <th>total_orders</th>\n",
       "      <th>complete_orders</th>\n",
       "      <th>complete_order_pct</th>\n",
       "      <th>AOV</th>\n",
       "    </tr>\n",
       "  </thead>\n",
       "  <tbody>\n",
       "    <tr>\n",
       "      <th>0</th>\n",
       "      <td>Friday</td>\n",
       "      <td>8965.707869</td>\n",
       "      <td>125014</td>\n",
       "      <td>66139</td>\n",
       "      <td>52.905275</td>\n",
       "      <td>0.071718</td>\n",
       "    </tr>\n",
       "    <tr>\n",
       "      <th>1</th>\n",
       "      <td>Monday</td>\n",
       "      <td>8993.260747</td>\n",
       "      <td>71957</td>\n",
       "      <td>39710</td>\n",
       "      <td>55.185736</td>\n",
       "      <td>0.124981</td>\n",
       "    </tr>\n",
       "    <tr>\n",
       "      <th>2</th>\n",
       "      <td>Saturday</td>\n",
       "      <td>8453.583001</td>\n",
       "      <td>76390</td>\n",
       "      <td>43008</td>\n",
       "      <td>56.300563</td>\n",
       "      <td>0.110663</td>\n",
       "    </tr>\n",
       "    <tr>\n",
       "      <th>3</th>\n",
       "      <td>Sunday</td>\n",
       "      <td>8567.983106</td>\n",
       "      <td>60733</td>\n",
       "      <td>33241</td>\n",
       "      <td>54.733012</td>\n",
       "      <td>0.141076</td>\n",
       "    </tr>\n",
       "    <tr>\n",
       "      <th>4</th>\n",
       "      <td>Thursday</td>\n",
       "      <td>9289.727103</td>\n",
       "      <td>81323</td>\n",
       "      <td>41602</td>\n",
       "      <td>51.156499</td>\n",
       "      <td>0.114232</td>\n",
       "    </tr>\n",
       "  </tbody>\n",
       "</table>\n",
       "</div>"
      ],
      "text/plain": [
       "  day_of_week  mean_grand_total  total_orders  complete_orders  \\\n",
       "0      Friday       8965.707869        125014            66139   \n",
       "1      Monday       8993.260747         71957            39710   \n",
       "2    Saturday       8453.583001         76390            43008   \n",
       "3      Sunday       8567.983106         60733            33241   \n",
       "4    Thursday       9289.727103         81323            41602   \n",
       "\n",
       "   complete_order_pct       AOV  \n",
       "0           52.905275  0.071718  \n",
       "1           55.185736  0.124981  \n",
       "2           56.300563  0.110663  \n",
       "3           54.733012  0.141076  \n",
       "4           51.156499  0.114232  "
      ]
     },
     "execution_count": 74,
     "metadata": {},
     "output_type": "execute_result"
    }
   ],
   "source": [
    "#dow_trend.to_csv(\"D:/Documents/AI_and_Embedded_Systems/AI/Courses/Purwadhika/Module_2_Data_Analysis/Online_Learning/Capstone/dow_trend.csv\", index=False)  \n",
    "dow_trend.head()"
   ]
  },
  {
   "cell_type": "code",
   "execution_count": 75,
   "id": "9e69852b-f80c-42e1-930f-525e98ae8455",
   "metadata": {},
   "outputs": [],
   "source": [
    "# set ordered categorical\n",
    "dow_trend['day_of_week'] = pd.Categorical(dow_trend['day_of_week'],\n",
    "                                   categories=['Monday', 'Tuesday', 'Wednesday', 'Thursday', 'Friday', 'Saturday', 'Sunday'],\n",
    "                                   ordered=True)"
   ]
  },
  {
   "cell_type": "code",
   "execution_count": 76,
   "id": "b2457560-9c6d-44a5-af99-d19a2902eff5",
   "metadata": {},
   "outputs": [
    {
     "data": {
      "image/png": "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\n",
      "text/plain": [
       "<Figure size 576x144 with 1 Axes>"
      ]
     },
     "metadata": {},
     "output_type": "display_data"
    }
   ],
   "source": [
    "plt.figure(figsize=(8,2))\n",
    "\n",
    "sns.lineplot(x=dow_trend['day_of_week'],\n",
    "             y=dow_trend['complete_order_pct'],\n",
    "             color='tab:green'\n",
    "            )\n",
    "plt.xlabel('')\n",
    "plt.xticks(rotation=90)\n",
    "plt.ylim(0, dow_trend['complete_order_pct'].max() + 5);\n",
    "#plt.axvline(pd.to_datetime('2018-05-01'))\n",
    "\n",
    "# remove border\n",
    "sns.despine(bottom=True, left=True);"
   ]
  },
  {
   "cell_type": "code",
   "execution_count": 77,
   "id": "5d2f0168-72dc-401f-b902-4f1eb8365a15",
   "metadata": {},
   "outputs": [
    {
     "data": {
      "image/png": "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\n",
      "text/plain": [
       "<Figure size 360x360 with 1 Axes>"
      ]
     },
     "metadata": {},
     "output_type": "display_data"
    }
   ],
   "source": [
    "#fig, ax1 = plt.subplots(figsize=(12,5))\n",
    "plt.figure(figsize=(5,5))\n",
    "sns.barplot(x=dow_trend['day_of_week'],\n",
    "             y=dow_trend['mean_grand_total'],\n",
    "             #ax=ax1,\n",
    "            color='tab:gray',\n",
    "            alpha=0.7\n",
    "            )\n",
    "sns.lineplot(x=dow_trend['day_of_week'],\n",
    "             y=dow_trend['total_orders'],\n",
    "             #ax=ax1,\n",
    "             color='tab:orange',\n",
    "             lw=2\n",
    "            )\n",
    "plt.ylabel('Mean Grand Total, Total Orders')\n",
    "plt.xlabel('')\n",
    "plt.xticks(rotation=90)\n",
    "# remove border\n",
    "sns.despine(bottom=True, left=True);"
   ]
  },
  {
   "cell_type": "markdown",
   "id": "72828ba9-c1c0-4683-a35f-d2c9aacd12c0",
   "metadata": {},
   "source": [
    "Fridays see the highest total order, complete order rate stable\n",
    "\n",
    "Key points untuk day of week:\n",
    "* Analisis menunjukkan bahwa rata-rata grand_total stabil ketika dianalisis pada hari dalam seminggu. Namun, total order tertinggi terjadi pada hari Jumat. Selain itu, tampaknya complete order rate tetap stabil dan sebagian besar di atas 50%. \n",
    "    * Perusahaan dapat mempertimbangkan untuk menawarkan promosi khusus untuk hari Jumat untuk memberi insentif kepada customer agar melakukan pembelian pada hari itu\n",
    "    * Identifikasi alasan di balik total order yang tinggi pada hari Jumat dan manfaatkan untuk meningkatkan penjualan pada hari-hari lain dalam seminggu"
   ]
  },
  {
   "cell_type": "markdown",
   "id": "202f703c-9053-48b6-b9f4-0bb48fe06acd",
   "metadata": {},
   "source": [
    "## Monthly Product Price by Order Status\n",
    "\n",
    "Untuk menjawab pertanyaan berikut:\n",
    "* Apakah tidak ada perbedaan distribusi customer dengan Complete Order dan Canceled Order?\n",
    "\n",
    "Akan dilakukan analisa terhadap rata-rata harga bulanan berdasarkan status ordernya"
   ]
  },
  {
   "cell_type": "code",
   "execution_count": 78,
   "id": "6927d2dd-713c-42b1-9390-6036b9c667a2",
   "metadata": {},
   "outputs": [],
   "source": [
    "monthly_mean_price_by_stat = df1.groupby([\"order_month\", \"status\"]).agg(mean_price=(\"price\", \"mean\")).reset_index()"
   ]
  },
  {
   "cell_type": "code",
   "execution_count": 79,
   "id": "a5eb233c-0776-4cf4-9353-1161ae56a8fc",
   "metadata": {},
   "outputs": [],
   "source": [
    "#monthly_mean_price_by_stat.to_csv(\"D:/Documents/AI_and_Embedded_Systems/AI/Courses/Purwadhika/Module_2_Data_Analysis/Online_Learning/Capstone/monthly_mean_price_by_stat.csv\", index=False)  "
   ]
  },
  {
   "cell_type": "code",
   "execution_count": 80,
   "id": "a37111f7-5db9-43aa-ac17-b248aaabeecc",
   "metadata": {},
   "outputs": [
    {
     "data": {
      "image/png": "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\n",
      "text/plain": [
       "<Figure size 504x288 with 1 Axes>"
      ]
     },
     "metadata": {},
     "output_type": "display_data"
    }
   ],
   "source": [
    "box_plot(df=monthly_mean_price_by_stat, x='mean_price', y='status', palette=['tab:red', 'tab:green'], alpha=0.7)\n",
    "plt.xlabel('Mean Price')\n",
    "plt.ylabel('');"
   ]
  },
  {
   "cell_type": "code",
   "execution_count": 81,
   "id": "a5a11bf9-89a0-416e-b887-c807771b292e",
   "metadata": {},
   "outputs": [
    {
     "data": {
      "image/png": "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\n",
      "text/plain": [
       "<Figure size 900x300 with 1 Axes>"
      ]
     },
     "metadata": {},
     "output_type": "display_data"
    }
   ],
   "source": [
    "single_histogram_check(monthly_mean_price_by_stat,\n",
    "                       'mean_price',\n",
    "                       hue='status',\n",
    "                       show_cumulative=False,\n",
    "                       norm=False,\n",
    "                       palette=['tab:red', 'tab:green'],\n",
    "                       figsize=(9,3),\n",
    "                       hist_plot=False,\n",
    "                       linewidth=0,\n",
    "                       show_line=False,\n",
    "                       show_detail=False\n",
    "                      )\n",
    "plt.axvline(x=np.nanmedian(monthly_mean_price_by_stat[monthly_mean_price_by_stat['status']=='COMPLETE']['mean_price']),ls='dashed',color='tab:green', alpha=0.5, linewidth=2)\n",
    "plt.axvline(x=np.nanmedian(monthly_mean_price_by_stat[monthly_mean_price_by_stat['status']=='CANCELED']['mean_price']),ls='dashed',color='tab:red', alpha=0.5, linewidth=2);"
   ]
  },
  {
   "cell_type": "code",
   "execution_count": 82,
   "id": "61bf7876-a424-49ce-b4cc-eb9d535eaa00",
   "metadata": {},
   "outputs": [
    {
     "name": "stdout",
     "output_type": "stream",
     "text": [
      "-----COMPLETE-----\n",
      "p-value: 0.00015376271039713174\n",
      "reject H0, probably not Gaussian\n",
      "\n",
      "-----CANCELED-----\n",
      "p-value: 0.009524093009531498\n",
      "reject H0, probably not Gaussian\n",
      "\n"
     ]
    }
   ],
   "source": [
    "for stat in ['COMPLETE', 'CANCELED']:\n",
    "    print(f\"-----{stat}-----\")\n",
    "    stat, p = stats.shapiro(monthly_mean_price_by_stat[monthly_mean_price_by_stat['status'] == stat]['mean_price'].dropna())\n",
    "    \n",
    "    print(f\"p-value: {p}\")\n",
    "    \n",
    "    if p > 0.05: # pvalue -> probabilitas H0\n",
    "        print('fail to reject (accept) H0, probably Gaussian (not enough evidence to suggest the distribution is not Gaussian)\\n')\n",
    "    else:\n",
    "        print('reject H0, probably not Gaussian\\n')"
   ]
  },
  {
   "cell_type": "code",
   "execution_count": 83,
   "id": "2127143e-0071-4681-bc3b-3e19df4eb182",
   "metadata": {},
   "outputs": [
    {
     "name": "stdout",
     "output_type": "stream",
     "text": [
      "stat: 43.0, p-value: 7.057516847018273e-08\n",
      "reject H0, monthly price mean of complete order and canceled order probably have different distributions\n",
      "\n"
     ]
    }
   ],
   "source": [
    "# perform mannwhitneyu test (non-parametric)\n",
    "# The mannwhitneyu test is used to test whether or not or not a sample have same distribution (allow unequal size)\n",
    "stat, p = stats.mannwhitneyu(monthly_mean_price_by_stat[monthly_mean_price_by_stat['status'] == 'COMPLETE']['mean_price'].dropna(),\n",
    "                             monthly_mean_price_by_stat[monthly_mean_price_by_stat['status'] == 'CANCELED']['mean_price'].dropna())\n",
    "print(f\"stat: {stat}, p-value: {p}\")\n",
    "\n",
    "if p > 0.05: # pvalue -> probabilitas H0\n",
    "    print('fail to reject H0, monthly price mean of complete order and canceled order probably have same distribution\\n') # H0, No sufficient evidence to reject, so the two sample data come from the same distribution\n",
    "else:\n",
    "    print('reject H0, monthly price mean of complete order and canceled order probably have different distributions\\n') # H1, sufficient evidence that the two sample data do not come from the same distribution."
   ]
  },
  {
   "cell_type": "code",
   "execution_count": 84,
   "id": "e891a6ef-135b-4186-b02c-e0823dbc9182",
   "metadata": {},
   "outputs": [
    {
     "data": {
      "text/plain": [
       "(2505.0934100931727, 8880.88445603546)"
      ]
     },
     "execution_count": 84,
     "metadata": {},
     "output_type": "execute_result"
    }
   ],
   "source": [
    "monthly_mean_price_by_stat[monthly_mean_price_by_stat['status'] == 'COMPLETE']['mean_price'].median(), monthly_mean_price_by_stat[monthly_mean_price_by_stat['status'] == 'CANCELED']['mean_price'].median()"
   ]
  },
  {
   "cell_type": "markdown",
   "id": "06a31a53-66ed-439e-9912-963d49f0d44d",
   "metadata": {},
   "source": [
    "Data analysis shows customers who cancel orders have higher monthly prices\n",
    "\n",
    "Key points:\n",
    "* Secara statistik, rata-rata bulanan price canceled order dan complete order memiliki distribusi yang berbeda (p-value < 0.05, reject H0)\n",
    "* Customer dengan canceled order memiliki median rata-rata bulanan price 3x lebih tinggi daripada customer dengan complete order. \n",
    "    * Hal ini mungkin menunjukkan bahwa harga yang tinggi merupakan faktor yang menyebabkan customer mengurungkan niat untuk membeli sehingga terjadi pembatalan order oleh mereka\n",
    "    * Disarankan agar perusahaan mempertimbangkan untuk menyesuaikan strategi penetapan harga, menawarkan promosi atau menerapkan program cicilan untuk mengurangi pembatalan order.\n",
    "\n",
    "Consideration:\n",
    "* Perlu dilakukan analisa lebih lanjut untuk mengetahui pengaruh diskon terhadap pembatalan order"
   ]
  },
  {
   "cell_type": "markdown",
   "id": "5125274d-1cce-4492-991f-96c473aba2a8",
   "metadata": {
    "tags": []
   },
   "source": [
    "## Monthly Discount Amount and Grand Total by Order Status\n",
    "\n",
    "Untuk menjawab pertanyaan berikut:\n",
    "* Apakah ada pengaruh jumlah diskon terhadap complete dan cancel order?\n",
    "* Apakah ada pengaruh grand total terhadap complete dan cancel order?\n",
    "\n",
    "Akan dilakukan analisa jumlah diskon dan grand total berdasarkan status ordernya"
   ]
  },
  {
   "cell_type": "code",
   "execution_count": 85,
   "id": "77f7edbe-100b-4c1b-ad8f-c4383ac7ab7d",
   "metadata": {},
   "outputs": [],
   "source": [
    "monthly_mean_discount_and_total_by_stat = df1.groupby([\"order_month\", \"status\"]).agg(mean_discount=(\"discount_amount\", \"mean\"),\n",
    "                                                                                     mean_grand_total=(\"grand_total\", \"mean\")).reset_index()"
   ]
  },
  {
   "cell_type": "code",
   "execution_count": 86,
   "id": "0894df1f-82c0-45f6-a6e6-896be8ad5d62",
   "metadata": {},
   "outputs": [],
   "source": [
    "#monthly_mean_discount_and_total_by_stat.to_csv(\"D:/Documents/AI_and_Embedded_Systems/AI/Courses/Purwadhika/Module_2_Data_Analysis/Online_Learning/Capstone/monthly_mean_discount_and_total_by_stat.csv\", index=False)  "
   ]
  },
  {
   "cell_type": "code",
   "execution_count": 87,
   "id": "7b538662-b3c9-4e96-8baf-a9019a49ceca",
   "metadata": {},
   "outputs": [
    {
     "data": {
      "image/png": "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\n",
      "text/plain": [
       "<Figure size 576x432 with 1 Axes>"
      ]
     },
     "metadata": {},
     "output_type": "display_data"
    }
   ],
   "source": [
    "plt.figure(figsize=(8,6))\n",
    "sns.scatterplot(data=monthly_mean_discount_and_total_by_stat,x='mean_grand_total', y='mean_discount', hue='status', palette=['tab:red', 'tab:green'])\n",
    "# remove border\n",
    "sns.despine(bottom=True, left=True);"
   ]
  },
  {
   "cell_type": "markdown",
   "id": "98be9768-a720-466e-a7a8-25cc033aa1dd",
   "metadata": {},
   "source": [
    "Grand total found to impact completion rate more than discount amount\n",
    "\n",
    "* Tidak ditemukan pola pengaruh jumlah diskon terhadap status ordernya\n",
    "* Semakin tinggi rata-rata bulanan grand total, order cenderung mengalami pembatalan"
   ]
  },
  {
   "cell_type": "markdown",
   "id": "d3839cba-8f42-483c-8cab-e3e35c560a5b",
   "metadata": {},
   "source": [
    "### **Distribution Comparison**"
   ]
  },
  {
   "cell_type": "code",
   "execution_count": 88,
   "id": "710f2e46-55cb-44d2-9d65-a62ad0741bb2",
   "metadata": {},
   "outputs": [
    {
     "data": {
      "image/png": "iVBORw0KGgoAAAANSUhEUgAAAc8AAAEBCAYAAAAemi7vAAAAOXRFWHRTb2Z0d2FyZQBNYXRwbG90bGliIHZlcnNpb24zLjQuMywgaHR0cHM6Ly9tYXRwbG90bGliLm9yZy/MnkTPAAAACXBIWXMAAAsTAAALEwEAmpwYAAAY+ElEQVR4nO3df1BVdf7H8dcFEVMswx8rCASou66w/kjT0k1jN0Yy0XZXW1FgNlvTxgHToRXZ3JzVEMYfjTJZ6ORq6GrKaCm6tI6uP1K3mlx1/bkoCgokAv5CBBHO9w+/3KJM+Chwr/p8/NU9nfs573vmxLN7gIvNsixLAACg3lwcPQAAAPcb4gkAgCHiCQCAIeIJAIAh4gkAgCHiCQCAIeIJAIAh4gkAgCHiCQCAIeIJAIAh4gkAgCHiCQCAIeIJAIAh4gkAgCHiCQCAIeIJAIChZo4e4GGzadMm5efnN8ra2dnZkqTAwMBGWd9RvL29FR4e7ugxAMCOeDax/Px8Hc/MVNsWLRp87eMXLkiSWufmNvjajlJcXi6FhTl6DACohXg6QNsWLTTiiScafN3TV69KUqOs7Sif5uQ4egQA+AG+5wkAgCHiCQCAIeIJAIAh4gkAgCHiCQCAIeIJAIAh4gkAgCHiCQCAIeIJAIAh4gkAgCHiCQCAIeIJAIAh4gkAgCHiCQCAIeIJAIAh4gkAgCHiCQCAIeIJAIAh4tlAMjMzlZmZ6egxgLvC9QuYaeboAR4UW7ZskSSFhYU5eBLAHNcvYIZ3ngAAGCKeAAAYIp4AABgingAAGCKeAAAYIp4AABgingAAGCKeAAAYIp4AABgingAAGCKeAAAYIp4AABgingAAGCKeAAAYIp4AABgingAAGCKeAAAYIp4AABhqVp+dsrKyNHfuXF2/fl1lZWUaPHiwYmJiZLPZtGXLFiUkJOizzz7TT37yE0lSSkqKdu7cqTVr1qhZs1uHePnll7VgwQL5+Pj86Hp5eXkaPny4goKCah1/+fLlWrx4sdq1a6eIiIha/y44OFi9e/eutW3evHnas2ePFi1aJF9fX1VXV8tms2nSpEl65pln7vpkAQAg1SOeV65c0dSpU5WSkiJ/f39VVVVp8uTJWrNmjSIiIrRu3TpFRkZq7dq1iomJsT8vLy9PqampmjRpUr3Xe/bZZ9WlSxelpaXV+wU89thjP7r/sGHDFBcXJ0kqKirS2LFjtXLlSrVv377e6wNoWKdOnVJcXJzmzZunzp07N9pzgMZUZzy3bdum/v37y9/fX5Lk6uqq5ORkubm56ezZs7p8+bImTJig3/zmN5o4caLc3NwkSX/84x+1bt06hYSEqHv37vVar7CwsOFf4f9r166dhgwZoh07dmjUqFENvn5JSYmKi4sVGxt7x/3y8/PVobKywY//oMovK9OBrVt15MgRR4/yQMvKylLbtm0b/TiWZSkxMVElJSWaM2eOli5dKpvN1uDPARpbnfEsLCyUr69vrW2tWrWSJKWnp+t3v/udWrdurV69emnr1q0aOnSoJKlly5aaPXu24uPjlZ6eXq/1JOnkyZOKioqyPw4KClJ8fPyPznf58uVa+3fo0EHz58+/7b5t27bVxYsX63rJABrJ6dOndfr0aVmWpezsbJ05c0YBAQEN/hygsdUZT29vbx09erTWtrNnz6qgoECbNm1Sp06dtH37dl2+fFkrV660x1OS+vbtqwEDBmjhwoV1rvfNN9/Iy8urQW/bfl9+fn6td8ENydPTU56enlq0aNEd90tNTdWFHTsaZYYHkXfLlur53HOaMGGCo0d5oNV1x6ShBAQEKCAgQCdPnlRgYKD9DlRDPwdobHX+tG1ISIh2796t3NxcSVJlZaWSkpJ07NgxBQcHKy0tTR9++KHS09NVXFys48eP13r+lClTtGvXLuXk5Nxxvf/9738N/dpqKSws1LZt2zR48OBGPQ6AH2ez2ZSQkCBPT09Nnz69Xrdf7+Y5QGOr852nh4eHkpKS9NZbb8myLF27dk0hISHat2/fD753OHLkSK1atUodOnSwb3N3d1diYqJGjx59x/XGjBmjvLy8H9y2laTExERJ0pIlS7Ru3TpJt271pqWl/eC2rSRNnTpVkpSRkaGDBw/KxcVFlmVpzpw5atOmjeEpAtCQOnfurA0bNjT6c4DGVK9fVQkODtZHH31U537jx4+/7fZf/OIXtX7g48fW8/Hx0f79+2+7RkxMTK2f5q1x+PDh2+7fu3dv/fa3v61zZgAATPEhCQAAGCKeAAAYIp4AABgingAAGCKeAAAYIp4AABgingAAGCKeAAAYIp4AABgingAAGCKeAAAYIp4AABgingAAGCKeAAAYIp4AABgingAAGCKeAAAYauboAR4UQ4cOdfQIwF3j+gXMEM8GEhYW5ugRgLvG9QuY4bYtAACGiCcAAIaIJwAAhognAACGiCcAAIaIJwAAhognAACGiCcAAIaIJwAAhognAACGiCcAAIaIJwAAhognAACGiCcAAIaIJwAAhognAACGiCcAAIaIJwAAhognAACGmjl6gIdRcXm5Ps3JafB1i8rLJalR1naU4vJytXf0EADwPcSziXl7e0thYY2ydrfsbElS+8DARlnfEdrr/88ZADgRm2VZlqOHAADgfsL3PAEAMEQ8AQAwRDwBADBEPAEAMEQ8AQAwRDwBADBEPAEAMEQ8AQAwRDwBADBEPAEAMEQ8AQAwRDwBADBEPAEAMEQ8AQAwRDwBADBEPAEAMEQ8AQAwRDwBADDUzNEDPKw2bdqk/Pz8Rls/OztbkhQYGNhox7hb3t7eCg8Pd/QYAHDXiKeD5OfnK/PrTLk/5t4o6xcdLZIk5VTnNMr6d6vicoXCFOboMQDgnhBPB3J/zF1+g/waZe2r+VclqdHWv1u5u3IdPQIA3DO+5wkAgCHiCQCAIeIJAIAh4gkAgCHiCQCAIeIJAIAh4gkAgCHiCQCAIeIJAIAh4gkAgCHiCQCAIeIJAIAh4gkAgCHiCQCAIeIJAIAh4gkAgCHiCQCAIeIJAIAh4gkAgCHi2YAyMzOVmZnp6DFwn+M6ApxfM0cP8CDZsmWLJCksLMzBk+B+xnUEOD/eeQIAYIh4AgBgiHgCAGCIeAIAYIh4AgBgiHgCAGCIeAIAYIh4AgBgiHgCAGCIeAIAYIh4AgBgiHgCAGCIeAIAYIh4AgBgiHgCAGCIeAIAYIh4AgBgiHgCAGCoWX12ysrK0ty5c3X9+nWVlZVp8ODBiomJ0cWLF5WcnKz8/HxVVVXJy8tL8fHxat++vdavX6/p06dr7dq16tmzpySpsrJSv/zlLxUZGamYmBgFBwerd+/ekqSbN2+qc+fOmjlzpjZu3Kjs7GzFxcXVmuNXv/qVvLy85OLybfOnTZumjIwMHTlyRBcuXFB5ebl8fX31+OOP609/+pOGDx+uoKCgWussX75crq6u93TiAAAPrzrjeeXKFU2dOlUpKSny9/dXVVWVJk+erNWrVysjI0Pjxo3T888/L0nau3evJkyYoHXr1kmSAgMDlZGRYY/n7t271bp1a/vajz32mNLS0uyP33jjDe3cufOO8yxbtkzu7u61tgUHB0uS1q9fXyu6586dU5cuXWodA8DtnTp1SnFxcZo3b546d+583x8HD6emur7qjOe2bdvUv39/+fv7S5JcXV2VnJysU6dOaefOnfZwStKAAQPk5+enr776SpI0aNAgff7556qurpaLi4s2b96sF1988bbHqaysVFlZmVq2bKnLly83wEtreiUlJSouLlZsbGyd++bn5+uGx40mmMq5lF0o09bTW3XkyBFHj+K0srKy1LZt2yY9pmVZSkxMVElJiebMmaOlS5fKZrPdt8fBw6kpr68641lYWChfX99a21q1aqVz5879YLsk+fr6Kj8/X5Lk5uamXr166csvv1RwcLBKS0vVsWNHFRUVSZIuX76sqKgoSZLNZtOgQYP0zDPPaP369T86z7hx4+y3bV1cXLRixYo7zn/y5En7MSQpKChI8fHxdb1s4KFy+vRpnT59WpZlKTs7W2fOnFFAQMB9exw8nJry+qoznt7e3jp69GitbWfPnlW7du2Ul5f3g/1zcnI0YMAAFRQUSJKGDRumzZs3q6CgQKGhoaqsrLTv+/3btvVxu9u2d9KUt209PT3l6empRYsW1blvamqq/nXyX00wlXNp2b6lQp4J0YQJExw9itOqz52LhhYQEKCAgACdPHlSgYGB9jtN9+tx8HBqyuurzp+2DQkJ0e7du5Wbmyvp1u3VpKQkZWVlqaioSNu3b7fvu2vXLuXk5Khfv372bf3799eBAweUmZmpsLCwRngJAO6VzWZTQkKCPD09NX369Ea71dVUx8HDqSmvrzrfeXp4eCgpKUlvvfWWLMvStWvXFBISojFjxigsLEyJiYlKTU2VJHXs2FFLliyp9ZOsLi4uGjhwoAoKCuTh4VHvwT755BPt3bvX/rjm3eN3b9tKUnR0tEJDQ390ne/ftpWkxMTE295yBh5mnTt31oYNGx6Y4+Dh1FTXl82yLKvRj/KQqLndZnLb1m+QX6PMcmTNrR/ICRodVMeeTSt3V65CunDb9k5MriMAjsGHJAAAYIh4AgBgiHgCAGCIeAIAYIh4AgBgiHgCAGCIeAIAYIh4AgBgiHgCAGCIeAIAYIh4AgBgiHgCAGCIeAIAYIh4AgBgiHgCAGCIeAIAYIh4AgBgqJmjB3iQDB061NEj4AHAdQQ4P+LZgMLCwhw9Ah4AXEeA8+O2LQAAhognAACGiCcAAIaIJwAAhognAACGiCcAAIaIJwAAhognAACGiCcAAIaIJwAAhognAACGiCcAAIaIJwAAhognAACGiCcAAIaIJwAAhognAACGiCcAAIaaOXqAh1nF5Qrl7sptnLUvVUhSo61/tyouVzh6BAC4Z8TTQby9vRWmsEZbP9slW5IUGBjYaMe4W97e3o4eAQDuic2yLMvRQwAAcD/he54AABgingAAGCKeAAAYIp4AABgingAAGCKeAAAYIp4AABgingAAGCKeAAAYIp4AABgingAAGCKeAAAYIp4AABjiT5Ldo+rqas2cOVMnTpxQ8+bNNXv2bD3xxBOOHkuSVFlZqYSEBOXl5enGjRt6/fXX1bFjR02cOFH+/v6SpIiICA0dOlRr167VmjVr1KxZM73++usKCQlxyMwvvfSSWrduLUny8fHRxIkTFR8fL5vNpq5du+rtt9+Wi4uLU8y7fv16bdiwQZJUUVGhY8eOac2aNU55fg8ePKh58+YpLS1NOTk59T6n5eXlevPNN1VcXKxWrVopOTlZnp6eTT7zsWPHNGvWLLm6uqp58+ZKTk5Wu3btNHv2bO3fv1+tWrWSJC1evFhubm4Omfm78x45cqTe14GjzvF3550yZYqKiookSXl5eerZs6feffddpzi/t/s61qVLF8dfwxbuyWeffWZNmzbNsizL+s9//mNNnDjRwRN9Kz093Zo9e7ZlWZZVUlJiDR482Fq7dq314Ycf1tqvsLDQGjZsmFVRUWFduXLF/s9Nrby83BoxYkStbRMmTLD+/e9/W5ZlWTNmzLD++c9/Os283zVz5kxrzZo1Tnl+lyxZYg0bNswaNWqUZVlm53TZsmXWokWLLMuyrIyMDGvWrFkOmXns2LHW0aNHLcuyrNWrV1uJiYmWZVnW6NGjreLi4lrPdcTM35/X5DpwhnlrXLp0yRo+fLh1/vx5y7Kc4/ze7uuYM1zD3La9R19//bWeffZZSVKvXr10+PBhB0/0rbCwME2ePNn+2NXVVYcPH9aOHTs0duxYJSQkqLS0VIcOHVLv3r3VvHlztW7dWn5+fjp+/HiTz3v8+HFdv35d48aNU3R0tA4cOKAjR46oX79+kqRBgwZp7969TjNvjf/+9786efKkfv/73zvl+fXz81NKSor9sck5/e71PWjQIO3bt88hMy9YsEA///nPJUlVVVVyd3dXdXW1cnJy9Je//EWjR49Wenq6JDlk5u/Pa3IdOMO8NVJSUhQZGakOHTo4zfm93dcxZ7iGuW17j0pLS+Xh4WF/7Orqqps3b6pZM8ef2ppbLaWlpYqNjdUbb7yhGzduaNSoUQoODtb777+v9957T926dbPfKq15XmlpaZPP26JFC7366qsaNWqUzpw5o/Hjx8uyLNlsNvtcV69eVWlpqVPMWyM1NVWTJk2SJPXo0cPpzu+QIUN07tw5+2OTc/rd7TX7OmLmDh06SJL279+vlStXatWqVSorK1NkZKReeeUVVVVVKTo6WsHBwQ6Z+fvzmlwHzjCvJBUXF2vfvn2aPn26JDnN+b3d17Hk5GSHX8O887xHHh4eunbtmv1xdXW1U4SzRkFBgaKjozVixAiFh4crNDRUwcHBkqTQ0FAdPXr0B6/h2rVrtS7CphIQEKDhw4fLZrMpICBAbdq0UXFxca25Hn30UaeZV5KuXLmi7OxsPf3005Lk1Oe3hovLt//Z13VOv7u9Zl9H2bJli95++20tWbJEnp6eeuSRRxQdHa1HHnlEHh4eevrpp3X8+HGnmNnkOnCGeSUpMzNTw4YNk6urqyQ51fn9/tcxZ7iGiec9evLJJ7Vr1y5J0oEDB/TTn/7UwRN9q6ioSOPGjdObb76pkSNHSpJeffVVHTp0SJK0b98+BQUFqUePHvr6669VUVGhq1ev6tSpUw55Henp6UpKSpIknT9/XqWlpRo4cKC++OILSdKuXbvUt29fp5lXkr766isNGDDA/tiZz2+N7t271/ucPvnkk9q5c6d93z59+jhk5k8//VQrV65UWlqafH19JUlnzpzRmDFjVFVVpcrKSu3fv19BQUFOMbPJdeAM89bMOWjQIPtjZzm/t/s65gzXsPO8RbpPhYaGas+ePRo9erQsy1JiYqKjR7L74IMPdOXKFS1evFiLFy+WJMXHxysxMVFubm5q166dZs2aJQ8PD0VFRWnMmDGyLEtTpkyRu7t7k887cuRITZ8+XREREbLZbEpMTNTjjz+uGTNmaMGCBQoMDNSQIUPk6urqFPNK0unTp+Xj42N/PHPmTM2aNcspz2+NadOm1fucRkREaNq0aYqIiJCbm5vmz5/f5PNWVVXpnXfekZeXl2JiYiRJTz31lGJjYxUeHq6XX35Zbm5uGjFihLp27SofHx+Hz2xyHTjDOZZuXcs1/2MiSZ07d3aK83u7r2N//vOfNXv2bIdewzbLsqwGWQkAgIcEt20BADBEPAEAMEQ8AQAwRDwBADBEPAEAMEQ8ASfxxRdf6Gc/+5m2bNlSa3t4eLji4+Mb/Hjr16/Xc889p6ioKI0dO1aRkZH2jy7btWuXPv744wY/Zl0+/vhjVVZWNvlxAVP8nifgRAIDA5WRkaGhQ4dKkk6cOKHr16832vGGDRumuLg4Sbd+GX3s2LFauXJlrV+Wb0qpqal66aWXHHJswATxBJxIt27ddObMGV25ckWPPvqoNm7cqPDwcBUUFEiS/vGPf2j58uVycXFRnz59FBcXp2+++UYzZ85URUWFLl26pEmTJun5559XeHi4+vXrpxMnTshms2nx4sV3/FjAdu3aaciQIdqxY4dcXV2VnZ2tmJgYTZ48WaWlpfY/7dS/f3+tW7dOq1evVnV1tX79618rJiZGGzdu1IoVK9S8eXP5+/vrr3/9qzZt2qTs7GzFxcWpoqJCL7zwgrZv366oqCh169ZNWVlZKi0t1cKFC7V3715duHBBU6ZMsf8yPOCsuG0LOJnQ0FBt3bpVlmXZ/1KEJF26dEkpKSlavny5Vq9erfPnz2vPnj3Kzs7WK6+8or/97W+aMWOGVq1aJenW53i++OKLWrlypTp06GD/GMk7adu2rS5evGh/nJubq6KiIn3wwQeaP3++ysvLVVxcrKVLl+rvf/+71q9fr6tXryovL08pKSlasWKFVq9erdatW9d527dHjx5avny5Bg4cqM2bN2vUqFFq37693n333Xs4e0DT4J0n4GTCw8M1c+ZM+fr6qm/fvvbtubm5Kikp0WuvvSbpVhzPnj2rPn366P3331d6erpsNptu3rxpf0737t0lSV5eXqqoqKjz2Pn5+erevbuqqqokSV27dtXYsWM1depU3bx5U1FRUTp79qy6du2qFi1aSJISEhJ06NAhdenSxf4Xhp566il9/vnn6tmzp33t73+YWc1sHTt2tP8hZuB+wTtPwMn4+vqqrKxMaWlpGj58uH27j4+PvLy8tGzZMqWlpSkyMlI9e/bUwoULNWLECM2dO1f9+/evFamaP9tUH4WFhdq2bZsGDx5s33bixAldu3ZNS5YsUVJSkmbNmiU/Pz9lZ2frxo0bkqTY2Fi1bdtWp06dUllZmSTpyy+/VEBAgNzd3XXhwgVJt/6OaF1sNpuqq6vrPTPgKLzzBJzQ0KFD9emnnyogIEBnz56VJHl6euoPf/iDoqKiVFVVpU6dOumFF15QWFiY3nnnHaWmpsrLy6vWbde6ZGRk6ODBg3JxcZFlWZozZ47atGlj//f+/v5677339Mknn8jNzU2xsbHy9PTU+PHjFRkZKZvNppCQEHXq1EkxMTGKjo6Wi4uL/Pz87N/nXL16tSIiIhQUFGT/24w/pm/fvnrttdf00UcfGYUfaGp8MDwAAIa4bQsAgCHiCQCAIeIJAIAh4gkAgCHiCQCAIeIJAIAh4gkAgCHiCQCAof8DYVxgThBdtK8AAAAASUVORK5CYII=\n",
      "text/plain": [
       "<Figure size 504x288 with 1 Axes>"
      ]
     },
     "metadata": {},
     "output_type": "display_data"
    }
   ],
   "source": [
    "box_plot(df=monthly_mean_discount_and_total_by_stat, x='mean_discount', y='status', palette=['tab:red', 'tab:green'], alpha=0.7)\n",
    "plt.xlabel('Mean Discount')\n",
    "plt.ylabel('');"
   ]
  },
  {
   "cell_type": "code",
   "execution_count": 89,
   "id": "d0bbf929-66e2-41a4-9545-1cb3f43a8c25",
   "metadata": {},
   "outputs": [
    {
     "data": {
      "image/png": "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\n",
      "text/plain": [
       "<Figure size 900x300 with 1 Axes>"
      ]
     },
     "metadata": {},
     "output_type": "display_data"
    }
   ],
   "source": [
    "# Discount Amount\n",
    "single_histogram_check(monthly_mean_discount_and_total_by_stat,\n",
    "                       'mean_discount',\n",
    "                       hue='status',\n",
    "                       show_cumulative=False,\n",
    "                       norm=False,\n",
    "                       palette=['tab:red', 'tab:green'],\n",
    "                       figsize=(9,3),\n",
    "                       hist_plot=False,\n",
    "                       linewidth=0,\n",
    "                       show_line=False,\n",
    "                       show_detail=False\n",
    "                      )\n",
    "plt.axvline(x=np.nanmedian(monthly_mean_discount_and_total_by_stat[monthly_mean_discount_and_total_by_stat['status']=='COMPLETE']['mean_discount']),ls='dashed',color='tab:green', alpha=0.5, linewidth=2)\n",
    "plt.axvline(x=np.nanmedian(monthly_mean_discount_and_total_by_stat[monthly_mean_discount_and_total_by_stat['status']=='CANCELED']['mean_discount']),ls='dashed',color='tab:red', alpha=0.5, linewidth=2);"
   ]
  },
  {
   "cell_type": "code",
   "execution_count": 90,
   "id": "7b9f600a-6cfc-40ea-892f-aef7ca902fc1",
   "metadata": {},
   "outputs": [
    {
     "name": "stdout",
     "output_type": "stream",
     "text": [
      "stat: 330.0, p-value: 0.890826133573838\n",
      "fail to reject H0, monthly discount mean of complete order and canceled order probably have same distribution\n",
      "\n"
     ]
    }
   ],
   "source": [
    "# perform mannwhitneyu test (non-parametric)\n",
    "# The mannwhitneyu test is used to test whether or not or not a sample have same distribution (allow unequal size)\n",
    "stat, p = stats.mannwhitneyu(monthly_mean_discount_and_total_by_stat[monthly_mean_discount_and_total_by_stat['status'] == 'COMPLETE']['mean_discount'].dropna(),\n",
    "                             monthly_mean_discount_and_total_by_stat[monthly_mean_discount_and_total_by_stat['status'] == 'CANCELED']['mean_discount'].dropna())\n",
    "print(f\"stat: {stat}, p-value: {p}\")\n",
    "\n",
    "if p > 0.05: # pvalue -> probabilitas H0\n",
    "    print('fail to reject H0, monthly discount mean of complete order and canceled order probably have same distribution\\n') # H0, No sufficient evidence to reject, so the two sample data come from the same distribution\n",
    "else:\n",
    "    print('reject H0, monthly discount mean of complete order and canceled order probably have different distributions\\n') # H1, sufficient evidence that the two sample data do not come from the same distribution."
   ]
  },
  {
   "cell_type": "code",
   "execution_count": 91,
   "id": "15d6375e-d976-4f5b-85c1-b21ef213f736",
   "metadata": {},
   "outputs": [
    {
     "data": {
      "image/png": "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\n",
      "text/plain": [
       "<Figure size 900x300 with 1 Axes>"
      ]
     },
     "metadata": {},
     "output_type": "display_data"
    }
   ],
   "source": [
    "# Grand Total\n",
    "single_histogram_check(monthly_mean_discount_and_total_by_stat,\n",
    "                       'mean_grand_total',\n",
    "                       hue='status',\n",
    "                       show_cumulative=False,\n",
    "                       norm=False,\n",
    "                       palette=['tab:red', 'tab:green'],\n",
    "                       figsize=(9,3),\n",
    "                       hist_plot=False,\n",
    "                       linewidth=0,\n",
    "                       show_line=False,\n",
    "                       show_detail=False\n",
    "                      )\n",
    "plt.axvline(x=np.nanmedian(monthly_mean_discount_and_total_by_stat[monthly_mean_discount_and_total_by_stat['status']=='COMPLETE']['mean_grand_total']),ls='dashed',color='tab:green', alpha=0.5, linewidth=2)\n",
    "plt.axvline(x=np.nanmedian(monthly_mean_discount_and_total_by_stat[monthly_mean_discount_and_total_by_stat['status']=='CANCELED']['mean_grand_total']),ls='dashed',color='tab:red', alpha=0.5, linewidth=2);"
   ]
  },
  {
   "cell_type": "code",
   "execution_count": 92,
   "id": "2b6c8113-cfe7-42f2-8876-19034cf1c6b7",
   "metadata": {},
   "outputs": [
    {
     "name": "stdout",
     "output_type": "stream",
     "text": [
      "Complete Order Median of Grand Total Mean: 4355.891955587812\n",
      "Canceled Order Median of Grand Total Mean: 12008.869471949572\n"
     ]
    }
   ],
   "source": [
    "print(f\"Complete Order Median of Grand Total Mean: {np.nanmedian(monthly_mean_discount_and_total_by_stat[monthly_mean_discount_and_total_by_stat['status']=='COMPLETE']['mean_grand_total'])}\")\n",
    "print(f\"Canceled Order Median of Grand Total Mean: {np.nanmedian(monthly_mean_discount_and_total_by_stat[monthly_mean_discount_and_total_by_stat['status']=='CANCELED']['mean_grand_total'])}\")"
   ]
  },
  {
   "cell_type": "code",
   "execution_count": 93,
   "id": "d34152ea-63bc-476a-a79d-017b3d43d57f",
   "metadata": {},
   "outputs": [
    {
     "name": "stdout",
     "output_type": "stream",
     "text": [
      "stat: 29.0, p-value: 1.6430286423545313e-08\n",
      "reject H0, monthly grand total mean of complete order and canceled order probably have different distributions\n",
      "\n"
     ]
    }
   ],
   "source": [
    "# perform mannwhitneyu test (non-parametric)\n",
    "# The mannwhitneyu test is used to test whether or not or not a sample have same distribution (allow unequal size)\n",
    "stat, p = stats.mannwhitneyu(monthly_mean_discount_and_total_by_stat[monthly_mean_discount_and_total_by_stat['status'] == 'COMPLETE']['mean_grand_total'].dropna(),\n",
    "                             monthly_mean_discount_and_total_by_stat[monthly_mean_discount_and_total_by_stat['status'] == 'CANCELED']['mean_grand_total'].dropna())\n",
    "print(f\"stat: {stat}, p-value: {p}\")\n",
    "\n",
    "if p > 0.05: # pvalue -> probabilitas H0\n",
    "    print('fail to reject H0, monthly grand total mean of complete order and canceled order probably have same distribution\\n') # H0, No sufficient evidence to reject, so the two sample data come from the same distribution\n",
    "else:\n",
    "    print('reject H0, monthly grand total mean of complete order and canceled order probably have different distributions\\n') # H1, sufficient evidence that the two sample data do not come from the same distribution."
   ]
  },
  {
   "cell_type": "markdown",
   "id": "6f870438-699e-467a-9a0b-b2bb62438dcb",
   "metadata": {},
   "source": [
    "Analysis shows that canceled transactions have three times higher grand total than completed ones, with no impact of discount amount\n",
    "\n",
    "Key points:\n",
    "* Analisis menunjukkan bahwa order yang dibatalkan memiliki median rata-rata grand total 3x lebih tinggi daripada order yang berhasil\n",
    "    * Ada kemungkinan bahwa customer membatalkan atau refund order karena produk yang sebenarnya berbeda dari yang diiklankan\n",
    "    * Perusahaan harus memastikan bahwa produk aktual yang dikirim ke pelanggan sesuai dengan iklan untuk meminimalkan jumlah order yang dibatalkan\n",
    "* Jumlah diskon tampaknya tidak berpengaruh pada complete atau cancel order\n",
    "    * Jumlah diskon secara statistik mungkin tidak berdampak signifikan pada complete order rate, perusahaan direkomendasikan untuk mempertimbangkan strategi alternatif untuk mendorong pembelian customer, sebagai contoh, paket bundling berdasarkan order quantity 1-3."
   ]
  },
  {
   "cell_type": "markdown",
   "id": "d100efe7-1111-48fa-bcf2-317f334994e5",
   "metadata": {},
   "source": [
    "## **Retention Last 1 Year** 💡\n",
    "\n",
    "Untuk menjawab pertanyaan berikut:\n",
    "* Apakah customer masih menggunakan platform e-commerce dalam 1 tahun kebelakang?\n",
    "* Apakah ada pola tertentu pada aktivitas customer dalam 1 tahun?\n",
    "\n",
    "Analisa Retention dilakukan dengan mengecualikan order yang fraud"
   ]
  },
  {
   "cell_type": "code",
   "execution_count": 94,
   "id": "1c106f22-bb1e-4baf-a9b7-4c8d6dabf1fb",
   "metadata": {},
   "outputs": [],
   "source": [
    "df2 = df[df['status'].isin(['COMPLETE', 'CANCELED', 'PROCESSING'])].copy()"
   ]
  },
  {
   "cell_type": "code",
   "execution_count": 95,
   "id": "7e7b9a5e-e6ce-4886-b12b-e7c31b4404bd",
   "metadata": {},
   "outputs": [],
   "source": [
    "df_ret = df2[df2['order_month'] >= (df2['created_at'].max() - relativedelta(months=12)).to_period('M')].copy()"
   ]
  },
  {
   "cell_type": "code",
   "execution_count": 96,
   "id": "8ad66a05-5f2d-489d-bf9f-ae51e82f2089",
   "metadata": {},
   "outputs": [],
   "source": [
    "#df_ret.to_csv(\"D:/Documents/AI_and_Embedded_Systems/AI/Courses/Purwadhika/Module_2_Data_Analysis/Online_Learning/Capstone/retention.csv\", index=False)  "
   ]
  },
  {
   "cell_type": "code",
   "execution_count": 97,
   "id": "4560b599-73b1-460c-ad9f-47bcdc75f7a0",
   "metadata": {},
   "outputs": [
    {
     "data": {
      "text/html": [
       "<div>\n",
       "<style scoped>\n",
       "    .dataframe tbody tr th:only-of-type {\n",
       "        vertical-align: middle;\n",
       "    }\n",
       "\n",
       "    .dataframe tbody tr th {\n",
       "        vertical-align: top;\n",
       "    }\n",
       "\n",
       "    .dataframe thead th {\n",
       "        text-align: right;\n",
       "    }\n",
       "</style>\n",
       "<table border=\"1\" class=\"dataframe\">\n",
       "  <thead>\n",
       "    <tr style=\"text-align: right;\">\n",
       "      <th></th>\n",
       "      <th>item_id</th>\n",
       "      <th>status</th>\n",
       "      <th>created_at</th>\n",
       "      <th>sku</th>\n",
       "      <th>price</th>\n",
       "      <th>qty_ordered</th>\n",
       "      <th>grand_total</th>\n",
       "      <th>category_name_1</th>\n",
       "      <th>discount_amount</th>\n",
       "      <th>payment_method</th>\n",
       "      <th>Customer Since</th>\n",
       "      <th>Customer ID</th>\n",
       "      <th>qty_bins</th>\n",
       "      <th>order_month</th>\n",
       "      <th>order_quarter</th>\n",
       "      <th>day_of_week</th>\n",
       "      <th>is_complete</th>\n",
       "    </tr>\n",
       "  </thead>\n",
       "  <tbody>\n",
       "    <tr>\n",
       "      <th>261257</th>\n",
       "      <td>547058</td>\n",
       "      <td>COMPLETE</td>\n",
       "      <td>2017-08-01</td>\n",
       "      <td>IGEEK_DZ09-&amp;-MINI-BLUETOOTH</td>\n",
       "      <td>1389.0</td>\n",
       "      <td>1.0</td>\n",
       "      <td>1389.0</td>\n",
       "      <td>MOBILES &amp; TABLETS</td>\n",
       "      <td>0.0</td>\n",
       "      <td>COD</td>\n",
       "      <td>2017-07-01</td>\n",
       "      <td>56182</td>\n",
       "      <td>1</td>\n",
       "      <td>2017-08</td>\n",
       "      <td>2017Q3</td>\n",
       "      <td>Tuesday</td>\n",
       "      <td>1</td>\n",
       "    </tr>\n",
       "  </tbody>\n",
       "</table>\n",
       "</div>"
      ],
      "text/plain": [
       "       item_id    status created_at                          sku   price  \\\n",
       "261257  547058  COMPLETE 2017-08-01  IGEEK_DZ09-&-MINI-BLUETOOTH  1389.0   \n",
       "\n",
       "        qty_ordered  grand_total    category_name_1  discount_amount  \\\n",
       "261257          1.0       1389.0  MOBILES & TABLETS              0.0   \n",
       "\n",
       "       payment_method Customer Since Customer ID qty_bins order_month  \\\n",
       "261257            COD     2017-07-01       56182        1     2017-08   \n",
       "\n",
       "       order_quarter day_of_week  is_complete  \n",
       "261257        2017Q3     Tuesday            1  "
      ]
     },
     "execution_count": 97,
     "metadata": {},
     "output_type": "execute_result"
    }
   ],
   "source": [
    "df_ret.head(1)"
   ]
  },
  {
   "cell_type": "code",
   "execution_count": 98,
   "id": "8f9cbef3-2598-4628-865d-afebbe88c74d",
   "metadata": {},
   "outputs": [],
   "source": [
    "df_ret['cohort_month'] = df_ret.groupby('Customer ID')['created_at'].transform('min').dt.to_period('M')"
   ]
  },
  {
   "cell_type": "code",
   "execution_count": 99,
   "id": "95cccdf3-111c-4eb9-a375-bc46aaa35c96",
   "metadata": {},
   "outputs": [
    {
     "data": {
      "text/html": [
       "<div>\n",
       "<style scoped>\n",
       "    .dataframe tbody tr th:only-of-type {\n",
       "        vertical-align: middle;\n",
       "    }\n",
       "\n",
       "    .dataframe tbody tr th {\n",
       "        vertical-align: top;\n",
       "    }\n",
       "\n",
       "    .dataframe thead th {\n",
       "        text-align: right;\n",
       "    }\n",
       "</style>\n",
       "<table border=\"1\" class=\"dataframe\">\n",
       "  <thead>\n",
       "    <tr style=\"text-align: right;\">\n",
       "      <th></th>\n",
       "      <th></th>\n",
       "      <th>n_customers</th>\n",
       "    </tr>\n",
       "    <tr>\n",
       "      <th>cohort_month</th>\n",
       "      <th>order_month</th>\n",
       "      <th></th>\n",
       "    </tr>\n",
       "  </thead>\n",
       "  <tbody>\n",
       "    <tr>\n",
       "      <th rowspan=\"5\" valign=\"top\">2017-08</th>\n",
       "      <th>2017-08</th>\n",
       "      <td>6866</td>\n",
       "    </tr>\n",
       "    <tr>\n",
       "      <th>2017-09</th>\n",
       "      <td>752</td>\n",
       "    </tr>\n",
       "    <tr>\n",
       "      <th>2017-10</th>\n",
       "      <td>774</td>\n",
       "    </tr>\n",
       "    <tr>\n",
       "      <th>2017-11</th>\n",
       "      <td>1365</td>\n",
       "    </tr>\n",
       "    <tr>\n",
       "      <th>2017-12</th>\n",
       "      <td>459</td>\n",
       "    </tr>\n",
       "  </tbody>\n",
       "</table>\n",
       "</div>"
      ],
      "text/plain": [
       "                          n_customers\n",
       "cohort_month order_month             \n",
       "2017-08      2017-08             6866\n",
       "             2017-09              752\n",
       "             2017-10              774\n",
       "             2017-11             1365\n",
       "             2017-12              459"
      ]
     },
     "execution_count": 99,
     "metadata": {},
     "output_type": "execute_result"
    }
   ],
   "source": [
    "df_ret.groupby(['cohort_month', 'order_month']).agg(n_customers=('Customer ID', 'nunique')).head(5)"
   ]
  },
  {
   "cell_type": "code",
   "execution_count": 100,
   "id": "33b1bfe0-7e71-4da8-83c0-b87d46eb954d",
   "metadata": {},
   "outputs": [],
   "source": [
    "cohort_data = df_ret.groupby(['cohort_month', 'order_month']).agg(n_customers=('Customer ID', 'nunique')).reset_index()"
   ]
  },
  {
   "cell_type": "code",
   "execution_count": 101,
   "id": "9b4ad9ac-2882-497f-a837-ffeffc47ad1e",
   "metadata": {},
   "outputs": [],
   "source": [
    "cohort_data['cohort_index'] = (cohort_data['order_month'] - cohort_data['cohort_month']).apply(lambda x: x.n)"
   ]
  },
  {
   "cell_type": "code",
   "execution_count": 102,
   "id": "4174e9ba-0bcf-487a-b167-8f2a2b877d47",
   "metadata": {},
   "outputs": [
    {
     "data": {
      "text/html": [
       "<div>\n",
       "<style scoped>\n",
       "    .dataframe tbody tr th:only-of-type {\n",
       "        vertical-align: middle;\n",
       "    }\n",
       "\n",
       "    .dataframe tbody tr th {\n",
       "        vertical-align: top;\n",
       "    }\n",
       "\n",
       "    .dataframe thead th {\n",
       "        text-align: right;\n",
       "    }\n",
       "</style>\n",
       "<table border=\"1\" class=\"dataframe\">\n",
       "  <thead>\n",
       "    <tr style=\"text-align: right;\">\n",
       "      <th>cohort_index</th>\n",
       "      <th>0</th>\n",
       "      <th>1</th>\n",
       "      <th>2</th>\n",
       "      <th>3</th>\n",
       "      <th>4</th>\n",
       "      <th>5</th>\n",
       "      <th>6</th>\n",
       "      <th>7</th>\n",
       "      <th>8</th>\n",
       "      <th>9</th>\n",
       "      <th>10</th>\n",
       "      <th>11</th>\n",
       "      <th>12</th>\n",
       "    </tr>\n",
       "    <tr>\n",
       "      <th>cohort_month</th>\n",
       "      <th></th>\n",
       "      <th></th>\n",
       "      <th></th>\n",
       "      <th></th>\n",
       "      <th></th>\n",
       "      <th></th>\n",
       "      <th></th>\n",
       "      <th></th>\n",
       "      <th></th>\n",
       "      <th></th>\n",
       "      <th></th>\n",
       "      <th></th>\n",
       "      <th></th>\n",
       "    </tr>\n",
       "  </thead>\n",
       "  <tbody>\n",
       "    <tr>\n",
       "      <th>2017-08</th>\n",
       "      <td>6866.0</td>\n",
       "      <td>752.0</td>\n",
       "      <td>774.0</td>\n",
       "      <td>1365.0</td>\n",
       "      <td>459.0</td>\n",
       "      <td>406.0</td>\n",
       "      <td>438.0</td>\n",
       "      <td>469.0</td>\n",
       "      <td>299.0</td>\n",
       "      <td>495.0</td>\n",
       "      <td>267.0</td>\n",
       "      <td>212.0</td>\n",
       "      <td>303.0</td>\n",
       "    </tr>\n",
       "    <tr>\n",
       "      <th>2017-09</th>\n",
       "      <td>2027.0</td>\n",
       "      <td>490.0</td>\n",
       "      <td>327.0</td>\n",
       "      <td>117.0</td>\n",
       "      <td>114.0</td>\n",
       "      <td>108.0</td>\n",
       "      <td>107.0</td>\n",
       "      <td>75.0</td>\n",
       "      <td>101.0</td>\n",
       "      <td>56.0</td>\n",
       "      <td>34.0</td>\n",
       "      <td>46.0</td>\n",
       "      <td>NaN</td>\n",
       "    </tr>\n",
       "    <tr>\n",
       "      <th>2017-10</th>\n",
       "      <td>4135.0</td>\n",
       "      <td>742.0</td>\n",
       "      <td>206.0</td>\n",
       "      <td>175.0</td>\n",
       "      <td>244.0</td>\n",
       "      <td>208.0</td>\n",
       "      <td>124.0</td>\n",
       "      <td>241.0</td>\n",
       "      <td>93.0</td>\n",
       "      <td>75.0</td>\n",
       "      <td>95.0</td>\n",
       "      <td>NaN</td>\n",
       "      <td>NaN</td>\n",
       "    </tr>\n",
       "    <tr>\n",
       "      <th>2017-11</th>\n",
       "      <td>19320.0</td>\n",
       "      <td>1367.0</td>\n",
       "      <td>695.0</td>\n",
       "      <td>791.0</td>\n",
       "      <td>820.0</td>\n",
       "      <td>417.0</td>\n",
       "      <td>808.0</td>\n",
       "      <td>336.0</td>\n",
       "      <td>241.0</td>\n",
       "      <td>339.0</td>\n",
       "      <td>NaN</td>\n",
       "      <td>NaN</td>\n",
       "      <td>NaN</td>\n",
       "    </tr>\n",
       "    <tr>\n",
       "      <th>2017-12</th>\n",
       "      <td>2699.0</td>\n",
       "      <td>223.0</td>\n",
       "      <td>119.0</td>\n",
       "      <td>120.0</td>\n",
       "      <td>73.0</td>\n",
       "      <td>110.0</td>\n",
       "      <td>64.0</td>\n",
       "      <td>53.0</td>\n",
       "      <td>57.0</td>\n",
       "      <td>NaN</td>\n",
       "      <td>NaN</td>\n",
       "      <td>NaN</td>\n",
       "      <td>NaN</td>\n",
       "    </tr>\n",
       "  </tbody>\n",
       "</table>\n",
       "</div>"
      ],
      "text/plain": [
       "cohort_index       0       1      2       3      4      5      6      7   \\\n",
       "cohort_month                                                               \n",
       "2017-08        6866.0   752.0  774.0  1365.0  459.0  406.0  438.0  469.0   \n",
       "2017-09        2027.0   490.0  327.0   117.0  114.0  108.0  107.0   75.0   \n",
       "2017-10        4135.0   742.0  206.0   175.0  244.0  208.0  124.0  241.0   \n",
       "2017-11       19320.0  1367.0  695.0   791.0  820.0  417.0  808.0  336.0   \n",
       "2017-12        2699.0   223.0  119.0   120.0   73.0  110.0   64.0   53.0   \n",
       "\n",
       "cohort_index     8      9      10     11     12  \n",
       "cohort_month                                     \n",
       "2017-08       299.0  495.0  267.0  212.0  303.0  \n",
       "2017-09       101.0   56.0   34.0   46.0    NaN  \n",
       "2017-10        93.0   75.0   95.0    NaN    NaN  \n",
       "2017-11       241.0  339.0    NaN    NaN    NaN  \n",
       "2017-12        57.0    NaN    NaN    NaN    NaN  "
      ]
     },
     "execution_count": 102,
     "metadata": {},
     "output_type": "execute_result"
    }
   ],
   "source": [
    "cohort_counts = cohort_data.pivot_table(index='cohort_month', columns='cohort_index', values='n_customers')\n",
    "cohort_counts.head()"
   ]
  },
  {
   "cell_type": "code",
   "execution_count": 103,
   "id": "c8620e41-3ef8-441c-9adf-31f67af2b4bc",
   "metadata": {},
   "outputs": [
    {
     "data": {
      "text/plain": [
       "cohort_month\n",
       "2017-08     6866.0\n",
       "2017-09     2027.0\n",
       "2017-10     4135.0\n",
       "2017-11    19320.0\n",
       "2017-12     2699.0\n",
       "Freq: M, Name: 0, dtype: float64"
      ]
     },
     "execution_count": 103,
     "metadata": {},
     "output_type": "execute_result"
    }
   ],
   "source": [
    "cohort_sizes = cohort_counts.iloc[:,0] # (index baris, index kolom)\n",
    "cohort_sizes.head()"
   ]
  },
  {
   "cell_type": "code",
   "execution_count": 104,
   "id": "a7d8fce5-bd54-4cb1-8a85-147a79947e04",
   "metadata": {},
   "outputs": [
    {
     "data": {
      "text/html": [
       "<div>\n",
       "<style scoped>\n",
       "    .dataframe tbody tr th:only-of-type {\n",
       "        vertical-align: middle;\n",
       "    }\n",
       "\n",
       "    .dataframe tbody tr th {\n",
       "        vertical-align: top;\n",
       "    }\n",
       "\n",
       "    .dataframe thead th {\n",
       "        text-align: right;\n",
       "    }\n",
       "</style>\n",
       "<table border=\"1\" class=\"dataframe\">\n",
       "  <thead>\n",
       "    <tr style=\"text-align: right;\">\n",
       "      <th>cohort_index</th>\n",
       "      <th>0</th>\n",
       "      <th>1</th>\n",
       "      <th>2</th>\n",
       "      <th>3</th>\n",
       "      <th>4</th>\n",
       "      <th>5</th>\n",
       "      <th>6</th>\n",
       "      <th>7</th>\n",
       "      <th>8</th>\n",
       "      <th>9</th>\n",
       "      <th>10</th>\n",
       "      <th>11</th>\n",
       "      <th>12</th>\n",
       "    </tr>\n",
       "    <tr>\n",
       "      <th>cohort_month</th>\n",
       "      <th></th>\n",
       "      <th></th>\n",
       "      <th></th>\n",
       "      <th></th>\n",
       "      <th></th>\n",
       "      <th></th>\n",
       "      <th></th>\n",
       "      <th></th>\n",
       "      <th></th>\n",
       "      <th></th>\n",
       "      <th></th>\n",
       "      <th></th>\n",
       "      <th></th>\n",
       "    </tr>\n",
       "  </thead>\n",
       "  <tbody>\n",
       "    <tr>\n",
       "      <th>2017-08</th>\n",
       "      <td>100.0</td>\n",
       "      <td>11.0</td>\n",
       "      <td>11.0</td>\n",
       "      <td>20.0</td>\n",
       "      <td>7.0</td>\n",
       "      <td>6.0</td>\n",
       "      <td>6.0</td>\n",
       "      <td>7.0</td>\n",
       "      <td>4.0</td>\n",
       "      <td>7.0</td>\n",
       "      <td>4.0</td>\n",
       "      <td>3.0</td>\n",
       "      <td>4.0</td>\n",
       "    </tr>\n",
       "    <tr>\n",
       "      <th>2017-09</th>\n",
       "      <td>100.0</td>\n",
       "      <td>24.0</td>\n",
       "      <td>16.0</td>\n",
       "      <td>6.0</td>\n",
       "      <td>6.0</td>\n",
       "      <td>5.0</td>\n",
       "      <td>5.0</td>\n",
       "      <td>4.0</td>\n",
       "      <td>5.0</td>\n",
       "      <td>3.0</td>\n",
       "      <td>2.0</td>\n",
       "      <td>2.0</td>\n",
       "      <td>NaN</td>\n",
       "    </tr>\n",
       "    <tr>\n",
       "      <th>2017-10</th>\n",
       "      <td>100.0</td>\n",
       "      <td>18.0</td>\n",
       "      <td>5.0</td>\n",
       "      <td>4.0</td>\n",
       "      <td>6.0</td>\n",
       "      <td>5.0</td>\n",
       "      <td>3.0</td>\n",
       "      <td>6.0</td>\n",
       "      <td>2.0</td>\n",
       "      <td>2.0</td>\n",
       "      <td>2.0</td>\n",
       "      <td>NaN</td>\n",
       "      <td>NaN</td>\n",
       "    </tr>\n",
       "    <tr>\n",
       "      <th>2017-11</th>\n",
       "      <td>100.0</td>\n",
       "      <td>7.0</td>\n",
       "      <td>4.0</td>\n",
       "      <td>4.0</td>\n",
       "      <td>4.0</td>\n",
       "      <td>2.0</td>\n",
       "      <td>4.0</td>\n",
       "      <td>2.0</td>\n",
       "      <td>1.0</td>\n",
       "      <td>2.0</td>\n",
       "      <td>NaN</td>\n",
       "      <td>NaN</td>\n",
       "      <td>NaN</td>\n",
       "    </tr>\n",
       "    <tr>\n",
       "      <th>2017-12</th>\n",
       "      <td>100.0</td>\n",
       "      <td>8.0</td>\n",
       "      <td>4.0</td>\n",
       "      <td>4.0</td>\n",
       "      <td>3.0</td>\n",
       "      <td>4.0</td>\n",
       "      <td>2.0</td>\n",
       "      <td>2.0</td>\n",
       "      <td>2.0</td>\n",
       "      <td>NaN</td>\n",
       "      <td>NaN</td>\n",
       "      <td>NaN</td>\n",
       "      <td>NaN</td>\n",
       "    </tr>\n",
       "  </tbody>\n",
       "</table>\n",
       "</div>"
      ],
      "text/plain": [
       "cohort_index     0     1     2     3    4    5    6    7    8    9    10   11  \\\n",
       "cohort_month                                                                    \n",
       "2017-08       100.0  11.0  11.0  20.0  7.0  6.0  6.0  7.0  4.0  7.0  4.0  3.0   \n",
       "2017-09       100.0  24.0  16.0   6.0  6.0  5.0  5.0  4.0  5.0  3.0  2.0  2.0   \n",
       "2017-10       100.0  18.0   5.0   4.0  6.0  5.0  3.0  6.0  2.0  2.0  2.0  NaN   \n",
       "2017-11       100.0   7.0   4.0   4.0  4.0  2.0  4.0  2.0  1.0  2.0  NaN  NaN   \n",
       "2017-12       100.0   8.0   4.0   4.0  3.0  4.0  2.0  2.0  2.0  NaN  NaN  NaN   \n",
       "\n",
       "cohort_index   12  \n",
       "cohort_month       \n",
       "2017-08       4.0  \n",
       "2017-09       NaN  \n",
       "2017-10       NaN  \n",
       "2017-11       NaN  \n",
       "2017-12       NaN  "
      ]
     },
     "execution_count": 104,
     "metadata": {},
     "output_type": "execute_result"
    }
   ],
   "source": [
    "retention = cohort_counts.divide(cohort_sizes, axis=0)\n",
    "retention.head().round(2) * 100"
   ]
  },
  {
   "cell_type": "code",
   "execution_count": 105,
   "id": "b502340c-2efc-4571-bcf7-60a4931e0b93",
   "metadata": {},
   "outputs": [
    {
     "data": {
      "image/png": "iVBORw0KGgoAAAANSUhEUgAAA1gAAAHoCAYAAABUyk70AAAAOXRFWHRTb2Z0d2FyZQBNYXRwbG90bGliIHZlcnNpb24zLjQuMywgaHR0cHM6Ly9tYXRwbG90bGliLm9yZy/MnkTPAAAACXBIWXMAAAsTAAALEwEAmpwYAACRZElEQVR4nOzdeVzU1f7H8dewwwyImtUtFeWqmZXlcrUyzbqWVhcRdyy03IpSwVxzw4WbmkpZSu5aJHb1ZqVWv+pyTXDJEpeKrrcFxRa9iZowMyADM78/qFECMRVkZno/e8wjvss5cz6eL8Oc+ZzvGYPD4XAgIiIiIiIil82rphsgIiIiIiLiKTTAEhERERERqSIaYImIiIiIiFQRDbBERERERESqiAZYIiIiIiIiVUQDLBERERERkSriU9MNEBGRC7vhhhto1qwZXl5eGAwGCgoKMJlMTJ8+nVtuuaXSsh999BEHDhwgLi7ukp9/0aJFNG/enC5durBw4ULCwsLo0aPHJdf3q++//5777ruPZs2aOfdZrVauvfZann32WRo0aPC72yUiIuIKNMASEXETr7zyCnXq1HFur1y5ksTERP7xj39UWu7zzz/n9OnTl/Xcu3fvpkmTJgCXNVCrSEBAAG+//bZz2+FwkJiYyPPPP09SUtLvbpeIiIgr0ABLRMQNFRcXc/ToUWrVquXc9/LLL/PBBx9gt9u5/vrrSUhI4NixY7z++uuUlJQQHBzM6NGj2bBhA+vWrcNutxMaGsrUqVP585//zMSJEzGZTPz3v//l2LFj3HDDDcydO5e33nqLL774gueeew5vb2/S0tJo2rQpQ4YMYc+ePTz33HMUFBTg6+tLfHw8nTp1YuPGjXz44Yd4eXmRk5NDQEAAc+fO5c9//vMFYztz5gw//fQTV111FQCHDh1i5syZWCwWjh8/TvPmzXnhhRf45z//WaZdd999N/Pnz+fTTz+lpKSEFi1aMGXKFEwmE6mpqbz++uv4+vri7+/PzJkzNTATEZFqoQGWiIibGDRoEACnTp3C39+fe+65h9mzZwPw1ltv8dVXX7FhwwZ8fHz4xz/+wZQpU1i+fDn9+/fn1KlTjB49mk8++YS33nqLtWvXEhgYyPbt2xkxYgTvvfceAF988QWvvvoqBoOBvn378n//9388/PDDzv/fd999pKWlOdsxatQoXn75ZW699Va+/vprHnnkEf75z38C8Omnn7JlyxauvfZaZs2axbJly5g7d265uAoLC4mMjMRut3PixAlq1arF/fffz/DhwwFYv349PXr0IDIyEpvNRs+ePfnoo4/KtWvRokV4e3uzceNGDAYDSUlJzJ8/n6lTp/Lss8/y73//m6uvvpq33nqLzMxMDbBERKRaaIAlIuImfp0imJWVxfDhw2nfvj1169YFYOvWrXz++ef06tULALvdTkFBQbk6PvroI3Jycujfv79zX15eHj///DMAHTt2xM/PD4BmzZpVOrXws88+o2HDhtx6660ANG3alNatW/PJJ59gMBi46aabuPbaawFo0aIFH374YYX1nDtFMCMjg3HjxnHPPfdgNBoBGDduHDt27GD58uUcPnyYn376CavVWmFs+fn57Ny5EwCbzUbdunXx9vamW7du9O/fn86dO3PXXXdx9913nzcuERGRy6EBloiIm7npppt45plnmDhxIjfeeCP169fHbrczdOhQBgwYAEBRUVGFgyO73U5kZCTjxo1zbv/000/OqYYBAQHOcw0GAw6H47ztKCkpwWAwlNnncDgoLi7G19f3our6VceOHXnssceIi4vjnXfewWQy8fTTT1NSUsIDDzxA586dOXr0aIV12e12Jk2a5Bw8WSwWzpw5A8D8+fP56quv2LlzJ8uWLePtt99m4cKFF2yPiIjIxdIy7SIibuhvf/sbLVu2dE4RvOuuu/jnP/+J2WwGYOHChYwfPx4Ab29viouLnee98847/PTTTwCsW7fOOfWwMufW8avbbruN7OxsPvvsMwC+/vprPv30U9q1a3dZsQ0ePBij0ciLL74IwPbt23nqqad48MEHAThw4AAlJSUVxrZ27VqKioqw2+1MnTqVpKQkTp48yd13301oaCiPPvoo8fHxfP7555fVRhERkfNRBktExE1NnTqV7t27k5GRQZ8+ffjf//5H3759MRgM/OlPf2LOnDkA3H777YwdO5ZZs2YxdepUhg0bxuDBgzEYDJhMJhYtWlQuE/Vb9957L0lJSdhsNue+OnXqsHDhQmbNmkVhYSEGg4HZs2fTuHFj9u3bd8lx+fr6MnXqVIYOHUrv3r0ZPXo0Tz31FEFBQZhMJv7yl79w5MiRcu168sknmTt3LlFRUZSUlHDjjTc6F+6IjY3l0UcfJSAgAG9vbxITEy+5fSIiIpUxOH7PnA0RERERERG5IE0RFBERERERqSIaYImIiIiIiFQRDbBEREREROQP58CBA8TExACQk5NDdHQ0AwYMICEhAbvdDpR+F2PPnj3p27cvW7du/V31aoAlIiIiIiJ/KMuXL2fKlCnOr/OYPXs28fHxpKam4nA4SEtL4/jx46SkpPD666+zcuVKkpKSKCoqumDdbr+KYGCrETXdhGrz37QFNd0EuQSnzBf+xXNX19UOrOkmVJsLLKInLsiTl2jy9fHcC9JW7Lkd58n95u3BL5IlHvxiEhroXdNNuGjV8d6+YN+icvsaNmzISy+95PxKk6ysLOfXjHTq1IkdO3bg5eVFq1at8PPzw8/Pj4YNG3Lw4EFatmxZ6fMpgyUiIiIiIn8oXbt2xcfnbK7J4XA4v7LEaDSSn5+P2WwmODjYeY7RaHR+32Rl3D6DJSIiIiIiHsJQM/kfL6+zz2uxWAgJCcFkMmGxWMrsP3fAdd66qqWFIiIiIiIibqJFixbs3r0bgPT0dNq2bUvLli3JzMzkzJkz5Ofn8+2339KsWbML1qUMloiIiIiIuIYaut9vwoQJTJ06laSkJMLDw+natSve3t7ExMQwYMAAHA4Ho0ePxt/f/4J1GRwO976zT4tciKvRIhfuyYPv3/ZY7v3Xq3KevFiCFrlwT1rkwj255SIXbeKqvM6CzIVVXmdllMESERERERHXUEP3YFUlDbBERERERMQ1eEC21P2HiCIiIiIiIi5CGSwREREREXENHjBF0P0jEBERERERcRHKYImIiIiIiGvwgHuwNMASERERERHX4AFTBCsdYNlsNiZNmsQPP/xAUVERsbGxNGnShIkTJ2IwGGjatCkJCQl4eZX+Q5w8eZL+/fuzefNm/P39WbZsGRkZGQDk5eWRm5vLjh07yjxHYWEh48aN48SJExiNRubOnUudOnXYuXMn8+fPx8fHhzvuuIPRo0dX0z8B/OXmMBLjetB12ELCG1zF8hkxOBwOsr49Svzs9TgcDh6LupMhve+ipLiEOSve572ML8rUcb5yruQ/WZ+xYvELLEheBcD2j9JI//cHTJo5t9y57779T7a89U+8vb15+NHh3H7X3Ve6uRfFE2MrLi7m5fkzOP6/o9hsRfQaMIT6YeEsnjcdg8FAg0Z/ZsjICc7fPwC73c6KF+eQk/01vr6+PPH0VK69vkENRnFh725+k3c3vw1AUdEZvvnqIG+/v43g4BAAtqdvZc2Kl/H29uGh7lF0j+pTk829KK+uWs729K0U22xE9elPRI9ezmPb07eyenlpXH/rHkX3nu4TF3hubJ58Pf7q5MkTDIruw0tLVtCocbhzf8a2raxc+jLePt5ERPakRy/3iU395p79VlJSQuKMaeTkHMLby4uEmc9Sv0FD5/H0j7ayYlky3t7edO/Rk6hefWuwtZfGE/tNLqzSAdamTZsIDQ1l3rx5nDp1iqioKJo3b058fDzt27dn2rRppKWlcd9995GRkcGCBQvIzc11lh8+fDjDhw8H4PHHH2fs2LHlnmPdunU0a9aMkSNH8s4775CcnMyUKVN47rnnmD9/Pn/+858ZMGAA//3vf7nhhhuqOHx4elAXoh9qh7XgDABzx/Ri+uItZGR+zYuT+xPR+RZ2f3aIJ6M70+Hh5wjw9yFt1dOkfXyQIluxs56Kym3a+lmVt/dS/eO1VfzrvS0EBJZ+Uezi5+eQ+fFO/tyseblzT57I5c31qSxe/Tq2ojPEPz6I1u3uwM/P70o3+3fx1Ngy/vUuwSGhjJw4i/y8nxn/xMM0+nMz+j8Wy023tmXZC8+yZ+c22t11j7PMpzs+wlZUxN9fXM1XX37Oq0ufZ/zMpBqM4sIejIjiwYgoABbMncVD3aOcb4qKi228lDSX5a/+g8DAQGKHPEKHjp2pe1W9mmzy77J3zyd88dk+lqx6jcLCAtalrHEeK7bZeHHBXFaklMb1xOBH6NDJPeICz47NU6/HXxXbbMyZNR1/f/9y+1+YP4fVa9cTGBjIsEGP0PFu94lN/eae/ZaxbSsAq15JZc+nn5A0fy5JCxcDpbElzZ/Dq6mlsQ0Z9DAd776Hq9wkNvDcfqt2HjBFsNIcXLdu3YiLO/ttyt7e3mRlZdGuXTsAOnXqxM6dO0sr8vJi9erVhIaGlqvngw8+ICQkhI4dO5Y7lpmZ6dzfqVMndu3aBcCNN97Izz//jM1m48yZM3h7V883UWd/n0v/scud261vbEBG5tel7d6RxT3tm9P25kbsOpBNka2YPHMh2d8d55am15Wpp6JyruS66xuQMOd55/ZNt9zGqPFTKjz34Jefc1PLVvj5+WE0BXN9/YYc+uarK9XUi+apsd1xdxf6PfqEc9vb24fsrw/SomUbAFq1u5PP9n5SpszBrP3c9pc7AGjW4ha+/eo/V67Bl+ngl19w6Ntviex59hPKw4eyub5BQ0JCauHr60fLW1tzYP/eGmzl77d71w7CmzTjmbGjGB//FHd2PJspPXw4m/rnxnVbaw7sc4+4wLNj+5WnXY+/Wpg0j559+lGv3tVl9h86lE39BmHO2G5t1Zr9ezNrqJWXTv3mXv3W+d4uTJ42A4BjR3+kbt26zmOHDmXT4Jx+c7fYwHP7TS6s0gGW0WjEZDJhNpsZNWoU8fHxOBwODL+MLI1GI/n5+QB06NCB2rVrV1jP0qVLGTFiRIXHzGYzwcHB5eq74YYbeOKJJ3jwwQf505/+RHh4eIXlL9dbafux2Uqc24ZzRs35ljPUMgUQbAwgL7/g7H5rISHBgWXqqaicK+l4z334+JxNWHbu0q1Mm89ltVgwmkzO7cCgICxmc7W38VJ5amwBgUEEBhkpsFpImjmB/o/Fwjm/f4GBRqzWsm0vsFgIMp6Nz8vLi5KSYtzBq6uXM3h4bJl9FosZkynYuR1kNGIx51/ppl2S0z+f4uCXWSTOTWLcpARmTJngnDZsMZsxnhtXkBGzm8QFnh3brzztegTY8vab1K5Th9vvvKvcsdLYzr52BBmNmF30tbEy6jf36zcfHx8Spkxk3pxE/tqlq3O/xVw2NqObvZZ4er9VK4NX1T+usAs+49GjRxk4cCCRkZFERESUud/DYrEQEhJSaflvvvmGkJAQwsLCAMjJySEmJoaYmBg2bNiAyWTCYrGUqS8vL4+lS5fyzjvv8K9//YuwsDBWrVp1OXH+bna73flzsNGf0/kF5FsKMRnPpneDgwI4fc6A63zl3FWQsfRN/a8KrFaMwcGVlHAf7hZb7k/HmDH2CTp2eZC77u2G4Zzfv4ICC8ZzBlMAgUYjBQVW57bD4cDb2/XXssnPz+PI4Wxat21fZr/RaMJqOdtfVoulzBslV1arVijt7+iAr68fYY0a4+/nx8+nTgJgNJmwnnMdWq0W5wdN7sCTYwPPvB4BNr+9kU8+3knskEF89d+DzJjyDCdyjwOlsVl+G5v6zSV4er8BzEicwxub3iNx5lQKrKV/w4wmE5ZzXkssVgum4Mrfc7qSP0K/VRuDoeofV1ilA6zc3FwGDx7MuHHj6N27NwAtWrRg9+7dAKSnp9O2bdtKn2Dnzp106tTJuR0WFkZKSgopKSn06dOH1q1bs23bNmd9bdq0ISAggKCgIIKCggC4+uqrycvLu/QoL8L+g9/TsU1TAO7vcBM79n3Lni8O06FVE/z9fAgxBXBD42vI+ubHC5ZzV81b3MLn+/dSdOYMFnM+Rw5n0zi8SU03q0q4U2w/nzrB3yeO4OGhI7m3WyQAjZrcQNaBPQDs+2QnN97SqkyZG266lX27SxeS+erLz2nY2DVj+60De/fQtt0d5fY3ahzO99/lkHf6Z2y2Ivbvy+Tmlrdd+QZegpa3tebjXdtxOBwcP/4TBQUFhNQKBaBRo3C+P3I2rgN73Scu8OzYwDOvR4Clq1JYsvJVXl75Cs1uaE5C4mznPR+NG4fz3ZEcTv8S2769e7jFjWID9Zs79ts7m99m9cplAAQEBOJl8MLrl1tCysWWuYeWbhSbJ/ebXFilH20vWbKEvLw8kpOTSU5OBmDy5MkkJiaSlJREeHg4Xbt2rawKDh06RIcOHc57PDo6mgkTJhAdHY2vry8LFizAz8+PiRMnMnjwYPz9/QkODmbOnDmXEN7Fm5j0JsnTovHz9eFg9jE2/msfdruD5HUfkbZqNAaDgemLt3CmqJjm4dfyRL9OxM9eX2E5d/PPda9yXf0G3NnxHqL6DmB07KM47HYee2Ikfr+5QdPduGNsb6auxmzO5421K3hj7QoAHn1yLKsXz6e4eDHXN2zE7R3/CsCiudPo/9iTtOtwD59l7mZK3GAcDgdPjk2oyRB+tyM5h7nu+vrO7Q/+bwsFViuRPfsyYvR4nh45HLvdwUPdo6h39TU12NLfr0Onzuzft4ehA/vhsDsYM2EKaR+8R0FBaVwjnx7P6BHDcdgdPBTpPnGBZ8cGnnk9ns/7727BarUS1bsv8WMnEBc7HLvDTkRkT66+xr1iU7+5X7/d+9f7mJEwmWGPPUJxcTFPj3+GrWkfYrVa6dm7L6PHTGRk7DDsdjvde7hXbBXxlH6rdh6wTLvB4WpriV+kwFYV39vlCf6btqCmmyCX4JS5qKabUG2uqx144ZPclAcsWvSH495/vSrn6+O5F6St2HM7zpP7zduDXyRLPPjFJDSwehaJq06Bd02t8joLts+q8jor4/o3Z4iIiIiIyB+DBwzm3T8HJyIiIiIi4iKUwRIREREREdfgAfdgaYAlIiIiIiKuwQMGWO4fgYiIiIiIiItQBktERERERFyDlxa5EBERERERkV8ogyUiIiIiIq7BA+7B0gBLRERERERcg74HS0RERERERH6lDJaIiIiIiLgGD5gi6P4RiIiIiIiIuAhlsERERERExDV4wD1YGmC5sKOnCmu6CdUm1Ohb002oNtfXCazpJsgl8PaA7934o/GAv8Hn5XDUdAuqT4Cv506eMXjyRenBQgM895p0S5oiKCIiIiIiIr9SBktERERERFyDB2SClcESERERERGpIspgiYiIiIiIa/CAe7A0wBIREREREdegKYIiIiIiIiLyK2WwRERERETENXjAFEH3j0BERERERMRFKIMlIiIiIiKuQfdgiYiIiIiIyK+UwRIREREREdfgAfdgaYAlIiIiIiKuwdMHWDabjUmTJvHDDz9QVFREbGwsTZo0YeLEiRgMBpo2bUpCQgJeXqX/ECdPnqR///5s3rwZf39/li1bRkZGBgB5eXnk5uayY8eOMs9RWFjIuHHjOHHiBEajkblz51KnTh22b9/O/PnzCQwMpGPHjjz55JPV9E8Af7k5jMS4HnQdtpDwBlexfEYMDoeDrG+PEj97PQ6Hg8ei7mRI77soKS5hzor3eS/jizJ1nK+cKyguLmbF87PI/elHim02uvcfTOvbOwGwc+v/8eHm9SQkrSpTxm6388riuRw59DW+vn4MiZvMNdc1qInmX9B/v/ycV5Yu5NmFK/j51EkWzZuJOT8Pu93O6Emz+NP1Z9ttt9tZ8vyzHPrmK3z9/BgxbhrX1W9Yg63/fV5dtZzt6VspttmI6tOfiB69nMe2p29l9fKX8fb24W/do+jes08NtvTieXJsA/v3xGgKBuC6669n6oxnnccytm1l1bKX8fb25m89etJDsbmUkydPMCi6Dy8tWUGjxuHO/RnbtrJy6ct4+3gTEdmTHr3cKzZP7beSkhISZ0wjJ+cQ3l5eJMx8lvoNzr62p3+0lRXLkvH29qZ7j55E9epbg629ODabjZkJk/nxhx+w2YoYMiyWu++513k8/aN/s3zpr7H1omdvxSZS0yodYG3atInQ0FDmzZvHqVOniIqKonnz5sTHx9O+fXumTZtGWloa9913HxkZGSxYsIDc3Fxn+eHDhzN8+HAAHn/8ccaOHVvuOdatW0ezZs0YOXIk77zzDsnJyUyaNIkpU6aQkpJCgwYNGDt2LHv27KFt27ZVHD48PagL0Q+1w1pwBoC5Y3oxffEWMjK/5sXJ/YnofAu7PzvEk9Gd6fDwcwT4+5C26mnSPj5Ika3YWU9F5TZt/azK23spdv77PUwhtXhi3Azy835m6sgYWt/eiZxvvyL9g01QwTgwc9c2bLYiEpJW8c3Bz0ldsZDR0+Zf+cZfwBupa/jog3fwDwwEYM2SF+jc5UHuuvd+Ptv7Kd8fOVxmgPXx9q0UFRUx7+VXOZj1GauSk5jy7As11PrfZ++eT/jis30sWfUahYUFrEtZ4zxWbLPx4oK5rEj5B4GBgTwx+BE6dOpM3avq1VyDL4Inx3bmTOlryssrXil3rNhmY+GCOax6bT2BgYEMf/QROio2l1FsszFn1nT8/f3L7X9h/hxWry2NbdigR+h4t/vE5sn9lrFtKwCrXkllz6efkDR/LkkLFwOlsSXNn8OrqaWxDRn0MB3vvoer3CS2997ZRK1aocx69jl+/vkUA/r2dA5CbDYbC+bNIWXdBgIDAxk8cACdOis2cXOevshFt27diIuLc257e3uTlZVFu3btAOjUqRM7d+4srcjLi9WrVxMaGlqung8++ICQkBA6duxY7lhmZqZzf6dOndi1axenTp0iJCSEBg1K3xi3bt2avXv3XlqEF5D9fS79xy53bre+sQEZmV+XtntHFve0b07bmxux60A2RbZi8syFZH93nFuaXlemnorKuYp2Hf9Kr5jHndve3t7k5/3M+jWLeHj40xWW+SprPy3b3AFAk+a3cPjr/1yRtl6sP11fn2cSzw78/vP5fnKP/4+pTz/Otn+9yy23lR2U/+ezfbRudycAzW9qyTf//fKKtvdS7N61g/AmzXhm7CjGxz/FnR3vdh47fDib+g0aEhJSC19fP1re1poD+6rnd6U6eHJsX391kMLCQkbFDuWp4Y/xxWcHnMcOHcqmfoMwZ2y3tmrN/n2ZNdjai+PJsQEsTJpHzz79qFfv6jL7K4xtr/vE5sn91vneLkyeNgOAY0d/pG7dus5jhw5l0+Cc1xJ367cu93cjdsQo57aPt7fz58O/ie22Vm3Yp9hEalylAyyj0YjJZMJsNjNq1Cji4+NxOBwYfhlZGo1G8vPzAejQoQO1a9eusJ6lS5cyYsSICo+ZzWaCg4PL1FenTh0KCwv59ttvKSkpIT09HavVeslBVuattP3YbCXObcM5o+Z8yxlqmQIINgaQl19wdr+1kJDgwDL1VFTOVQQEBhEYZKTAamHRs8/QK+YJVr6QyIBhowkICqqwTKHVQmCQyblt8PKipKS4wnNr0p13d8Hb29e5/dOxo5iCQ5iVtJR6V1/LG6mry5xvtVowGs/G5eXlTUmx68V1rtM/n+Lgl1kkzk1i3KQEZkyZ4Jx+ajGbndN9AIKCjJjN+TXV1IvmybEFBAQyYOBjLExezoTJCSRMHk/xL9eaxWLGaDp7HQYFGTHnm2uqqRfNk2Pb8vab1K5Th9vvvKvcMYvFjOnc2IxGzGb3ic2T+w3Ax8eHhCkTmTcnkb926ercbzGX7Tejm72WBAUZMRpNWCxmxo+JI3bE2Q++zWYzpuBzXieNRsz5ik3cnMGr6h9X2AUXuTh69ChPPfUUAwYMICIignnz5jmPWSwWQkJCKi3/zTffEBISQlhYGAA5OTlMmTIFgO7du2MymbBYLGXqMxgMPPfcc0yfPp2QkBAaN2583sFbVbPb7c6fg43+nM4vIN9SiMl4dqpIcFAAp88ZcJ2vnCs5cfx/LJw1jr/+rTfXXNeA//34Ha8snoutqIgfjhzitaVJPPL42WxWQJCRwgKLc9thd+Dt7fprogTXqkW7DqVZkL/ceTevrVhU5nhQkJGCcwbrDocdbx/XjqtWrVDCGoXj6+tHWKPG+Pv58fOpk9SuUxejyYTVerafrFaL8wMLd+DJsTUMa0T9Bg0xGAw0DGtErVqhnMg9zjXX/gmj0YTVothc0ea3N2IwGPj041189d+DzJjyDPMXLqLuVfV+eSN4TmwWS5k3gK7Ok/vtVzMS55Cbe5xHH+nHho1bCAwKwmgyYTnntcRitWAKrvy9i6s5duwoY+NH0KffAB54KMK532T6Tb9Z3K/fPDk2uUSePkUwNzeXwYMHM27cOHr37g1AixYt2L17NwDp6ekXvC9q586ddOrUybkdFhZGSkoKKSkp9OnTh9atW7Nt2zZnfW3atHH+vHTpUhYtWsSRI0e48847Lz3Ki7D/4Pd0bNMUgPs73MSOfd+y54vDdGjVBH8/H0JMAdzQ+BqyvvnxguVcxelTJ3huykj6DR7B3fd358833MTsJf9g0twlPDkxkesbNi4zuAJo1uJWDuwpnf75zcHPadDozzXR9IvW4pbbyPx4OwBZn+2lYeOy7b7xltvYs7v0+MGszwhr3OSKt/FitbytNR/v2o7D4eD48Z8oKCggpFYoAI0ahfP9kRzyTv+MzVbEgb2Z3Nzythpt78Xw5Ng2v7WRF5OeA+D4Tz9hsZid97M0bhzOd0dyOP1LbPv27uHmW2+rwdZeHE+ObemqFJasfJWXV75Csxuak5A4u9LYbtE16RLe2fw2q1cuA0ozdV4GL7x+mW5WLrbMPbR0o347cSKXpx4fwqj4sURG9SpzrFHjcI6cE9vezE9peWurGmrpxfPk2OSPzeCoZKm7xMRE3nvvPcLDz66gNHnyZBITE7HZbISHh5OYmIj3OXNm7733Xt577z3nzcEzZsygQ4cOdOnSpcLnKCgoYMKECRw/fhxfX18WLFhAvXr1WL9+PWvXriUgIICIiAgeeeSRCssHtqp46uHFaPinOqTMeYy7By2gScOrSZ4WjZ+vDwezj/HkrFTs9l9WEezVAYPBwLxVH/BW2n6ah1/LE/06ET97/XnLXY6P/vn3y44N4LUlC9id8SF/qt/IuW/szBfw8w/g+P9+JHnOFBKeL11FcOn8BHoNjKXOVVfzyuK5fHf4GxwOB8NGT+O6Bo0qfoJLEGr0vfBJv9P/jv7IvJkTmf/yq/x07Edeem4mZwoLCDKaGDttNqbgEJ7/+xQeGfoUdetdw5Lnn+Xwt1/jcDiImziD+mGNq6wtAHVNflVaH8DihfPZu+cTHHYHjz8Vx+nTP1NQYCWyZ1/nSnsOu4OHIqPo1XdAlT9/dXKV2Ly9qvYTM5utiFnTJnPs2FEMBnhq1BiOHv2BAquVHr36OldsszvsRET2pHc/9+k3V4mtuj/kjB0yiAlTEvjvf77EarUS1buvcxXBX2Pr0796YquORWhdpd98qvh3DaDAamVGwmRO5B6nuLiYQYOHUVhQgNVqpWfvvs5VBO12O9179KRv/4ervA1Q9naBqjJvzt/58P33aNT47N+qHr36UlhgpWfvfs6V9ux2O5FRvaotturgKrGZ/N0/Y+JJAqNWVHmdBW8OrfI6K1PpAMsdVMUAy1VV1QDLFVXlAMvVVMcAS6pfVQ+wpPp5wCyS83Lvv8yVq44BlquojgGWVD8NsFyLJwywXPvmExERERER+ePwgA8qNMASERERERGX4AmZ4Cu/bqGIiIiIiIiHUgZLRERERERcgjJYIiIiIiIi4qQMloiIiIiIuAb3T2ApgyUiIiIiIlJVlMESERERERGX4An3YGmAJSIiIiIiLsETBliaIigiIiIiIlJFlMESERERERGXoAyWiIiIiIiIOCmD5cKMAd413YRqc3WIf003odp4wAcv51Vc4qjpJshF8vHy3AvyTLG9pptQbQJ8Pff1X9yTyd9zX0vEtXhCBksDLBERERERcQ3uP77SFEEREREREZGqogyWiIiIiIi4BE+YIqgMloiIiIiISBVRBktERERERFyCJ2SwNMASERERERGX4AkDLE0RFBERERERqSLKYImIiIiIiEtQBktERERERESclMESERERERHX4P4JLGWwREREREREqooyWCIiIiIi4hI84R6sSgdYNpuNSZMm8cMPP1BUVERsbCxNmjRh4sSJGAwGmjZtSkJCAl5epYmwkydP0r9/fzZv3oy/vz/Lli0jIyMDgLy8PHJzc9mxY0eFz/Xhhx/yf//3fyxYsACA/fv38/e//x1vb2/uuusuRowYUZVxl/GXm8NIjOtB12ELCW9wFctnxOBwOMj69ijxs9fjcDh4LOpOhvS+i5LiEuaseJ/3Mr4oU8f5yrmSr/7zOa8te4mZzy/j0Df/Zenzz+Lt7c119cOIHTvV2Y8Adrud5QvncPjbr/D19SN27FT+dH2DGmz97zOwf0+MpmAArrv+eqbOeNZ5LGPbVlYtexlvb2/+1qMnPXr2qalmXpKTJ08wKLoPLy1ZQaPG4c79Gdu2snLpy3j7eBMR2ZMevdwrrldXLWd7+laKbTai+vQnokcv57Ht6VtZvfxlvL19+Fv3KLq7WZ956vVYUlJC4oxp5OQcwtvLi4SZz1K/QUPn8fSPtrJiWTLe3t5079GTqF59a7C1F89Tr0mbzcbMhMn8+MMP2GxFDBkWy9333Os8nv7Rv1m+9Nd+60XP3u7Tb4rNPWMTqYjHD7A2bdpEaGgo8+bN49SpU0RFRdG8eXPi4+Np374906ZNIy0tjfvuu4+MjAwWLFhAbm6us/zw4cMZPnw4AI8//jhjx46t8HkSExPZvn07N954o3NfQkICL730Eg0aNGD48OFkZWVx0003VUXMZTw9qAvRD7XDWnAGgLljejF98RYyMr/mxcn9ieh8C7s/O8ST0Z3p8PBzBPj7kLbqadI+PkiRrdhZT0XlNm39rMrbe6neev0Vtn34Dv4BgQCsf2UZfWKG0eb2u3jh75PJ/Hg7f7mzk/P8T7Z/RFHRGWYvWsNXX37OKy8/z8TEpJpq/u9y5kxpH7684pVyx4ptNhYumMOq19YTGBjI8EcfoWOnztS9qt6VbuYlKbbZmDNrOv7+/uX2vzB/DqvXlsY1bNAjdLzbfeLau+cTvvhsH0tWvUZhYQHrUtY4jxXbbLy4YC4rUv5BYGAgTwx+hA5u1GeefD1mbNsKwKpXUtnz6SckzZ9L0sLFQGlsSfPn8GpqaWxDBj1Mx7vv4So3ic2Tr8n33tlErVqhzHr2OX7++RQD+vZ0vlG32WwsmDeHlHUbCAwMZPDAAXTq7D79ptjcMzYRT1XpPVjdunUjLi7Oue3t7U1WVhbt2rUDoFOnTuzcubO0Ii8vVq9eTWhoaLl6PvjgA0JCQujYsWOFz9O6dWumT5/u3DabzRQVFdGwYUMMBgN33XUXu3btutjYfpfs73PpP3b52bbc2ICMzK9L270ji3vaN6ftzY3YdSCbIlsxeeZCsr87zi1NrysbQwXlXMk119Vn3Iz5zu3GTW/AnJ+Hw+GgwGrFx6fsWPs/X+yn1V/uBKBZi1v49r9fXtH2XoqvvzpIYWEho2KH8tTwx/jiswPOY4cOZVO/QRghIbXw9fXj1lat2b8vswZbe3EWJs2jZ59+1Kt3dZn9Fca1133i2r1rB+FNmvHM2FGMj3+KOzve7Tx2+HA29Rs0dMbW8rbWHNi3twZbe3E8+XrsfG8XJk+bAcCxoz9St25d57FDh7JpcE6/6Zp0HV3u70bsiFHObR9vb+fPh3/Tb7e1asM+N+o3xeaesYlUxGAwVPnjSqt0gGU0GjGZTJjNZkaNGkV8fDwOh8PZUKPRSH5+PgAdOnSgdu3aFdazdOnSSqf4Pfjgg2WCN5vNmEymMu349Xmq2ltp+7HZSpzb57Yj33KGWqYAgo0B5OUXnN1vLSQkOLBMPRWVcyV3dPprmUHUn65vyKpF8xj1aC9OnzrBTbe1KXN+gdVMkPFsH3h5e1FSUowrCwgIZMDAx1iYvJwJkxNImDye4uLSNlssZoznXFNBQUbM+eaaaupF2fL2m9SuU4fb77yr3DGLpezvSpDRiNnsHnEBnP75FAe/zCJxbhLjJiUwY8oE59Rai9nsnF4Hv/SZuXpeB6qDp16Pv/Lx8SFhykTmzUnkr126Ovdbfvv67Wb95snXZFCQEaPRhMViZvyYOGJHnP0A1Ww2Ywo+JzajEXM1/d2tDortl3PdLDYRT3XBVQSPHj3KwIEDiYyMJCIiosx9OhaLhZCQkErLf/PNN4SEhBAWFgZATk4OMTExxMTEsGHDhgrLmEwmLBbLRT1PVbHb7c6fg43+nM4vIN9SiMl4dmpWcFAAp88ZcJ2vnCtbtXg+s15YwUuvbOTu+//GKy8/X+Z4YJCJgoKzfWC3O/D2du01URqGNaLbgxEYDAYahjWiVq1QTuQeB8BoNGE955qyWi0En/NHyZVtfnsjn3y8k9ghg/jqvweZMeWZMnGd+7titVjK/LF1dbVqhdL+jg74+voR1qgx/n5+/HzqJABGkwmr1T37DDz3ejzXjMQ5vLHpPRJnTqXAagVK+81yTr9ZrBZMwVfm9bsqePI1CXDs2FEeHzKIh/4WyQMPRTj3m0y/uSYtis2VeHJsIuUYquFxhVU6wMrNzWXw4MGMGzeO3r17A9CiRQt2794NQHp6Om3btq30CXbu3EmnTmfv7QkLCyMlJYWUlBT69Kn45mCTyYSvry9HjhzB4XCwffv2Cz5PVdl/8Hs6tmkKwP0dbmLHvm/Z88VhOrRqgr+fDyGmAG5ofA1Z3/x4wXKuzBQcQpDRCECduldhzs8rc7z5zbeyd3fpgiRfffk5YeFNrngbL9bmtzbyYtJzABz/6ScsFrPz3ojGjcP57kgOp0//jM1WxL69e7j51ttqsLW/39JVKSxZ+Sovr3yFZjc0JyFxdqVx3dLytppt8EVoeVtrPt61HYfDwfHjP1FQUEBIrVAAGjUK5/sjOeT9EtuBvZnc7Eaxeer1CPDO5rdZvXIZUJqp8zJ44fXLtKVysWXuoaUb9ZsnX5MnTuTy1ONDGBU/lsioXmWONWoczpFz+m1v5qe0vLVVDbX04ik294xNpCJXYoqgzWZjzJgx9O/fnwEDBvDtt9+Sk5NDdHQ0AwYMICEhoUzy5GJVmpJYsmQJeXl5JCcnk5ycDMDkyZNJTEwkKSmJ8PBwunbtWlkVHDp0iA4dOlx0w2bMmMHYsWMpKSnhrrvu4tZbb73oOi7FxKQ3SZ4WjZ+vDwezj7HxX/uw2x0kr/uItFWjMRgMTF+8hTNFxTQPv5Yn+nUifvb6Csu5sifHTiVp1iS8vb3x8fUldswUAF6cPY3owbG0v+sePsvczaQRj+HAwVPjE2q4xRfWPaons6ZNZvhjj2AwwOSERNI+/D8KrFZ69OpL3JgJxD85HLvDTkRkT66++pqabvIle//dLVitVqJ69yV+7ATiYs+J6xr3iatDp87s37eHoQP74bA7GDNhCmkfvEdBgZXInn0Z+fR4Ro8YjsPu4KHIKOq5UZ958vV471/vY0bCZIY99gjFxcU8Pf4ZtqZ9iNVqpWfvvoweM5GRscOw2+1076Fr0lWsWr6U/Lw8VixLZsWy0r/pPXr1pbDASs/e/Xh67ARGPDEUu91OZFQvt+o3xeaesYnUlG3btlFcXMzrr7/Ojh07eOGFF7DZbBUu5HcpDA5XW0v8IgW2qr7l22vap1vm1HQTqs31tQMvfJKb8oDVRc+ruMStXy4q5e3lmR3n46FxAZwpvvRPF11dgK/3hU8SuYJM/p77WiKu5dph/6zyOo8t711m+9tvv+X555/nxRdfdH5V1J49e0hPT8dgMPCvf/2LHTt2kJBwaQkG176pRkREREREpAoFBQXxww8/8MADD3Dq1CmWLFnCp59+WuFCfpdCAywREREREXEJV2JZ9TVr1nDXXXcxZswYjh49yqBBg7DZbM7jl7vA3gVXERQREREREbkSrsQiFyEhIc4VN2vVqkVxcfFFL+RXGWWwRERERETkD+PRRx9l0qRJDBgwAJvNxujRo7n55puZOnXq717IrzIaYImIiIiIiGu4AuupGI1GFi5cWG7/a6+9ViX1a4qgiIiIiIhIFVEGS0REREREXMKVWOSiuimDJSIiIiIiUkWUwRIREREREZfgCRksDbBERERERMQleMIAS1MERUREREREqogyWCIiIiIi4hrcP4GlDJaIiIiIiEhVUQbLhV0TElDTTag2HjC99g/Jx9tzO87HyzM/byq222u6CdUmwNe7pptQbTz0cgTAgy9JTP6e+xopcqV4wj1YGmCJiIiIiIhL8IQBlgd/RiYiIiIiInJlKYMlIiIiIiIuQRksERERERERcVIGS0REREREXIInZLA0wBIREREREdfg/uMrTREUERERERGpKspgiYiIiIiIS/CEKYLKYImIiIiIiFQRZbBERERERMQlKIMlIiIiIiIiTspgiYiIiIiIS/CABNaFM1g2m41x48YxYMAAevfuTVpaGjk5OURHRzNgwAASEhKw2+3O80+ePMn999/PmTNnAFi2bBkxMTHExMQQGRlJhw4dzvtcH374IWPGjCmzb82aNcyfP/9S4/td/nJzGO8vjwMgvMFVpK0azb9WxrNwUj9nmvKxqDvZvnY8214ZwwMdby5Xx/nKuZp3N7/JiOGPMmL4owx/NJp772xFfn6e8/j29K0MHdiXxx8bwKY3N9RgSy/NyZMniOh6L4cPZZfZn7FtK48O6MuQgdG89Yb7xQWKzd1is9lsTJ00niGDHmbggD5s2/rvMsfTP/o3MdG9efSRfmz85/oaauXlUb+5Z799/tkBhj4aU27/to/+zcP9ejPwYfeL7Y/QbyJ/FAaDocofV9oFM1ibNm0iNDSUefPmcerUKaKiomjevDnx8fG0b9+eadOmkZaWxn333UdGRgYLFiwgNzfXWX748OEMHz4cgMcff5yxY8dW+DyJiYls376dG2+8EYDCwkKmTJnCZ599xv33318VsVbo6UFdiH6oHdaC0gHh3DG9mL54CxmZX/Pi5P5EdL6F3Z8d4snoznR4+DkC/H1IW/U0aR8fpMhW7KynonKbtn5Wbe2+VA9GRPFgRBQAC+bO4qHuUQQHhwBQXGzjpaS5LH/1HwQGBhI75BE6dOxM3avq1WSTf7dim405s6bj7+9fbv8L8+eweu16AgMDGTboETre7T5xgWJzx9jee2cTtWqFMuvZ5/j551MM6NuTu++5Fyh9M7hg3hxS1m0gMDCQwQMH0KnzPVzlJrGB+s1d+23NqhW8s/ltAgODyuy32WwsmDuH117fQGBQII8+4l6xeXq/iYh7uWAGq1u3bsTFxTm3vb29ycrKol27dgB06tSJnTt3llbm5cXq1asJDQ0tV88HH3xASEgIHTt2rPB5WrduzfTp053bZ86coUePHjzxxBMXE89Fy/4+l/5jl59tx40NyMj8urTNO7K4p31z2t7ciF0HsimyFZNnLiT7u+Pc0vS6su2voJwrO/jlFxz69lsie/Z17jt8KJvrGzQkJKQWvr5+tLy1NQf2763BVl6chUnz6NmnH/XqXV1m/6FD2dRvEOaM69ZWrdm/N7OGWnlpFJv7xdbl/m7Ejhjl3Pbx9nb+fPhQNg3O+V27rVUb9rlRbKB+c9d+q9+gAfNfeKnc/kPZ2TRo2JCQWqWxtWrdhn2Z7hObp/ebyB+JwVD1jyvtggMso9GIyWTCbDYzatQo4uPjcTgcznSb0WgkPz8fgA4dOlC7du0K61m6dCkjRow47/M8+OCDZVJ4tWrV4q677rqoYC7FW2n7sdlKnNvntiHfcoZapgCCjQHk5Rec3W8tJCQ4sEw9FZVzZa+uXs7g4bFl9lksZkymYOd2kNGIxZx/pZt2Sba8/Sa169Th9jvLXzOlcZmc20FGI2az+Uo277IotlLuFltQkBGj0YTFYmb8mDhiR5z9oMpsNmMKLvu7Zs53j981UL85z3WzfgPocl9XfH3KT16p6PU/341i8/R+ExH38rtWETx69CgDBw4kMjKSiIgIvLzOFrNYLISEhFRa/ptvviEkJISwsDAAcnJynPdlbdjgWvPzz72fLNjoz+n8AvIthZiMZ6fBBAcFcPqcAdf5yrmq/Pw8jhzOpnXb9mX2G40mrBaLc9tqsZT5g+vKNr+9kU8+3knskEF89d+DzJjyDCdyjwP88kf3N3EFu0dcoNh+5W6xARw7dpTHhwziob9F8sBDEc79JlP537VgN4pN/VbK3fqtMkajCYv1N7GFuFdsf8R+E/FEf4h7sHJzcxk8eDDTpk3jjjvuAKBFixbs3r2b9u3bk56ezu23315pHTt37qRTp07O7bCwMFJSUi6z6dVj/8Hv6dimKRmZX3N/h5tI//Qr9nxxmOlPReDv54O/nw83NL6GrG9+vGA5V3Vg7x7atruj3P5GjcP5/rsc8k7/TGBQEPv3ZRId81gNtPDiLV119nqKHTKICVMSnPd8NG4czndHcjh9+meCgoLYt3cPDw90j7hAsblrbCdO5PLU40OY8MxU2t1e9vetUeNwjpwT297MT4kZNLiGWnrx1G/u2W+VaRwezpGcsrENfNR9Yvuj9puIJ3LRdeIuygUHWEuWLCEvL4/k5GSSk5MBmDx5MomJiSQlJREeHk7Xrl0rrePQoUOVrh7oSiYmvUnytGj8fH04mH2Mjf/ah93uIHndR6StGo3BYGD64i2cKSqmefi1PNGvE/Gz11dYzlUdyTnMddfXd25/8H9bKLBaiezZlxGjx/P0yOHY7Q4e6h5FvauvqcGWXp73392C1Wolqndf4sdOIC52OHaHnYjInlx9jfvGBYrNHaxavpT8vDxWLEtmxbLS184evfpSWGClZ+9+PD12AiOeGIrdbicyqpdbxVYR9Zt7eu+dzVitVnr16ceY8RN4cvhQHA73i+2P1m8i4toMDofDUdONuByBrc5/X5e7O5L+Qk03odr4+njAxxPiUXy8PPN714vPmb7saTy1zwA8ODQ8+JLE5K+/bSKXq8WkD6q8zi+frb4VySviwS/hIiIiIiIiV9YFpwiKiIiIiIhcCX+Ie7BERERERESuhJpY9a+qaYqgiIiIiIhIFVEGS0REREREXIIHJLCUwRIREREREakqymCJiIiIiIhL0D1YIiIiIiIi4qQMloiIiIiIuARPyGBpgCUiIiIiIi7BA8ZXmiIoIiIiIiJSVZTBEhERERERl6ApglKtShyOmm5CtfHF/X95/oi8PeBF73yK7faabkK18PHSRAV35KGXIwAmf899HRERAQ2wRERERETERXjCZ7kaYImIiIiIiEvwhCmCmjsiIiIiIiJSRZTBEhERERERl+ABCSxlsERERERERKqKMlgiIiIiIuISPOEeLA2wRERERETEJXjA+EpTBEVERERERKqKMlgiIiIiIuISPGGKoDJYIiIiIiIiVUQZLBERERERcQkekMBSBktERERERKSqVDrAstlsjBs3jgEDBtC7d2/S0tLIyckhOjqaAQMGkJCQgN1ud55/8uRJ7r//fs6cOQPAsmXLiImJISYmhsjISDp06HDe5/rwww8ZM2aMc3vXrl3069ePhx9+mFGjRlFQUHC5sZ7XX24O4/3lcQCEN7iKtFWj+dfKeBZO6uecB/pY1J1sXzueba+M4YGON5er43zlXE1xsY2ZU8bz5OCHGTFsIDmHs8sc35H+EcMH9iN28MNsfvOfNdTKS3fy5Akiut7L4UNl48rYtpVHB/RlyMBo3npjQw217vJ4YmwlJSXMmDaZwYMGMOyxR/j+uyNljqd/tJWBA/rwWEx/3nxjfQ218vJ4Yr/ZbDamThrPkEEPM3BAH7Zt/XeZ4+kf/ZuY6N48+kg/Nv7TvfpNsblnbCLiOQwGQ5U/rrRKpwhu2rSJ0NBQ5s2bx6lTp4iKiqJ58+bEx8fTvn17pk2bRlpaGvfddx8ZGRksWLCA3NxcZ/nhw4czfPhwAB5//HHGjh1b4fMkJiayfft2brzxRue+6dOns3btWq666ioWLFjAhg0bGDhwYFXEXMbTg7oQ/VA7rAWlg8K5Y3oxffEWMjK/5sXJ/YnofAu7PzvEk9Gd6fDwcwT4+5C26mnSPj5Ika3YWU9F5TZt/azK23u5Pt6RQUlJCcmr1vLp7p2sSH6RWc+9AJQOvhY/P5elr7xOQGAQTw15hDs7dqbuVVfVbKN/p2KbjTmzpuPv719u/wvz57B67XoCAwMZNugROt7dmbpX1auhll48T40tY9tWAFa9ksqeTz8haf5ckhYuBkpjS5o/h1dTS2MbMuhhOt59D1e5SWzguf323jubqFUrlFnPPsfPP59iQN+e3H3PvUDpm/gF8+aQsm4DgYGBDB44gE6d3affFJt7xiYinsNFcxQXpdIMVrdu3YiLi3Nue3t7k5WVRbt27QDo1KkTO3fuLK3Iy4vVq1cTGhparp4PPviAkJAQOnbsWOHztG7dmunTp5fZl5KSwlW/vLEvLi4u9walqmR/n0v/scvPtuXGBmRkfl3a7h1Z3NO+OW1vbsSuA9kU2YrJMxeS/d1xbml6XdkYKijniuo3DKOkuBi73Y7VYsHH5+wYO+dQNtfXb0hwSC18fX1peVtrPtufWYOtvTgLk+bRs08/6tW7usz+Q4eyqd8gjJCQWvj6+nFrq9bs3+s+cYHnxtb53i5MnjYDgGNHf6Ru3brOY4cOZdOgQUO3jQ08t9+63N+N2BGjnNs+3t7Onw//pt9ua9WGfYrNJXhybCIirqTSAZbRaMRkMmE2mxk1ahTx8fE4HA5nqs1oNJKfnw9Ahw4dqF27doX1LF26lBEjRpz3eR588MFy6burry59Q/Lhhx+ye/duevTo8buDuhhvpe3HZitxbp/bjnzLGWqZAgg2BpCXf3aKYr61kJDgwDL1VFTOFQUFBnHs6I/E9Ilg3t8T6NXvYecxi8WC0WRybgcGGbGY82uimRdty9tvUrtOHW6/865yxywWM6Zz4goyGjGbzVeyeZfFk2MD8PHxIWHKRObNSeSvXbo691vMZWMzBhkxu8n1CJ7db0FBRoxGExaLmfFj4ogdcfaDOLPZjCk4+Oy5RiPmfPfpN8X2y7luFpuIeA5PmCJ4wUUujh49ysCBA4mMjCQiIgIvr7NFLBYLISEhlZb/5ptvCAkJISwsDICcnBznfVkbNlR+38GaNWtYuXIlK1asqLYM1m+de09ZsNGf0/kF5FsKMRnPPn9wUACn8wsuWM4VrV+XQrvb72TtG++wau0bPDtjsvOeOaPRiNVqdZ5bYLVgCq68f13F5rc38snHO4kdMoiv/nuQGVOe4UTucYBf3lBYnOdaLZYybyRcnSfH9qsZiXN4Y9N7JM6cSsEv16DRZMJiPRubxY2uR/D8fjt27CiPDxnEQ3+L5IGHIpz7TSYT1t/EFqzYXIYnxyYi4ioqvQcrNzeXwYMHM23aNO644w4AWrRowe7du2nfvj3p6encfvvtlT7Bzp076dSpk3M7LCyMlJSUCzbs5ZdfJisrizVr1hAQcOWyQfsPfk/HNk3JyPya+zvcRPqnX7Hni8NMfyoCfz8f/P18uKHxNWR98+MFy7mi4OAQ57TA4Fq1fpkuWJrBC2sczvff5ZB3+jSBQUEc2JdJv0cercHW/n5LV529pmKHDGLClATn/SyNG4fz3ZEcTp/+maCgIPbt3cPDAx+rqaZeNE+O7Z3Nb/PTT//jsSHDCQgIxMvghdcv05bKxZa5h5iBg2u4xb+fJ/fbiRO5PPX4ECY8M5V2t99R5lijxuEcOSe2vZmfEjPIffpNsblnbCLiOTzhHqxKB1hLliwhLy+P5ORkkpOTAZg8eTKJiYkkJSURHh5O165dK6uCQ4cOVbp6YEVyc3NZvHgxLVq0YNiwYQA88MADDBgw4KLquRQTk94keVo0fr4+HMw+xsZ/7cNud5C87iPSVo3GYDAwffEWzhQV0zz8Wp7o14n42esrLOeK+gwYyNxZUxkxbCDFNhtDn4xj+7atFFitdO/Zh6fixzN25HAcDgcPRkRR7+prarrJl+z9d7dgtVqJ6t2X+LETiIsdjt1hJyKyJ1df475xgefEdu9f72NGwmSGPfYIxcXFPD3+GbamfYjVaqVn776MHjORkbHDsNvtdO/hXrFVxFP6bdXypeTn5bFiWTIrlpX+bejRqy+FBVZ69u7H02MnMOKJodjtdiKjeik2F+HJsYmI53DVlbgvhsHhcDhquhGXI7DV+e/tcneHtj1f002oNgG++go2d+TtAS9651Pi3i+F5+Xjpd81cS0mf899HRGRy9dxwfYqrzNjTPn7oatTpRksERERERGRK8UTMlj6aFNERERERKSKKIMlIiIiIiIuwQMSWBpgiYiIiIiIa9AUQREREREREXFSBktERERERFyCBySwlMESERERERGpKspgiYiIiIiIS/CEe7A0wBIREREREZfgAeMrTREUERERERGpKspgiYiIiIiIS/DygBSWMlgiIiIiIiJVRBksERERERFxCR6QwNIAy5XZ7Y6abkK1KS7x3Nj8fTw3MVzi8Nx+8/Hy3H4T92Py94B3GCIif1AaYImIiIiIiEvQMu0iIiIiIiJVxMv9x1da5EJERERERKSqKIMlIiIiIiIu4UpNEVy6dCn//ve/sdlsREdH065dOyZOnIjBYKBp06YkJCTgdYn3ZyuDJSIiIiIifxi7d+9m3759rFu3jpSUFI4dO8bs2bOJj48nNTUVh8NBWlraJdevAZaIiIiIiLgEg6HqH7+1fft2mjVrxlNPPcUTTzxB586dycrKol27dgB06tSJnTt3XnIMmiIoIiIiIiIuwUD1TxE8deoUP/74I0uWLOH7778nNjYWh8PhnJ5oNBrJz8+/5Po1wBIRERERkT+M0NBQwsPD8fPzIzw8HH9/f44dO+Y8brFYCAkJueT6NUVQRERERERcgpeh6h+/1aZNGzIyMnA4HPzvf/+joKCAO+64g927dwOQnp5O27ZtLzkGZbBEREREROQP45577uHTTz+ld+/eOBwOpk2bRv369Zk6dSpJSUmEh4fTtWvXS65fAywREREREXEJV2qZ9vHjx5fb99prr1VJ3RpgiYiIiIiIS7hC46tqVekAy2azMWnSJH744QeKioqIjY2lSZMm5/0SrpMnT9K/f382b96Mv78/+fn5jB49moKCAnx9fZk3bx716tUr8xyFhYWMGzeOEydOYDQamTt3LnXq1AGgpKSE0aNH07t3bzp16lRN/wTwl5vDSIzrQddhCwlvcBXLZ8TgcDjI+vYo8bPX43A4eCzqTob0vouS4hLmrHif9zK+KFPH+cq5mqKiIubOmsLRH37AaDQSN24y9RuGOY/vzPiIV1cuwdvbmwciovhbj94119hL8Oqq5WxP30qxzUZUn/5E9OjlPLY9fSurl7+Mt7cPf+seRfeefWqwpRenpKSExBnTyMk5hLeXFwkzn6V+g4bO4+kfbWXFsmS8vb3p3qMnUb361mBrL97JkycYFN2Hl5asoFHjcOf+jG1bWbn0Zbx9vImI7EmPXu7TZzabjZkJk/nxhx+w2YoYMiyWu++513k8/aN/s3zpr33Wi5693afPFJt7xiYiIldGpYtcbNq0idDQUFJTU1m+fDmzZs0675dwZWRkMHjwYHJzc53lN27cSLNmzVi7di0PPvggK1euLPcc69ato1mzZqSmptKjRw+Sk5MBOHLkCI888giff/55VcZbztODupA87WEC/ErHmnPH9GL64i10GfICBoOBiM63cE3dYJ6M7sy9jyYR8dRiZo7sjp9v2bFpReVc0Ttv/5PAwCCSV61l5NhnWDj/Weex4mIbi194jnkvLuWFJWvY8tY/OXkit5LaXMvePZ/wxWf7WLLqNRYtX8NP/zu7GkyxzcaLC+by/OLlLF6+hrff3MCJ3OM12NqLk7FtKwCrXknl8SdHkTR/rvNYsc1G0vw5LFqygmWrXuXNNzaQ60axFdtszJk1HX9//3L7X5g/hxeXLGfJyld46w336rP33tlErVqhrHxlLS8mL2Pu7FnOYzabjQXz5rB46UqWr07hzTfWu1WfKTb3jE1ExB14GQxV/rjiMVR2sFu3bsTFxTm3vb29z/slXF5eXqxevZrQ0FDn+c2aNcNisQBgNpvx8SmfMMvMzKRjx47O+nbt2gWA1WolMTGR9u3bX0Z4F5b9fS79xy53bre+sQEZmV8D8MGOLO5p35y2Nzdi14FsimzF5JkLyf7uOLc0va5MPRWVc0WHD2XT/s7Sf++GYY05cjjbeSznUDbX129IcEgtfH19ueXWVny2P7OmmnrRdu/aQXiTZjwzdhTj45/izo53O48dPpxN/QYNCQmpha+vHy1va82BfXtrsLUXp/O9XZg8bQYAx47+SN26dZ3HDh3KpsE5sd3aqjX797pPvy1MmkfPPv2oV+/qMvsPHcqmfoMwt42ry/3diB0xyrnt4+3t/Pnwb/rstlZt2KfYXIInxyYiIldGpQMso9GIyWTCbDYzatQo4uPjz/slXB06dKB27dplyteuXZsdO3Y4s1e9e5efbmY2mwkODi5XX/Pmzfnzn/98+RFewFtp+7HZSpzb595Yl285Qy1TAMHGAPLyC87utxYSEhxYpp6KyrmiJk1vYNf2bTgcDr78/AC5x3+ipKQ0fqvFgtFkcp4bGGTEYjbXVFMv2umfT3HwyywS5yYxblICM6ZMcE7TtJjNGE3BznODgoyYzZf+BXI1wcfHh4QpE5k3J5G/djm7so3FbMZ0Tr8Z3Si2LW+/Se06dbj9zrvKHbNYysYVZDRidqPrMSjIiNFowmIxM35MHLEjzn5YZTabMQWfcz0ajZgv4wsNrzTF9su5bhabiIg7MBiq/nGlXfB7sI4ePcrAgQOJjIwkIiLCeb8VXPhLuBYtWsTQoUN59913WblyJSNHjiQnJ4eYmBhiYmLYsGEDJpPJmeW63C/1qgp2u935c7DRn9P5BeRbCjEZz05fCg4K4PQ5A67zlXNFD0ZEYTQaGf3kYHZu30az5i3w/uUT2iCjkYJf+gKgwGrBdM6gxNXVqhVK+zs64OvrR1ijxvj7+fHzqZMAGE0mrNazsVmtFufA3p3MSJzDG5veI3HmVAqsVqA0Nss5sVmsFkzBNft79Httfnsjn3y8k9ghg/jqvweZMeUZ5zTA0je55/SZxVLmza07OHbsKI8PGcRDf4vkgYcinPtNJhPW38TmbtejYnPP2EREpPpVOsDKzc1l8ODBjBs3zpl9atGixe/+Eq6QkBDnH5+6detisVgICwsjJSWFlJQU+vTpQ+vWrdm2bZuzvjZt2lRJYJdq/8Hv6dimKQD3d7iJHfu+Zc8Xh+nQqgn+fj6EmAK4ofE1ZH3z4wXLuaKD//mCm29tzQsvr6Zj57/yp+vqO4+FNQ7n+++OkHf6NDabjQP7Mmlxy6012NqL0/K21ny8azsOh4Pjx3+ioKCAkFqhADRqFM73R3LIO/0zNlsRB/ZmcnPL22q0vRfjnc1vs3rlMgACAgLxMnjh9cvAuHHjcL47ksPpX2Lbl7mHlm4S29JVKSxZ+Sovr3yFZjc0JyFxNnWvKl0Ip1xce/dwi5vEBXDiRC5PPT6EUfFjiYzqVeZYo8bhHDkntr2Zn9Ly1lY11NKLp9jcMzYREXdgMBiq/HGlVbqK4JIlS8jLyyM5Odm5+MTkyZNJTEz8XV/CFRcXx5QpU0hNTaW4uJhZs2aVOyc6OpoJEyYQHR2Nr68vCxYsuMyQLs/EpDdJnhaNn68PB7OPsfFf+7DbHSSv+4i0VaMxGAxMX7yFM0XFNA+/lif6dSJ+9voKy7mi+g3CWLV0EevXrsEUHMy4yTP51/vvUGC1EhHVhyfjxzE+7nHsdjsPRERR7+prarrJv1uHTp3Zv28PQwf2w2F3MGbCFNI+eI+CAiuRPfsy8unxjB4xHIfdwUOR7hXbvX+9jxkJkxn22CMUFxfz9Phn2Jr2IVarlZ69+zJ6zERGxg7DbrfTvUdPrr7GfWL7rfff3YLVaiWqd1/ix04gLnY4doediEj3imvV8qXk5+WxYlkyK5aVvn726NWXwgIrPXv34+mxExjxxFDsdjuRUb0Um4vw5NhERNyBJyzTbnC44lriFyGw1YiabkK1+XZrUk03odr4+Vxwdqrb8vfg2Erc++WiUj5enttv4n5M/h7wDkNE5BL0WVP1i5BteLR1lddZGX3RsIiIiIiIuISaWFa9qukjWxERERERkSqiDJaIiIiIiLgE989faYAlIiIiIiIuoiZW/atqmiIoIiIiIiJSRZTBEhERERERl+Dl/gksZbBERERERESqijJYIiIiIiLiEjzhHiwNsERERERExCV4wPhKUwRFRERERESqijJYIiIiIiLiEjxhiqAyWCIiIiIiIlVEGSwXVlBUUtNNqDbBAZ576Z0pttd0E6pNgK93TTeh2nh56MdNds+9HDH5u/+nnCIiUpaWaRcREREREREnz00jiIiIiIiIW/GEe7A0wBIREREREZfg/sMrTREUERERERGpMspgiYiIiIiIS/DygCmCymCJiIiIiIhUEWWwRERERETEJXhAAksDLBERERERcQ2esIqgpgiKiIiIiIhUEWWwRERERETEJXhAAksZLBERERERkaqiDJaIiIiIiLgET1imvdIBls1mY9KkSfzwww8UFRURGxtLkyZNmDhxIgaDgaZNm5KQkICXV2ki7OTJk/Tv35/Nmzfj7+9Pfn4+o0ePpqCgAF9fX+bNm0e9evXKPEdhYSHjxo3jxIkTGI1G5s6dS506ddi1axcvvPACPj4+1K1bl7lz5xIYGFgt/wh/uTmMxLgedB22kPAGV7F8RgwOh4Osb48SP3s9DoeDx6LuZEjvuygpLmHOivd5L+OLMnWcr5wrOZj1OauXvMDcl1Y692398F02v/E6SUteLXOu3W5ncdKzHPrmK3x9fYmbkMB19Rte6SZflJKSEhJnTCMn5xDeXl4kzHyW+g3Otjn9o62sWJaMt7c33Xv0JKpX3xps7cV5ddVytqdvpdhmI6pPfyJ69HIe256+ldXLX8bb24e/dY+ie88+NdjSi2Oz2ZiZMJkff/gBm62IIcNiufuee53H0z/6N8uX/tpnvejZ23367Feff3aAhUnzWbEmpcz+bR/9m2UvJ+Pt402PKPeK7Y/QbyIiUjM8YHxV+RTBTZs2ERoaSmpqKsuXL2fWrFnMnj2b+Ph4UlNTcTgcpKWlAZCRkcHgwYPJzc11lt+4cSPNmjVj7dq1PPjgg6xcubLcc6xbt45mzZqRmppKjx49SE5OBmD69OksXryYtWvXEhYWxoYNG6oybqenB3UhedrDBPiVjjXnjunF9MVb6DLkBQwGAxGdb+GausE8Gd2Zex9NIuKpxcwc2R0/37Jj04rKuZINa1ez8LkZFBUVOfd9+/VBPtjyVoUDwV0ZW7GdOUPSkld57Ik4VixOupLNvSQZ27YCsOqVVB5/chRJ8+c6jxXbbCTNn8OiJStYtupV3nxjA7m5x2uqqRdl755P+OKzfSxZ9RqLlq/hp/8dcx4rttl4ccFcnl+8nMXL1/D2mxs44SZxAbz3ziZq1Qpl5StreTF5GXNnz3Ies9lsLJg3h8VLV7J8dQpvvrHebfrsV2tWrWBmwpQyv3fwS2xz5/DyspWsXJPCGxvcKzZP7zcREZHLUekAq1u3bsTFxTm3vb29ycrKol27dgB06tSJnTt3llbk5cXq1asJDQ11nt+sWTMsFgsAZrMZH5/yCbPMzEw6duzorG/Xrl0ApKSkcNVVVwFQXFyMv7//pcZYqezvc+k/drlzu/WNDcjI/BqAD3ZkcU/75rS9uRG7DmRTZCsmz1xI9nfHuaXpdWXqqaicK/nT9Q2YkrjAuZ13+mfWLHmR4aPGVXh+1mf7aNO+AwDNb2rJ1wezrkg7L0fne7swedoMAI4d/ZG6des6jx06lE2DBg0JCamFr68ft7Zqzf69mTXV1Iuye9cOwps045mxoxgf/xR3drzbeezw4WzqnxNXy9tac2Df3hps7cXpcn83YkeMcm77eHs7fz78mz67rVUb9rlJn/2qfoMGzH/hpXL7D2Vn06BhQ0JqlcbWqnUb9mW6T2ye3m8iIlJzDAZDlT+utEoHWEajEZPJhNlsZtSoUcTHx+NwOJwNNRqN5OfnA9ChQwdq165dpnzt2rXZsWOHM3vVu3fvcs9hNpsJDg4uV9/VV18NwIcffsju3bvp0aPH5UV6Hm+l7cdmK3Fun9sJ+ZYz1DIFEGwMIC+/4Ox+ayEhwWWnK1ZUzpXc1bmLc4BbUlLCC3OmM2zkWIKCgio832qxEGQyObe9vLwpKS6+Im29HD4+PiRMmci8OYn8tUtX536L2YzpnHiMQUbM5vyaaOJFO/3zKQ5+mUXi3CTGTUpgxpQJzqyjxWzGaAp2nhvkRnFBaXuNRhMWi5nxY+KIHXH2Ax2z2Ywp+JzYjEbM+e4TG0CX+7riW8EHSxaLGZOpbGz5bhSbp/ebiIjI5bjgKoJHjx5l4MCBREZGEhER4bzfCsBisRASEnLesosWLWLo0KG8++67rFy5kpEjR5KTk0NMTAwxMTFs2LABk8nkzHL9tr41a9awcuVKVqxYUW0ZrN+y2+3On4ON/pzOLyDfUojJePb5g4MCOH3OgOt85VzVN//9kh+/P8LiBX9nzvSJHDmczdIXnytzTpDRSIHV4ty2O+x4V/BG0RXNSJzDG5veI3HmVAqsVgCMJhOWc+KxWC2Ygs9/7bqSWrVCaX9HB3x9/Qhr1Bh/Pz9+PnUSKI3Lek5cVqvF+YGFuzh27CiPDxnEQ3+L5IGHIpz7TSYTVss5sVncL7bzMRrLXo9Wi4XgEPeK7Y/YbyIiUv28quFxpVX6nLm5uQwePJhx48Y5s08tWrRg9+7dAKSnp9O2bdvzlg8JCXH+Ya1bty4Wi4WwsDBSUlJISUmhT58+tG7dmm3btjnra9OmDQAvv/wye/bsYc2aNdSpU+fyI/2d9h/8no5tmgJwf4eb2LHvW/Z8cZgOrZrg7+dDiCmAGxpfQ9Y3P16wnKu6ocUtLEnZyNyXVjJx+hwaNgrn8VHjy5zT4pbb2LNrOwAHsz6jUXjTmmjqRXln89usXrkMgICAQLwMXnj9MnWpceNwvjuSw+nTP2OzFbEvcw8tW95Wg639/Vre1pqPd23H4XBw/PhPFBQUEFIrFIBGjcL5/kgOeb/EdWBvJje7SVwAJ07k8tTjQxgVP5bIqF5ljjVqHM6Rc/psb+antLy1VQ21tGo1Dg/nSE7Z2G51o9j+qP0mIiLye1SakliyZAl5eXkkJyc7F5+YPHkyiYmJJCUlER4eTteuXc9bPi4ujilTppCamkpxcTGzZs0qd050dDQTJkwgOjoaX19fFixYQG5uLosXL6ZFixYMGzYMgAceeIABAwZcTqy/y8SkN0meFo2frw8Hs4+x8V/7sNsdJK/7iLRVozEYDExfvIUzRcU0D7+WJ/p1In72+grLuaP5iVMYOOwp7ux0L/v2fMyY2IE4HDD6mRk13bQLuvev9zEjYTLDHnuE4uJinh7/DFvTPsRqtdKzd19Gj5nIyNhh2O12uvfoydXXXFPTTf5dOnTqzP59exg6sB8Ou4MxE6aQ9sF7FBRYiezZl5FPj2f0iOE47A4eioyi3tXuERfAquVLyc/LY8WyZFYsK32N6dGrL4UFVnr27sfTYycw4omh2O12IqN6uU2fnc9772zGarXSq08/xoyfwJPDh+JwuF9sf7R+ExGRK6cm7pmqagaHq60lfpECW42o6SZUmy/en1fTTag2V4dcmSmfNeFMsf3CJ7mpAF/vC5/kprxqYg7BFWD33MsRk7/7/xEWEZGy4t8+WOV1vhB5ZRef89C3FCIiIiIiIleee6xaICIiIiIiHs/LAyYnKIMlIiIiIiJSRZTBEhERERERl+AJi1xogCUiIiIiIi5BUwRFRERERETESRksERERERFxCR4wQ1AZLBERERERkaqiDJaIiIiIiLgELw9IYWmAJSIiIiIiLsETptd5QgwiIiIiIiIuQRksERERERFxCR4wQ1AZLBERERERkaqiDJYLuzrEv6abIJcgyN+7ppsg4mTy94CPAkVE5A/DExa5UAZLRERERESkiiiDJSIiIiIiLsEDElgaYImIiIiIiGvw8oABlqYIioiIiIiIVBFlsERERERExCVokQsRERERERFxUgZLRERERERcggcksDTAEhERERER16BFLkRERERERMRJGSwREREREXEJBtw/haUMloiIiIiISBVRBktERERERFyCx9+DZbPZGDduHAMGDKB3796kpaWRk5NDdHQ0AwYMICEhAbvd7jz/5MmT3H///Zw5cwaA/Px8hg4dysMPP8yjjz7K8ePHyz1HYWEhI0eOZMCAAQwbNoyTJ08CsGfPHvr06UPfvn1ZtGhRVcZczl9uDuP95XEAhDe4irRVo/nXyngWTuqH4ZelTB6LupPta8ez7ZUxPNDx5nJ1nK+cqykpKWHGtMkMHjSAYY89wvffHSlzPP2jrQwc0IfHYvrz5hvra6iVl8aTYwP4/LMDDH00ptz+bR/9m4f79Wbgw/3Y+E/3iwsUm7vGJiIiUtW8DFX/uOIxVHZw06ZNhIaGkpqayvLly5k1axazZ88mPj6e1NRUHA4HaWlpAGRkZDB48GByc3Od5Tdu3EizZs1Yu3YtDz74ICtXriz3HOvWraNZs2akpqbSo0cPkpOTAXj22WdJSkpi/fr17N69my+//LIq43Z6elAXkqc9TIBfaTJv7pheTF+8hS5DXsBgMBDR+RauqRvMk9GduffRJCKeWszMkd3x8y2b/KuonCvK2LYVgFWvpPL4k6NImj/XeazYZiNp/hwWLVnBslWv8uYbG8jNLT8odlWeHNuaVSuYmTCFoqKiMvttNhsL5s7h5WUrWbkmhTc2rHeruECxuWtsIiIiUrFKB1jdunUjLi7Oue3t7U1WVhbt2rUDoFOnTuzcubO0Ii8vVq9eTWhoqPP8Zs2aYbFYADCbzfj4lJ+RmJmZSceOHZ317dq1C4D169fToEEDLBYLZrO5TL1VKfv7XPqPXe7cbn1jAzIyvwbggx1Z3NO+OW1vbsSuA9kU2YrJMxeS/d1xbml6XZl6Kirnijrf24XJ02YAcOzoj9StW9d57NChbBo0aEhISC18ff24tVVr9u/NrKmmXjRPjq1+gwbMf+GlcvsPZWfToGFDQmqVxtWqdRv2ZbpPXKDY3DU2ERGR6mAwGKr8caVVOsAyGo2YTCbMZjOjRo0iPj4eh8PhbKjRaCQ/Px+ADh06ULt27TLla9euzY4dO5zZq969e5d7DrPZTHBwcLn6fHx82L9/PxEREVx11VXUqVPn8qOtwFtp+7HZSpzb53ZCvuUMtUwBBBsDyMsvOLvfWkhIcGCZeioq56p8fHxImDKReXMS+WuXrs79FrMZk8nk3DYGGTGb82uiiZfMU2Prcl9XfCv4gMJiMWMyBTu3g875HXIXis09YxMREZGKXXAVwaNHjzJw4EAiIyOJiIjAy+tsEYvFQkhIyHnLLlq0iKFDh/Luu++ycuVKRo4cSU5ODjExMcTExLBhwwZMJpMzy/Xb+m677Tb+/e9/06JFC5YtW3Y5cf5u595TFmz053R+AfmWQkxG/7P7gwI4fc6A63zlXNmMxDm8sek9EmdOpcBqBcBoMmGxWpznWKwWTMHn719X5cmx/ZbRWDYuq8VCcEhwJSXch2ITERH54/H4e7Byc3MZPHgw48aNc2afWrRowe7duwFIT0+nbdu25y0fEhLizE7VrVsXi8VCWFgYKSkppKSk0KdPH1q3bs22bduc9bVp0waHw8GAAQM4ffo0UJrZOndgV532H/yejm2aAnB/h5vYse9b9nxxmA6tmuDv50OIKYAbGl9D1jc/XrCcK3pn89usXlk6WA0ICMTL4IWXtzcAjRuH892RHE6f/hmbrYh9mXto2fK2GmztxfHk2M6ncXg4R3LOxrU381NuvbVVTTerSig2ERERcUeVLtO+ZMkS8vLySE5Odi4+MXnyZBITE0lKSiI8PJyuXbuet3xcXBxTpkwhNTWV4uJiZs2aVe6c6OhoJkyYQHR0NL6+vixYsACDwcDgwYMZNmwYfn5+1KtXj8TExMsM9feZmPQmydOi8fP14WD2MTb+ax92u4PkdR+Rtmo0BoOB6Yu3cKaomObh1/JEv07Ez15fYTlXdO9f72NGwmSGPfYIxcXFPD3+GbamfYjVaqVn776MHjORkbHDsNvtdO/Rk6uvuaamm/y7eXJsv/XeO5uxWq306tOPMeMn8OTwoTgcdiKjerl1XKDYRERE/shcdCHui2JwOByOmm7E5QhsNaKmm1Btftr1Yk03QS6Bt7cHvDKIxwjy1fUoIiLu44WMQ1VeZ3zHxlVeZ2WuzLw7ERERERGRP4BKpwiKiIiIiIhcKTWxKEVVUwZLRERERESkimiAJSIiIiIiLsFgqPrH+Zw4cYK7776bb7/9lpycHKKjoxkwYAAJCQllvoLpYmmAJSIiIiIiLsELQ5U/KmKz2Zg2bRoBAQEAzJ49m/j4eFJTU3E4HKSlpV1GDCIiIiIiIn8gc+fOpX///lx99dUAZGVl0a5dOwA6derEzp07L7luDbBERERERMQlXIkpghs3bqROnTp07NjRuc/hcGD45WSj0Uh+fv4lx6BVBEVERERE5A/jjTfewGAwsGvXLv7zn/8wYcIETp486TxusVgICQm55Po1wBIREREREZdwJZZpX7t2rfPnmJgYpk+fzrx589i9ezft27cnPT2d22+//ZLr1xRBERERERFxCV4GQ5U/fo8JEybw0ksv0a9fP2w2G127dr3kGJTBEhERERGRP6SUlBTnz6+99lqV1KkBloiIiIiIuITfmXByaRpgubD8wuKabkK1CfL3rukmVJ+Smm5A9TF4wqveeZj8PTc2ERERuXI0wBIREREREZfwe++ZcmVa5EJERERERKSKKIMlIiIiIiIuwQMSWBpgiYiIiIiIa/CE6XWeEIOIiIiIiIhLUAZLRERERERcgiesWKwMloiIiIiISBVRBktERERERFyC++evNMASEREREREXoe/BEhERERERESdlsERERERExCW4f/5KGSwREREREZEqU2kGy2azMWnSJH744QeKioqIjY2lSZMmTJw4EYPBQNOmTUlISMDLq3ScdvLkSfr378/mzZvx9/cnPz+f0aNHU1BQgK+vL/PmzaNevXplnqOwsJBx48Zx4sQJjEYjc+fOpU6dOs7jL7/8Ml999RXPP/98NYRf6i83h5EY14OuwxYS3uAqls+IweFwkPXtUeJnr8fhcPBY1J0M6X0XJcUlzFnxPu9lfFGmjvOVczVFRUXMnTWFoz/8gNFoJG7cZOo3DHMe35nxEa+uXIK3tzcPRETxtx69a66xl+DkyRMMiu7DS0tW0KhxuHN/xratrFz6Mt4+3kRE9qRHrz412MqLV1JSQuKMaeTkHMLby4uEmc9Sv0FD5/H0j7ayYlky3t7edO/Rk6hefWuwtb+fzWZjZsJkfvzhB2y2IoYMi+Xue+51Hk//6N8sX/prXL3o2ds94hIREZFL4wG3YFWewdq0aROhoaGkpqayfPlyZs2axezZs4mPjyc1NRWHw0FaWhoAGRkZDB48mNzcXGf5jRs30qxZM9auXcuDDz7IypUryz3HunXraNasGampqfTo0YPk5GTnsW3btpGenl5VsVbo6UFdSJ72MAF+pWPNuWN6MX3xFroMeQGDwUBE51u4pm4wT0Z35t5Hk4h4ajEzR3bHz7fs2LSicq7onbf/SWBgEMmr1jJy7DMsnP+s81hxsY3FLzzHvBeX8sKSNWx565+cPJFbSW2updhmY86s6fj7+5fb/8L8Oby4ZDlLVr7CW29s4ETu8Rpq5aXJ2LYVgFWvpPL4k6NImj/XeazYZiNp/hwWLVnBslWv8uYbG8h1k/jee2cTtWqFsvKVtbyYvIy5s2c5j9lsNhbMm8PipStZvjqFN99Y7zZxiYiIyKUxGAxV/rjSKh1gdevWjbi4OOe2t7c3WVlZtGvXDoBOnTqxc+fO0oq8vFi9ejWhoaHO85s1a4bFYgHAbDbj41M+YZaZmUnHjh2d9e3atQuAnJwc/vGPfzBy5MjLCO/Csr/Ppf/Y5c7t1jc2ICPzawA+2JHFPe2b0/bmRuw6kE2RrZg8cyHZ3x3nlqbXlamnonKu6PChbNrfWfrv3TCsMUcOZzuP5RzK5vr6DQkOqYWvry+33NqKz/Zn1lRTL9rCpHn07NOPevWuLrP/0KFs6jcIIySkFr6+ftzaqjX797pPXACd7+3C5GkzADh29Efq1q3rPHboUDYNGjR0y/i63N+N2BGjnNs+3t7Onw//Jq7bWrVhn5vEJSIiIn9clQ6wjEYjJpMJs9nMqFGjiI+Px+FwOEeCRqOR/Px8ADp06EDt2rXLlK9duzY7duxwZq969y4/3cxsNhMcHFymPovFwsyZM5k5cybe57zhqg5vpe3HZitxbp87ys23nKGWKYBgYwB5+QVn91sLCQkOLFNPReVcUZOmN7Br+zYcDgdffn6A3OM/UVJSGr/VYsFoMjnPDQwyYjGba6qpF2XL229Su04dbr/zrnLHLBYzpnPiCjIaMbtJXOfy8fEhYcpE5s1J5K9dujr3W8xl4zMGGTGb82uiiRctKMiI0WjCYjEzfkwcsSPOfqBjNpsx/fLaAL/0W757xCUiIiKXxqsaHlfaBZ/z6NGjDBw4kMjISCIiIpz3WwFYLBZCQkLOW3bRokUMHTqUd999l5UrVzJy5EhycnKIiYkhJiaGDRs2YDKZnFmuX+vbsWMHx48fZ/To0Tz77LN8/PHHLFu2rArCvTC73e78Odjoz+n8AvIthZiMZ6edBQcFcPqcAdf5yrmiByOiMBqNjH5yMDu3b6NZ8xbOQWyQ0UjBL30BUGC1YDIFn68ql7L57Y188vFOYocM4qv/HmTGlGec0wBL38CfjctqsZR54+5OZiTO4Y1N75E4cyoFVisARpMJi/VsfBarBVPw+X8vXc2xY0d5fMggHvpbJA88FOHcbzKZsP6m34LdtN9ERETkj6PSRS5yc3MZPHgw06ZN44477gCgRYsW7N69m/bt25Oens7tt99+3vIhISHON0R169bFYrEQFhZGSkqK85z8/Hy2bdtGy5YtSU9Pp02bNtx///3cf//9AOzevZvXX3+d4cOHX3awv8f+g9/TsU1TMjK/5v4ON5H+6Vfs+eIw05+KwN/PB38/H25ofA1Z3/x4wXKu6OB/vuDmW1vz1OgJ/Pc/Wfz4/XfOY2GNw/n+uyPknT5NYFAQB/Zl0vfhR2uusRdh6aqz11TskEFMmJJA3atKF1Rp3Dic747kcPr0zwQFBbFv7x4eHvhYTTX1kryz+W1++ul/PDZkOAEBgXgZvPD6ZWBcLr7MPcQMHFzDLf59TpzI5anHhzDhmam0u/2OMscaNQ7nyDlx7c38lJhB7hGXiIiIXJqauGeqqlU6wFqyZAl5eXkkJyc7F5+YPHkyiYmJJCUlER4eTteuXc9bPi4ujilTppCamkpxcTGzZs0qd050dDQTJkwgOjoaX19fFixYcJkhXZ6JSW+SPC0aP18fDmYfY+O/9mG3O0he9xFpq0ZjMBiYvngLZ4qKaR5+LU/060T87PUVlnNF9RuEsWrpItavXYMpOJhxk2fyr/ffocBqJSKqD0/Gj2N83OPY7XYeiIii3tXX1HSTL9n7727BarUS1bsv8WMnEBc7HLvDTkRkT66+xr3iuvev9zEjYTLDHnuE4uJinh7/DFvTPsRqtdKzd19Gj5nIyNhh2O12uvdwn/hWLV9Kfl4eK5Yls2JZ6WtMj159KSyw0rN3P54eO4ERTwzFbrcTGdXLbeISERGRPy6DwxXXEr8Iga1G1HQTqs23W5NqugnVJsi/eu+tq0neHvDJy/l4wqdK52Py99zYRERE3MWG/T9e+KSL1Oe26y58UhWqNIMlIiIiIiJypXjCh7k1sbCGiIiIiIiIR1IGS0REREREXIInZH88IQYRERERERGXoAyWiIiIiIi4BE+4B0sDLBERERERcQnuP7zSFEEREREREZEqowyWiIiIiIi4BA+YIagMloiIiIiISFVRBktERERERFyClwfchaUBloiIiIiIuARNERQREREREREnZbBcmK+3xr/uqMThqOkmVJvQAF2TIiIiUn0MHjBFUO+WREREREREqogyWCIiIiIi4hI84R4sDbBERERERMQleMIqgpoiKCIiIiIiUkWUwRIREREREZfgCVMElcESERERERGpIspgiYiIiIiIS1AGS0RERERERJyUwRIREREREZfgCV80rAGWiIiIiIi4BC/3H19piqCIiIiIiEhVUQZLRERERERcgsdPEbTZbEyaNIkffviBoqIiYmNjadKkCRMnTsRgMNC0aVMSEhLw8ipNhJ08eZL+/fuzefNm/P39yc/PZ/To0RQUFODr68u8efOoV69emecoLCxk3LhxnDhxAqPRyNy5c6lTpw4ffPABzz33HH/6058AGDlyJO3atauWf4S/3BxGYlwPug5bSHiDq1g+IwaHw0HWt0eJn70eh8PBY1F3MqT3XZQUlzBnxfu8l/FFmTrOV87VvLv5Td7d/DYARUVn+Oarg7z9/jaCg0MA2J6+lTUrXsbb24eHukfRPapPTTb3op08eYJB0X14ackKGjUOd+7P2LaVlUtfxtvHm4jInvTo5V5xgWfHJiIiIuIpKp0iuGnTJkJDQ0lNTWX58uXMmjWL2bNnEx8fT2pqKg6Hg7S0NAAyMjIYPHgwubm5zvIbN26kWbNmrF27lgcffJCVK1eWe45169bRrFkzUlNT6dGjB8nJyQBkZWUxbtw4UlJSSElJqbbB1dODupA87WEC/ErHmnPH9GL64i10GfICBoOBiM63cE3dYJ6M7sy9jyYR8dRiZo7sjp9v2bFpReVc0YMRUSxatoZFy9Zww40tiBv7jHNwVVxs46WkuSQtWs6iZWvY9OYGTuQer+EW/37FNhtzZk3H39+/3P4X5s/hxSXLWbLyFd56w73iAs+OTURERORXBkPVP660SgdY3bp1Iy4uzrnt7e1NVlaWc7DTqVMndu7cWVqRlxerV68mNDTUeX6zZs2wWCwAmM1mfHzKJ8wyMzPp2LGjs75du3YBpQOsN954gwEDBjBnzhyKi4svI8zzy/4+l/5jlzu3W9/YgIzMrwH4YEcW97RvTtubG7HrQDZFtmLyzIVkf3ecW5peV6aeisq5soNffsGhb78lsmdf577Dh7K5vkFDQkJq4evrR8tbW3Ng/94abOXFWZg0j559+lGv3tVl9h86lE39BmHOuG5t1Zr9ezNrqJWXxpNjExEREfmVoRr+u9IqHWAZjUZMJhNms5lRo0YRHx+Pw+HA8MtQ0Gg0kp+fD0CHDh2oXbt2mfK1a9dmx44dzuxV7969yz2H2WwmODi4wvqmTp3K2rVrsVqtvP7665cfbQXeStuPzVbi3DacM8zNt5yhlimAYGMAefkFZ/dbCwkJDixTT0XlXNmrq5czeHhsmX0WixmTKdi5HWQ0YjHnX+mmXZItb79J7Tp1uP3Ou8odK43L5NwOMhoxm81XsnmXxZNjExEREfE0F1xF8OjRowwcOJDIyEgiIiKc91sBWCwWQkJCzlt20aJFDB06lHfffZeVK1cycuRIcnJyiImJISYmhg0bNmAymZxZrnPr69WrFw0aNMBgMPDXv/6VL7/88nJj/V3sdrvz52CjP6fzC8i3FGIynp2aFRwUwOlzBlznK+eq8vPzOHI4m9Zt25fZbzSasP7SFwBWi6XMgMuVbX57I598vJPYIYP46r8HmTHlGedUOaPx7DUGv8QV7B5xgWfHJiIiInIuL0PVP660She5yM3NZfDgwUybNo077rgDgBYtWrB7927at29Peno6t99++3nLh4SEOLNTdevWxWKxEBYWRkpKivOc/Px8tm3bRsuWLUlPT6dNmzY4HA66d+/O66+/zrXXXsuuXbu46aabqiLeC9p/8Hs6tmlKRubX3N/hJtI//Yo9Xxxm+lMR+Pv54O/nww2NryHrmx8vWM5VHdi7h7bt7ii3v1HjcL7/Loe80z8TGBTE/n2ZRMc8VgMtvHhLV529pmKHDGLClATqXlW6oErjxuF8dySH06d/JigoiH179/DwQPeICzw7NhERERFPU+kAa8mSJeTl5ZGcnOxcfGLy5MkkJiaSlJREeHg4Xbt2PW/5uLg4pkyZQmpqKsXFxcyaNavcOdHR0UyYMIHo6Gh8fX1ZsGABBoOBxMRERowYQUBAAH/+85/p27dvBc9Q9SYmvUnytGj8fH04mH2Mjf/ah93uIHndR6StGo3BYGD64i2cKSqmefi1PNGvE/Gz11dYzlUdyTnMddfXd25/8H9bKLBaiezZlxGjx/P0yOHY7Q4e6h5FvauvqcGWXp73392C1Wolqndf4sdOIC52OHaHnYjInlx9jfvGBZ4dm4iIiPxxecIy7QaHK64lfhECW42o6SZUmyPpL9R0E6qNr4/7//L8EYUGetd0E0RERMSDbf/6VJXXeVfT2hc+qQpd8B4sERERERER+X0qnSIoIiIiIiJypXjCHCdlsERERERERKqIMlgiIiIiIuISvAzun8NSBktERERERKSKKIMlIiIiIiIuwf3zVxpgiYiIiIiIq/CAEZamCIqIiIiIiFQRZbBERERERMQlGDwghaUMloiIiIiISBVRBktERERERFyCB6zSrgGWiIiIiIi4Bg8YX2mKoIiIiIiISFVRBsuFlTgcNd2EauPrEZ9PVCw00LummyAiIiLinjzgLaIyWCIiIiIiIlVEGSwREREREXEJnrBMuwZYIiIiIiLiEjxhFUFNERQREREREakiymCJiIiIiIhL8IAEljJYIiIiIiIiVUUZLBERERERcQ0ekMJSBktERERERKSKKIMlIiIiIiIuQcu0i4iIiIiIVBFPWKZdAywREREREfnDsNlsTJo0iR9++IGioiJiY2Np0qQJEydOxGAw0LRpUxISEvDyurS7qTTAEhERERERl3AlElibNm0iNDSUefPmcerUKaKiomjevDnx8fG0b9+eadOmkZaWxn333XdJ9Vc6wLrY0d3Jkyfp378/mzdvxt/fn/z8fEaPHk1BQQG+vr7MmzePevXqlXmOwsJCxo0bx4kTJzAajcydO5c6deqQk5NDQkICNpsNPz8/kpKSqF279iUFeSF/uTmMxLgedB22kPAGV7F8RgwOh4Osb48SP3s9DoeDx6LuZEjvuygpLmHOivd5L+OLMnWcr5yrKS628ez0yRz78Qe8vL0ZN3k6YY3Cncd3pH/EKytextvHhwcjooiI6l2Drb14J0+eYFB0H15asoJGjc/GlbFtKyuXvoy3jzcRkT3p0atPDbZSRERERGpKt27d6Nq1q3Pb29ubrKws2rVrB0CnTp3YsWPHJQ+wKs17/Tq6S01NZfny5cyaNYvZs2cTHx9PamoqDoeDtLQ0ADIyMhg8eDC5ubnO8hs3bqRZs2asXbuWBx98kJUrV5Z7jnXr1tGsWTNSU1Pp0aMHycnJAEydOpX4+HjWrl1L//79OXz48CUFeCFPD+pC8rSHCfArHWvOHdOL6Yu30GXICxgMBiI638I1dYN5Mroz9z6aRMRTi5k5sjt+vmXHphWVc0Uf78igpKSE5FVrGTT0CVYkv+g8VlxsY/Hzc1mwaBkvLl3D5jc3cOKc/nR1xTYbc2ZNx9/fv9z+F+bP4cUly1my8hXeemMDJ3KP11ArRUREROS8DNXw+A2j0YjJZMJsNjNq1Cji4+NxOBwYfrkBzGg0kp+ff8khVDrA6tatG3Fxcc7tikZ3O3fuLK3Iy4vVq1cTGhrqPL9Zs2ZYLBYAzGYzPj7lE2aZmZl07NjRWd+uXbsoLCzk5MmTbN26lZiYGPbv30/Lli0vOcjKZH+fS/+xy53brW9sQEbm1wB8sCOLe9o3p+3Njdh1IJsiWzF55kKyvzvOLU2vK1NPReVcUf2GYZQUF2O327FaLGX6JOdQNtfXb0hwSC18fX1peVtrPtufWYOtvTgLk+bRs08/6tW7usz+Q4eyqd8gjJCQWvj6+nFrq9bs3+s+cYmIiIj8URiq4b+KHD16lIEDBxIZGUlERESZ+60sFgshISGXHEOlA6yLGd116NCh3BS+2rVrs2PHDmf2qnfv8tPNzGYzwcHBZeo7ffo0X3/9NXfccQevvvoqp0+f5s0337zkICvzVtp+bLYS57bhnKVL8i1nqGUKINgYQF5+wdn91kJCggPL1FNROVcUFBjEsaM/EtMngnl/T6BXv4edxywWC0aTybkdGGTEYr700fuVtOXtN6ldpw6333lXuWMWixnTOXEFGY2YzeYr2TwRERERcRG5ubkMHjyYcePGOccnLVq0YPfu3QCkp6fTtm3bS67/gktjXM7obtGiRQwdOpR3332XlStXMnLkSHJycoiJiSEmJoYNGzZgMpmcWa5f66tVqxZGo5Hbb78dg8HAPffcwxdffHHe56lKdrvd+XOw0Z/T+QXkWwoxGc9OOwsOCuD0OQOu85VzRevXpdDu9jtZ+8Y7rFr7Bs/OmMyZM2eA0gGu1Wp1nltgtWAKvvTR+5W0+e2NfPLxTmKHDOKr/x5kxpRnnNMAjcaz1xiA1WLB9MugXkRERERch8FQ9Y/fWrJkCXl5eSQnJzvHJfHx8bz00kv069cPm81W5h6ti1XpIhe/ju6mTZvGHXfcAZwd3bVv35709HRuv/3285YPCQlxZqfq1q2LxWIhLCyMlJQU5zn5+fls27aNli1bkp6eTps2bQgICKBRo0bs2bOHtm3b8umnn9K0adNLDvJi7D/4PR3bNCUj82vu73AT6Z9+xZ4vDjP9qQj8/Xzw9/PhhsbXkPXNjxcs54qCg0Oc0wKDa9X6ZbpgaQYvrHE433+XQ97p0wQGBXFgXyb9Hnm0Blv7+y1ddfaaih0yiAlTEqh7VemCKo0bh/PdkRxOn/6ZoKAg9u3dw8MDH6uppoqIiIhIDZoyZQpTpkwpt/+1116rkvorHWCdO7r7dfGJyZMnk5iYSFJSEuHh4ZWO7uLi4pgyZQqpqakUFxcza9ascudER0czYcIEoqOj8fX1ZcGCBQA8++yzzJgxg5KSEurXr8/YsWMvJ87fbWLSmyRPi8bP14eD2cfY+K992O0Oktd9RNqq0RgMBqYv3sKZomKah1/LE/06ET97fYXlXFGfAQOZO2sqI4YNpNhmY+iTcWzftpUCq5XuPfvwVPx4xo4cjsPh4MGIKOpdfU1NN/mSvf/uFqxWK1G9+xI/dgJxscOxO+xERPbk6mvcNy4RERERT+UB3zOMweGKa4lfhMBWI2q6CdXm0Lbna7oJ1SbA99K+uM0dhAZ613QTRERERNzSFz9U/X3yN19vuvBJVchz3+WKiIiIiIhcYZVOERQREREREblSzresujtRBktERERERKSKKIMlIiIiIiIuoaJl1d2NMlgiIiIiIiJVRBksERERERFxCR6QwNIAS0REREREXIQHjLA0RVBERERERKSKKIMlIiIiIiIuQcu0i4iIiIiIiJMyWCIiIiIi4hI8YZl2DbBERERERMQleMD4SgMsV+btCUP48wgN9K7pJoiIiIiIVDkNsERERERExDV4QH5Bi1yIiIiIiIhUEWWwRERERETEJXjCMu0aYImIiIiIiEvwhCUINEVQRERERESkiiiDJSIiIiIiLsEDEljKYImIiIiIiFQVZbBERERERMQ1eEAKSxksERERERGRKqIMloiIiIiIuAQt0y4iIiIiIlJFtEy7iIiIiIiIOFWawbLZbEyaNIkffviBoqIiYmNjadKkCRMnTsRgMNC0aVMSEhLw8iodp508eZL+/fuzefNm/P39yc/PZ/To0RQUFODr68u8efOoV69emecoLCxk3LhxnDhxAqPRyNy5c6lTpw4xMTHOc7Kzs4mKimLs2LHV8E8Af7k5jMS4HnQdtpDwBlexfEYMDoeDrG+PEj97PQ6Hg8ei7mRI77soKS5hzor3eS/jizJ1nK+cq3l385u8u/ltAIqKzvDNVwd5+/1tBAeHALA9fStrVryMt7cPD3WPontUn5psroiIiIj8gXhAAqvyDNamTZsIDQ0lNTWV5cuXM2vWLGbPnk18fDypqak4HA7S0tIAyMjIYPDgweTm5jrLb9y4kWbNmrF27VoefPBBVq5cWe451q1bR7NmzUhNTaVHjx4kJycDkJKSQkpKCs8++yzXXHMNsbGxVRm309ODupA87WEC/ErHmnPH9GL64i10GfICBoOBiM63cE3dYJ6M7sy9jyYR8dRiZo7sjp9v2bFpReVc0YMRUSxatoZFy9Zww40tiBv7jHNwVVxs46WkuSQtWs6iZWvY9OYGTuQer+EWi4iIiIi4j0oHWN26dSMuLs657e3tTVZWFu3atQOgU6dO7Ny5s7QiLy9Wr15NaGio8/xmzZphsVgAMJvN+PiUT5hlZmbSsWNHZ327du0qc/zvf/8748aNw2g0XkJ4F5b9fS79xy53bre+sQEZmV8D8MGOLO5p35y2Nzdi14FsimzF5JkLyf7uOLc0va5MPRWVc2UHv/yCQ99+S2TPvs59hw9lc32DhoSE1MLX14+Wt7bmwP69NdhKEREREflDMVTD4wqrdIBlNBoxmUyYzWZGjRpFfHw8DocDwy93nxmNRvLz8wHo0KEDtWvXLlO+du3a7Nixw5m96t27d7nnMJvNBAcHl6sP4ODBg1gsFu64447Li7ISb6Xtx2YrcW4bzrmzLt9yhlqmAIKNAeTlF5zdby0kJDiwTD0VlXNlr65ezuDhZbOCFosZkynYuR1kNGIx5/+2qIiIiIhItTBUw39X2gUXuTh69CgDBw4kMjKSiIgI5/1WABaLhZCQkPOWXbRoEUOHDuXdd99l5cqVjBw5kpycHGJiYoiJiWHDhg2YTCZnluu39W3atIk+fa7sPUB2u935c7DRn9P5BeRbCjEZ/c/uDwrg9DkDrvOVc1X5+XkcOZxN67bty+w3Gk1Yf+kLAKvFUmbAJSIiIiIilat0gJWbm8vgwYMZN26cM/vUokULdu/eDUB6ejpt27Y9b/mQkBBndqpu3bpYLBbCwsKc91f16dOH1q1bs23bNmd9bdq0cZb/+OOPndMHr5T9B7+nY5umANzf4SZ27PuWPV8cpkOrJvj7+RBiCuCGxteQ9c2PFyznqg7s3UPbduWzgo0ah/P9dznknf4Zm62I/fsyubnlbVe+gSIiIiLyh2QwVP3jSqt0FcElS5aQl5dHcnKyc/GJyZMnk5iYSFJSEuHh4XTt2vW85ePi4pgyZQqpqakUFxcza9ascudER0czYcIEoqOj8fX1ZcGCBc5jx48fLzftsLpNTHqT5GnR+Pn6cDD7GBv/tQ+73UHyuo9IWzUag8HA9MVbOFNUTPPwa3miXyfiZ6+vsJyrOpJzmOuur+/c/uD/tlBgtRLZsy8jRo/n6ZHDsdsdPNQ9inpXX1ODLRURERERcS8GhyuuJX4RAluNqOkmVJsj6S/UdBOqTb1gfce1iIiIiJT13ckzVV5ngzr+Fz6pCuldroiIiIiIuISamNJX1S64yIWIiIiIiIj8PspgiYiIiIiIi3D/FJYyWCIiIiIiIlVEGSz5//buP6jqOt/j+OsIAsIBj6htuiiBikvWbKGom0JZmuZkmuIKFkrY3bFrKt50+WEiXjQgkc3JMFel3cEfaLtU7ubNu7peNWzUXGnUsUzpNipeRzTlh/w4wLl/uJ41f0XxxS8cn48ZZjxwPp/z+gDy5X3en/MBAAAAaBV4DRYAAAAAwIkOFgAAAIBWwQUaWBRYAAAAAFoHtggCAAAAAJzoYAEAAABoFSwusEmQDhYAAAAAGIQOFgAAAIDWoe03sCiwAAAAALQOLlBfUWC1Zl19+fIAAAAAbQm/wQMAAABoFTimHQAAAADgRAcLAAAAQKvgCse0U2ABAAAAaB3afn3FFkEAAAAAMAodLAAAAACtggs0sOhgAQAAAIBR6GABAAAAaBU4ph0AAAAA4EQHCwAAAECrwDHtAAAAAGAQtggCAAAAAJzu2MGy2+1KSUnRmTNnVFdXp1deeUW9e/dWUlKSLBaL+vTpo4ULF6pdu6t12sWLFxUdHa2//OUv8vT0VEVFhebMmaPq6mq1b99eS5cuVdeuXb/3GDU1NZo3b54uXLggHx8fZWVlyd/fX3v37lV2drbc3d31q1/9SnPmzGmxT0L4Q4FaPHucRv7bcgX36KLVi2LlcDh09ORZJWRslsPh0EvPP6ZpUUPVUN+gzDXb9F97jnxvjtuNAwAAAHDvuGMHa8uWLbLZbNqwYYNWr16t9PR0ZWRkKCEhQRs2bJDD4dCOHTskSXv27FF8fLzKysqc4wsLCxUSEqL169dr9OjRWrt27U2PsXHjRoWEhGjDhg0aN26ccnNzJUlvvvmm3nzzTW3atEn79+/XV199ZeS6nf5j6nDlpr4gL4+rtWbWaxOU9s5fNXzaW7JYLBrzxMP6WWdf/XvME3oyLkdjZryj/5z5nDzaf782vdU4AAAAAPeWOxZYo0aN0uzZs5233dzcdPToUQ0cOFCSFBkZqb17916dqF07vffee7LZbM77h4SEqKqqSpJUWVkpd/ebG2YHDx5URESEc77PPvtMkhQaGqpLly7JbrertrZWbm5uzVjm7ZWcLlP03NXO22GhPbTn4NeSpP8uOqphg36hAQ89oM++KFGdvV7llTUqOXVeD/fp/r15bjUOAAAAQNNZLMa/3W133CLo4+Mj6WpxNGvWLCUkJCgrK0uWfyb18fFRRUWFJGnIkCE3je/UqZOKioo0evRoXb58WevXr7/pPpWVlfL19b1pvr59+2r69Omy2Wzq27evgoODm7HM2/twR7F6dvN33rZc91WoqKpVR6uXfH28VF5R/a/3X6mRn2+H781zq3EAAAAAms4VThH8wUMuzp49qylTpmjs2LEaM2aM8/VWklRVVSU/P7/bjl2xYoVefvllbd26VWvXrtXMmTP17bffKjY2VrGxsXr//fdltVqdXa5r85WXl2vVqlX6+OOPtX37dgUGBiovL8+A5f6wxsZG5799fTx1uaJaFVU1svp4/uv93l66fF3BdbtxAAAAAO4tdyywysrKFB8fr3nz5ikqKkqS9OCDD2rfvn2SpN27d2vAgAG3He/n5+fsTnXu3FlVVVUKDAxUfn6+8vPzNXHiRIWFhWnXrl3O+fr37y8vLy95e3vL29tbknTfffepvLy8+attguIvTyuifx9J0tND+qno0El9fuR/NeTR3vL0cJef1Ut9g36moydKf3AcAAAAgKZz+S2C7777rsrLy5Wbm+s8fGL+/PlavHixcnJyFBwcrJEjR952/OzZs/X6669rw4YNqq+vV3p6+k33iYmJUWJiomJiYtS+fXstW7ZMHh4eSkpKUnx8vDw9PeXr66vMzMxmLrVpknI+UG5qjDzau+vLkv9T4fZDamx0KHfj/2hH3hxZLBalvfNX1dbV6xfB92v6pEglZGy+5TgAAAAA9xaLo42fJd7h0VfNjtBiqg+tMDsCAAAAcNdU1DT+8J1+JF+vu/unf+/YwQIAAACAu6btn3Hxw4dcAAAAAACahg4WAAAAgFbhnjimHQAAAADQNHSwAAAAALQKZhyrbjQ6WAAAAABgEDpYAAAAAFoFF2hgUWABAAAAaCVcoMJiiyAAAAAAGIQOFgAAAIBWwRWOaafAAgAAAHDPaGxsVFpamr766it5eHho8eLFCgwMNGx+tggCAAAAaBUsFuPfbrR9+3bV1dVp06ZNeu2115SZmWnoGtp8B6v60AqzIwAAAAAwgNddqE4OHjyoiIgISdIjjzyiI0eOGDo/HSwAAAAA94zKykpZrVbnbTc3N9XX1xs2PwUWAAAAgHuG1WpVVVWV83ZjY6Pc3Y1rnVFgAQAAALhnhIWFaffu3ZKk4uJihYSEGDq/xeFwOAydEQAAAABaqWunCB4/flwOh0NvvPGGevXqZdj8FFhN0NJHObYGX3zxhbKzs5Wfn292FMPY7XalpKTozJkzqqur0yuvvKKnnnrK7FiGaGho0Ouvv65vvvlGbm5uysjIUM+ePc2OZZgLFy5o/PjxysvLM/QHXmswbtw4+fr6SpICAgKUkZFhciLjrFq1Sn//+99lt9sVExOjiRMnmh3JEIWFhfrggw8kSbW1tTp27JiKiork5+dncrLmsdvtSkpK0pkzZ9SuXTulp6e7zP+3uro6JScn69SpU7JarUpNTdUDDzxgdqxmu/5a/e233yopKUkWi0V9+vTRwoUL1a5d296YdOPvIn/729/0ySefaNmyZSYna57r13Xs2DGlp6fLzc1NHh4eysrKUpcuXcyOCIO1+VME74brj3IsLi5WZmamVq5caXYsw6xevVpbtmxRhw4dzI5iqC1btshms2np0qX67rvv9Pzzz7tMgbVz505JUkFBgfbt26eMjAyX+Z602+1KTU2Vl5eX2VEMV1tbK0ku9UTGNfv27dOhQ4e0ceNGVVdXKy8vz+xIhhk/frzGjx8vSVq0aJEmTJjQ5osrSdq1a5fq6+tVUFCgoqIivfXWW3r77bfNjmWIzZs3y9vbW5s3b1ZJSYnS09O1du1as2M1y43X6oyMDCUkJGjQoEFKTU3Vjh07NGLECJNT/nQ3rm/x4sX69NNPFRoaanKy5rlxXUuWLNGCBQsUGhqqgoICrV69WsnJySanhNHa9lMdd0lLH+Votp49e7rMRfV6o0aN0uzZs5233dzcTExjrOHDhys9PV2SVFpa6lLPfmVlZSk6Olr33Xef2VEM9+WXX6q6ulrx8fGaMmWKiouLzY5kmE8//VQhISGaMWOGpk+frieeeMLsSIY7fPiwTpw4oUmTJpkdxRBBQUFqaGhQY2OjKisrDX2Bt9lOnDihyMhISVJwcLBOnjxpcqLmu/FaffToUQ0cOFCSFBkZqb1795oVzRA3ri8sLExpaWnmBTLIjevKyclxFo0NDQ3y9PQ0KxpaEAVWE7T0UY5mGzlypEtdWK/x8fGR1WpVZWWlZs2apYSEBLMjGcrd3V2JiYlKT0/XyJEjzY5jiMLCQvn7+zuf0HA1Xl5emjZtmtauXatFixZp7ty5LvOz5LvvvtORI0e0fPly59pcbQf6qlWrNGPGDLNjGMbb21tnzpzRM888owULFig2NtbsSIYJDQ3Vzp075XA4VFxcrHPnzqmhocHsWM1y47Xa4XDI8s+/oOrj46OKigqzohnixvWNHj3aub627MZ1XXvy8B//+IfWrVunuLg4k5KhJVFgNUFLH+WIlnP27FlNmTJFY8eO1ZgxY8yOY7isrCxt27ZNCxYs0JUrV8yO02x//vOftXfvXsXGxurYsWNKTEzU+fPnzY5lmKCgID333HOyWCwKCgqSzWZzmfXZbDYNHTpUHh4eCg4Olqenpy5evGh2LMOUl5erpKREgwcPNjuKYf7whz9o6NCh2rZtmz766CMlJSU5t7G2dRMmTJDVatWUKVO0c+dO9evXz6V2MUj63uutqqqqXGLb6r1i69atWrhwoX7/+9/L39/f7DhoARRYTdDSRzmiZZSVlSk+Pl7z5s1TVFSU2XEM9eGHH2rVqlWSpA4dOshisbjELw/r16/XunXrlJ+fr9DQUGVlZalr165mxzLMn/70J2VmZkqSzp07p8rKSpdZX//+/bVnzx45HA6dO3dO1dXVstlsZscyzIEDB/TYY4+ZHcNQfn5+zgNXOnbsqPr6+jbf5bnm8OHD6t+/v/Lz8zV8+HD16NHD7EiGe/DBB7Vv3z5J0u7duzVgwACTE6EpPvroI+d1zhW/L3EVbZgmGDFihIqKihQdHe08yhGt37vvvqvy8nLl5uYqNzdX0tUXm7rC4QlPP/20kpOT9cILL6i+vl4pKSns424DoqKilJycrJiYGFksFr3xxhsu0w0fNmyYDhw4oKioKDkcDqWmprpE0X/NN998o4CAALNjGCouLk4pKSmaPHmy7Ha75syZI29vb7NjGSIwMFDLly9XXl6efH19tWTJErMjGS4xMVELFixQTk6OgoODXWaruCtraGjQkiVL1K1bN82cOVOSFB4erlmzZpmcDEbjmHYAAAAAMAhbBAEAAADAIBRYAAAAAGAQCiwAAAAAMAgFFgAAAAAYhAILAAAAAAxCgQUAUGxsrE6ePPmTxq5bt+6OH1+yZIlKS0ubNFd2drYKCwt/Ug4AAFoDCiwAQLOsXLnyjh+fP3++unfvfpfSAABgLtf4C5cAgFuqqalRcnKySktLZbfblZKSok2bNunUqVNqaGjQSy+9pNGjR0uS3nnnHZWVlam6ulo5OTnq0aOHMjMzdfDgQUnSs88+q6lTpyopKUmXLl3SpUuX9Pjjj+vy5ctKS0tTWlraLTPExsYqLS1NW7du1enTp3XhwgWVlpYqOTlZERER2rZtm1auXCl/f3/Z7XYFBwdLkpYtW6YDBw7I4XAoLi5OI0aM0IsvvqgZM2YoNDRUU6dO1Zo1a9StW7e78rkEAKApKLAAwIUVFBTo5z//uX73u9/p+PHj2r59uzp16qSlS5eqsrJS48eP1+DBgyVJjz/+uMaOHau3335bn3zyiXr37q3Tp09r8+bNqq+v1+TJk533HTx4sOLi4iRd3SJ4u+LqRh4eHlqzZo2KioqUl5eniIgILV26VO+//75sNpt+85vfSJJ27dql06dPq6CgQLW1tfr1r3+tIUOGKDs7W9OnT1fXrl3129/+luIKANDqsEUQAFxYSUmJHnnkEUlSSEiIzp8/r/DwcEmS1WpVr169dOrUKUnSQw89JEnq0qWLampqdPLkSQ0YMEAWi0Xt27fXL3/5S+frtIKCgn5SntDQUEnS/fffr7q6OpWVlclqtapTp06yWCx69NFHJUnHjx/X0aNHFRsbq5dffln19fUqLS1VQECAwsLCdOHCBUVGRv7kzwsAAC2FAgsAXFivXr10+PBhSdKpU6f08ccf6/PPP5ckVVZW6vjx4woICLjt2GvbA+12uw4dOqTAwEBJksVicd7P4XA0Oc/14yTJZrOpoqJCFy9elCRn1uDgYA0aNEj5+fn64x//qGeeeUYBAQEqLi7W119/rfDwcOXl5TX5cQEAuFvYIggALiw6OlopKSl68cUX1dDQoDVr1mj9+vWKiYlRbW2tXn31VXXu3PmWY4cNG6b9+/dr0qRJstvtGjVqlPr163fT/Xr16qW5c+cqOzv7R+dzd3dXRkaGpk2bpo4dO8rd/epl6cknn9T+/fs1efJkXblyRcOHD5fD4dD8+fO1YsUKde/eXRMnTtTAgQP18MMP/+jHBQCgpVgcP+apRwAAAADAbdHBAgA0W2lpqRITE296f3h4uGbNmmVCIgAAzEEHCwAAAAAMwiEXAAAAAGAQCiwAAAAAMAgFFgAAAAAYhAILAAAAAAxCgQUAAAAABvl/NOpiYEN5MWYAAAAASUVORK5CYII=\n",
      "text/plain": [
       "<Figure size 1152x576 with 2 Axes>"
      ]
     },
     "metadata": {},
     "output_type": "display_data"
    }
   ],
   "source": [
    "plt.figure(figsize=(16, 8))\n",
    "plt.title('Retention Rates')\n",
    "sns.heatmap(data=retention.round(2) * 100, annot=True, cmap='Blues', fmt='.1f', vmin=0, vmax = 100)\n",
    "plt.ylabel('')\n",
    "sns.despine(bottom=True, left=True);"
   ]
  },
  {
   "cell_type": "code",
   "execution_count": 106,
   "id": "8dca5002-b010-4d9d-8df4-4ecf099fd172",
   "metadata": {},
   "outputs": [
    {
     "data": {
      "text/plain": [
       "cohort_index\n",
       "1     10.333489\n",
       "2      5.828296\n",
       "3      5.585284\n",
       "4      3.795590\n",
       "5      3.360654\n",
       "6      3.568639\n",
       "7      3.660063\n",
       "8      2.989185\n",
       "9      3.385146\n",
       "10     2.621181\n",
       "11     2.678521\n",
       "12     4.413050\n",
       "dtype: float64"
      ]
     },
     "execution_count": 106,
     "metadata": {},
     "output_type": "execute_result"
    }
   ],
   "source": [
    "# rata-rata retention tiap bulan cohort\n",
    "retention.mean()[1:]*100"
   ]
  },
  {
   "cell_type": "code",
   "execution_count": 107,
   "id": "5c170681-2ee2-495e-9043-54ea3e09485b",
   "metadata": {},
   "outputs": [
    {
     "name": "stdout",
     "output_type": "stream",
     "text": [
      "Rata-rata retention: 4.351591525949719%\n"
     ]
    }
   ],
   "source": [
    "# rata-rata retention keseluruhan\n",
    "print(f\"Rata-rata retention: {retention.mean()[1:].mean()*100}%\")"
   ]
  },
  {
   "cell_type": "markdown",
   "id": "30399307-123e-4996-be17-6fc9546b0380",
   "metadata": {},
   "source": [
    "Retention Rate Analysis Reveals Low Overall Retention Rate of 4.35% over the year\n",
    "\n",
    "Key points:\n",
    "* Retention rate analysis menunjukkan bahwa tingkat retention customers dalam 1 tahun secara keseluruhan tergolong rendah. Hanya rata-rata 5.5% customer melakukan repeat order dalam 90 hari sejak pembelian terakhir mereka.\n",
    "    * Berdasarkan [Harvard Business School](https://hbr.org/2014/10/the-value-of-keeping-the-right-customers) mendapatkan customers baru lebih mahal 5-25 kali daripada mempertahankan customers yang ada. Karena retention rate merupakan indikator kepuasan customer, penting untuk fokus pada peningkatan product quality dan customer service untuk meningkatkan kemungkinan repeat order.\n",
    "    * Direkomendasikan untuk mengembangkan targeted campaign untuk mendorong repeat order. Ini dapat dicapai melalui rekomendasi personal, penawaran khusus, dan loyalty program sesuai dengan segmen mereka, contohnya bisa melalui RFM analysis.\n",
    "* Poin menarik lainnya adalah pada bulan 11, retention rate lebih tinggi dibanding bulan-bulan lainnya. Hal tersebut mungkin disebabkan oleh campaign pada bulan 11.\n",
    "    * Diperlukan lebih banyak data apakah peningkatan pada bulan 11 dikarenakan oleh campaign dan hari besar atau hanya sebuah kebetulan.\n",
    "\n",
    "Consideration:\n",
    "* Perlu di lakukan analisa retention tiap produk, untuk mengetahui apakah ada perbedaan retention di tiap produk\n",
    "* Bisa jadi salah satu penyebab rendahnya retention rate adalah customers tidak melakukan repeat order secara bulanan, melainkan 3 bulan, 6 bulan atau pada hari-hari besar saja."
   ]
  },
  {
   "cell_type": "markdown",
   "id": "bded5f8b-8c48-4de6-b6ac-a5904873581a",
   "metadata": {},
   "source": [
    "## **RFM** 💡\n",
    "\n",
    "Untuk menjawab pertanyaan berikut:\n",
    "* Bagaimana distribusi recency, frequency order dan monetary value tiap customer?\n",
    "\n",
    "Analisa RFM dilakukan dengan mengecualikan order yang fraud\n",
    "\n",
    "[RFM segmentation references](https://github.com/daniel-isidro/customer_segmentation)\n",
    "\n",
    "NB: Average Order Value tidak diterapkan karena distribusi price tidak normal sehingga missleading dalam perancangan strategi. Contohnya AOV tinggi dengan price tinggi tapi order rendah, sekilas menunjukan performance yang bagus tetapi jika ditinjau secara quantity, akan menunjukan quantity penjualan yang rendah."
   ]
  },
  {
   "cell_type": "code",
   "execution_count": 108,
   "id": "26a6f1dd-df60-4fa3-a38b-77024a63c82e",
   "metadata": {},
   "outputs": [
    {
     "name": "stdout",
     "output_type": "stream",
     "text": [
      "2018-08-29 00:00:00\n"
     ]
    }
   ],
   "source": [
    "# reference date to calculate recency\n",
    "reference_date = df2['created_at'].max() + datetime.timedelta(days=1)\n",
    "print(reference_date)"
   ]
  },
  {
   "cell_type": "code",
   "execution_count": 109,
   "id": "58a13e45-4292-45b2-9197-0cf2edff3be7",
   "metadata": {},
   "outputs": [],
   "source": [
    "rfm = df2.groupby('Customer ID').agg(\n",
    "                                    recency = ('created_at', lambda x: (reference_date - x.max()).days),\n",
    "                                    frequency = ('item_id', 'nunique'),\n",
    "                                    monetary = ('grand_total', 'sum')\n",
    "                                    ).reset_index()"
   ]
  },
  {
   "cell_type": "code",
   "execution_count": 110,
   "id": "35bf2c5f-da0a-44a2-91c2-c44342b4f7f8",
   "metadata": {},
   "outputs": [
    {
     "data": {
      "text/plain": [
       "{'recency': {0.25: 171.0, 0.5: 285.0, 0.75: 526.0},\n",
       " 'frequency': {0.25: 1.0, 0.5: 2.0, 0.75: 4.0},\n",
       " 'monetary': {0.25: 1350.0, 0.5: 4900.0, 0.75: 21997.5}}"
      ]
     },
     "execution_count": 110,
     "metadata": {},
     "output_type": "execute_result"
    }
   ],
   "source": [
    "# determine Q1,Q2,Q3 each RFM\n",
    "quantiles = rfm.quantile(q=[0.25, 0.5, 0.75])\n",
    "quantiles = quantiles.to_dict()\n",
    "quantiles"
   ]
  },
  {
   "cell_type": "code",
   "execution_count": 111,
   "id": "83b86a50-a7a6-454f-9a38-e3ecd5c25d53",
   "metadata": {},
   "outputs": [],
   "source": [
    "# function to calculate RFM score\n",
    "'''\n",
    "x: original value\n",
    "var: key of dictionary\n",
    "quantile: dictionary of quantile\n",
    "'''\n",
    "# More high the R score, more good the customers\n",
    "def r_score(x, var, quantile):\n",
    "    if x <= quantile[var][0.25]:\n",
    "        return 4\n",
    "    elif x <= quantile[var][0.50]:\n",
    "        return 3\n",
    "    elif x <= quantile[var][0.75]: \n",
    "        return 2\n",
    "    else:\n",
    "        return 1\n",
    "\n",
    "# More high the FM score, more good the customers\n",
    "def fm_score(x, var, quantile):\n",
    "    if x <= quantile[var][0.25]:\n",
    "        return 1\n",
    "    elif x <= quantile[var][0.50]:\n",
    "        return 2\n",
    "    elif x <= quantile[var][0.75]: \n",
    "        return 3\n",
    "    else:\n",
    "        return 4"
   ]
  },
  {
   "cell_type": "code",
   "execution_count": 112,
   "id": "87e4b8db-879b-4e9d-bdb3-c33c20db47f3",
   "metadata": {},
   "outputs": [],
   "source": [
    "rfm['R'] = rfm['recency'].apply(r_score, args=('recency',quantiles))\n",
    "rfm['F'] = rfm['frequency'].apply(fm_score, args=('frequency',quantiles))\n",
    "rfm['M'] = rfm['monetary'].apply(fm_score, args=('monetary',quantiles))"
   ]
  },
  {
   "cell_type": "code",
   "execution_count": 113,
   "id": "fc377d9f-88c2-4672-97b9-433725792c51",
   "metadata": {},
   "outputs": [],
   "source": [
    "# Average Order Value\n",
    "rfm['AOV'] = rfm['monetary']/rfm['frequency']"
   ]
  },
  {
   "cell_type": "markdown",
   "id": "0bfa4c17-b519-47b8-a5bf-1ff995f68900",
   "metadata": {},
   "source": [
    "### **Segment**"
   ]
  },
  {
   "cell_type": "code",
   "execution_count": 114,
   "id": "6195961c-944b-472b-871f-9fe18992df15",
   "metadata": {},
   "outputs": [],
   "source": [
    "rfm['R_FM Score'] = rfm['R'].astype('str') + ((rfm['F']+rfm['M'])//2).astype('str')"
   ]
  },
  {
   "cell_type": "markdown",
   "id": "eeaaba46-5d4f-4804-8cd0-55312a158bb0",
   "metadata": {},
   "source": [
    "Dikarenakan jika menggunakan RFM score terdapat 125 ($5^3$) kemungkinan segment, dimana itu sangat banyak. Maka digunakan R_FM score, dengan cara merata-rata nilai FM"
   ]
  },
  {
   "cell_type": "code",
   "execution_count": 115,
   "id": "8184e84a-87ab-48a4-8112-ce1ab3031c5d",
   "metadata": {},
   "outputs": [],
   "source": [
    "'''\n",
    "Champions: Bought recently, buy often and spend the most\n",
    "Loyal: Recently spend good money and buy often\n",
    "Potential: Recent customers with average frequency and monetary.\n",
    "New: Bought most recently, but not often.\n",
    "At Risk: Spent big money and purchased often but a long time ago. Need to bring them back!\n",
    "About To Sleep: Below average recency, average frequency, and average monetary values. Will lose them if not reactivated.\n",
    "Hibernating: Last purchase was long back, low spender and low number of orders.\n",
    "Can’t Lose Them: Made biggest purchase and often, but haven’t returned for a long time.\n",
    "Lost: Lowest recency, frequency and monetary.\n",
    "'''\n",
    "\n",
    "# segment (using regex) the RFM\n",
    "segment_map = {\n",
    "    '44': 'Champions',\n",
    "    '14': \"Can't Lose Them\",\n",
    "    '11': 'Lost',\n",
    "    '12': \"Hibernating\",\n",
    "    '2[1-2]': \"About to Sleep\",\n",
    "    '[3-4]2': 'Potential',\n",
    "    '[3-4]1': 'New',\n",
    "    '[3-4][3-4]': 'Loyal',\n",
    "    '[1-2][3-4]': \"At Risk\"\n",
    "}\n",
    "\n",
    "rfm['Segment'] = rfm['R_FM Score'].replace(segment_map, regex=True)"
   ]
  },
  {
   "cell_type": "code",
   "execution_count": 116,
   "id": "153c2cfd-6670-498d-a23d-aee37c085082",
   "metadata": {},
   "outputs": [],
   "source": [
    "#rfm.to_csv(\"D:/Documents/AI_and_Embedded_Systems/AI/Courses/Purwadhika/Module_2_Data_Analysis/Online_Learning/Capstone/rfm.csv\", index=False)  "
   ]
  },
  {
   "cell_type": "code",
   "execution_count": 118,
   "id": "cb709831-8ecf-4e57-a694-e5cd57ca084f",
   "metadata": {},
   "outputs": [
    {
     "data": {
      "image/png": "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\n",
      "text/plain": [
       "<Figure size 648x288 with 1 Axes>"
      ]
     },
     "metadata": {},
     "output_type": "display_data"
    }
   ],
   "source": [
    "horizontal_barplot(rfm['Segment'].value_counts(), rfm['Segment'].value_counts().sum(), alpha=0.7, figsize=(9,4),\n",
    "                  palette=['tab:blue', 'tab:gray', 'tab:blue', 'tab:blue','tab:gray', 'tab:gray', 'tab:gray', 'tab:blue', 'tab:gray']\n",
    "                  )"
   ]
  },
  {
   "cell_type": "markdown",
   "id": "19c416a3-e6fe-4243-ab7f-1e9877bf3e7f",
   "metadata": {},
   "source": [
    "Loyal segment Dominates RFM Analysis, About to Sleep and Potential segments Follow\n",
    "\n",
    "Key points:\n",
    "* 50% customers masih aktif dalam melakukan transaksi yaitu di segmen Loyal, Potention, New, dan Champion\n",
    "    * Perlu dilakukan analisa mengenai distribusi RFM tiap segmen untuk dapat menyusun strategi marketing\n",
    "    \n",
    "Segment Description:\n",
    "* Loyal (17.2%): Recently spend good money and buy often.\n",
    "* About To Sleep (16.8%): Below average recency, average frequency, and monetary values. Will lose them if not reactivated.\n",
    "* Potential (14.4%): Recent customers with average frequency and monetary.\n",
    "* New (13.2%): Bought most recently, but not often.\n",
    "* Lost (13%): Lowest recency, frequency and monetary.\n",
    "* At Risk (11.7%): Spent big money and purchased often but a long time ago. Need to bring them back.\n",
    "* Hibernating (7.4%): Last purchase was long back, low spender and low number of orders.\n",
    "* Champions (5.3%): Bought recently, buy often and spend the most.\n",
    "* Can’t Lose Them (1%): Made biggest purchase and often, but haven’t returned for a long time."
   ]
  },
  {
   "cell_type": "markdown",
   "id": "6f4ebc7c-8f21-4ca1-8925-6c7dbc3e86fc",
   "metadata": {},
   "source": [
    "### **RFM Score Distribution**"
   ]
  },
  {
   "cell_type": "code",
   "execution_count": 119,
   "id": "0f45e889-48e6-4a60-baeb-7b38ccb0e061",
   "metadata": {},
   "outputs": [
    {
     "name": "stdout",
     "output_type": "stream",
     "text": [
      "About to Sleep      : ['22' '21']\n",
      "At Risk             : ['13' '23' '24']\n",
      "Can't Lose Them     : ['14']\n",
      "Champions           : ['44']\n",
      "Hibernating         : ['12']\n",
      "Lost                : ['11']\n",
      "Loyal               : ['33' '43' '34']\n",
      "New                 : ['41' '31']\n",
      "Potential           : ['42' '32']\n"
     ]
    }
   ],
   "source": [
    "for i in sorted(rfm['Segment'].unique()):\n",
    "    print(f\"{i:<20}: {rfm[(rfm['Segment'] == i)]['R_FM Score'].unique()}\")"
   ]
  },
  {
   "cell_type": "code",
   "execution_count": 120,
   "id": "cfa90b9a-3a87-4682-8521-b2ad1961f9b0",
   "metadata": {
    "tags": []
   },
   "outputs": [
    {
     "data": {
      "image/png": "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\n",
      "text/plain": [
       "<Figure size 720x720 with 16 Axes>"
      ]
     },
     "metadata": {},
     "output_type": "display_data"
    }
   ],
   "source": [
    "# plot the distribution of M for RF score\n",
    "fig, axes = plt.subplots(nrows=4, ncols=4,\n",
    "                         sharex=False, sharey=True,\n",
    "                         figsize=(10, 10))\n",
    "\n",
    "r_range = range(1, 5)\n",
    "f_range = range(1, 5)\n",
    "for r in r_range:\n",
    "    for f in f_range:\n",
    "        y = rfm[(rfm['R'] == r) & (rfm['F'] == f)]['M'].value_counts().sort_index()\n",
    "        x = y.index\n",
    "        ax = axes[r - 1, f - 1]\n",
    "        bars = ax.bar(x, y, color='silver')\n",
    "        if r == 4:\n",
    "            if f == 2:\n",
    "                ax.set_xlabel('{}\\nFrequency'.format(f), va='top')\n",
    "            else:\n",
    "                ax.set_xlabel('{}\\n'.format(f), va='top')\n",
    "        if f == 1:\n",
    "            if r == 2:\n",
    "                ax.set_ylabel('Recency\\n{}'.format(r))\n",
    "            else:\n",
    "                ax.set_ylabel(r)\n",
    "        ax.set_frame_on(False)\n",
    "        ax.tick_params(left=False, labelleft=False, bottom=False)\n",
    "        ax.set_xticks(x)\n",
    "        ax.set_xticklabels(x, fontsize=8)\n",
    "\n",
    "        for bar in bars:\n",
    "            value = bar.get_height()\n",
    "            if value == y.max():\n",
    "                bar.set_color('tab:blue')\n",
    "            ax.text(bar.get_x() + bar.get_width() / 2,\n",
    "                    value,\n",
    "                    int(value),\n",
    "                    ha='center',\n",
    "                    va='bottom',\n",
    "                    color='k')\n",
    "fig.suptitle('Distribution of M for each F and R',\n",
    "             fontsize=14)\n",
    "plt.tight_layout()\n",
    "plt.show()"
   ]
  },
  {
   "cell_type": "markdown",
   "id": "fe892eb0-706f-4c91-a1fb-8479f65ab37b",
   "metadata": {},
   "source": [
    "Customers spending the most are those with the highest activity\n",
    "\n",
    "Opportunity\n",
    "* Customers dengan frekuensi order tinggi (F 3-4), cenderung memiliki monetary value tinggi (M 3-4) meskipun sudah jarang aktif\n",
    "    * Perusahaan bisa melakukan pendekatan pada customer yang jarang aktif (R 1-2) tetapi memiliki FM tinggi untuk dapat meningkatkan penjualan\n",
    "* Diperlukan analisa berdasarkan segment untuk memudahkan dalam merancang strategi marketing"
   ]
  },
  {
   "cell_type": "markdown",
   "id": "c13855e2-b531-492b-98ca-ec32fa0dcfc2",
   "metadata": {},
   "source": [
    "### **RFM Distribution by Segment**"
   ]
  },
  {
   "cell_type": "code",
   "execution_count": 121,
   "id": "7afcc86a-2c9e-4a25-8d32-45ee88126ec6",
   "metadata": {},
   "outputs": [
    {
     "data": {
      "image/png": "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\n",
      "text/plain": [
       "<Figure size 504x288 with 1 Axes>"
      ]
     },
     "metadata": {},
     "output_type": "display_data"
    }
   ],
   "source": [
    "# R\n",
    "box_plot(df=rfm, x='recency', y='Segment',whis=0, fliersize=0, alpha=0.7,\n",
    "        palette=['tab:green', 'tab:green', 'tab:green', 'tab:green', 'yellow', 'yellow', 'tab:red', 'tab:red', 'tab:red'],\n",
    "        order=['Champions', 'Loyal', 'Potential', 'New',  'About to Sleep', 'At Risk', 'Hibernating', \"Can't Lose Them\", 'Lost']\n",
    "        )\n",
    "plt.xlabel('Recency')\n",
    "plt.ylabel('');"
   ]
  },
  {
   "cell_type": "code",
   "execution_count": 122,
   "id": "6719a345-2806-45a7-a0dc-b34e229f0592",
   "metadata": {},
   "outputs": [
    {
     "data": {
      "image/png": "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\n",
      "text/plain": [
       "<Figure size 504x288 with 1 Axes>"
      ]
     },
     "metadata": {},
     "output_type": "display_data"
    }
   ],
   "source": [
    "# F\n",
    "box_plot(df=rfm, x='frequency', y='Segment',whis=0, fliersize=0, alpha=0.7,\n",
    "        palette=['tab:green', 'tab:green', 'yellow', 'tab:red', 'yellow', 'tab:green', 'yellow', 'tab:green', 'tab:red'],\n",
    "        order=['Champions', 'Loyal', 'Potential', 'New',  'About to Sleep', 'At Risk', 'Hibernating', \"Can't Lose Them\", 'Lost']\n",
    "        )\n",
    "plt.xlabel('Frequency')\n",
    "plt.ylabel('')\n",
    "plt.xlim(0, np.nanpercentile(rfm['frequency'],98));"
   ]
  },
  {
   "cell_type": "code",
   "execution_count": 123,
   "id": "f6beabc0-4d89-4ece-a956-6de7a4ac78e7",
   "metadata": {},
   "outputs": [
    {
     "data": {
      "image/png": "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\n",
      "text/plain": [
       "<Figure size 504x288 with 1 Axes>"
      ]
     },
     "metadata": {},
     "output_type": "display_data"
    }
   ],
   "source": [
    "# M\n",
    "box_plot(df=rfm, x='monetary', y='Segment',whis=0, fliersize=0, alpha=0.7,\n",
    "        palette=['tab:green', 'tab:green', 'yellow', 'tab:red', 'tab:red', 'tab:green', 'yellow', 'tab:green', 'tab:red'],\n",
    "        order=['Champions', 'Loyal', 'Potential', 'New',  'About to Sleep', 'At Risk', 'Hibernating', \"Can't Lose Them\", 'Lost']\n",
    "        )\n",
    "plt.xlabel('Monetary')\n",
    "plt.ylabel('')\n",
    "plt.xlim(0, np.nanpercentile(rfm['monetary'],98));"
   ]
  },
  {
   "cell_type": "markdown",
   "id": "f01dbb01-d616-4593-a726-bc7d529ab93c",
   "metadata": {},
   "source": [
    "Analyzing and learning from customers behaviour to improve retention strategies and prevent future losses\n",
    "\n",
    "Key points (high recency):\n",
    "* Prioritaskan pada segmen Champion, Loyal, Potential, dan New. Segmen tersebut memiliki nilai R yang tinggi antara 3-4 dengan potensi FM 3-4.\n",
    "    * Berdasarkan [Harvard Business School](https://hbr.org/2014/10/the-value-of-keeping-the-right-customers) mendapatkan customers baru lebih mahal 5-25 kali daripada mempertahankan customers yang ada.\n",
    "    * Perusahaan dapat menyusun strategi untuk meminimalisir risiko churn.\n",
    "* Champions: Customers ini terbukti memiliki kemauan membayar yang lebih tinggi (FM 4), jadi jangan gunakan diskon untuk meningkatkan penjualan. \n",
    "    * Fokus pada rekomendasi produk berdasarkan pembelian sebelumnya, loyalty programs, dan pengenalan produk baru.\n",
    "* Loyal: Customer pada segmen ini sering melakukan repeat orders (FM 3-4). Meskipun frekuensi pembelian mereka mungkin tidak setinggi Champion, mereka tetap berharga bagi perusahaan.\n",
    "    * Fokus pada rekomendasi secara personal, cross-selling atau upselling, dan diskon eksklusif.\n",
    "* Potential: Customer yang baru-baru ini melakukan pembelian dengan nilai order sedang (FM 2). \n",
    "    * Penting untuk fokus mempertahankan mereka dengan memberikan customer service yang sangat baik, menawarkan rekomendasi dan promosi secara personal, dan follow-up untuk memastikan kepuasan mereka\n",
    "* New: Customer yang baru melakukan pembelian (FM 1)\n",
    "    * Strategi untuk segmen ini dapat mencakup targeted promotion, rekomendasi personal berdasarkan riwayat browsing mereka, dan email selamat datang atau diskon untuk pembelian pertama mereka.\n",
    "\n",
    "Key points (low recency):\n",
    "* Prioritaskan pada segmen At Risk, About to Sleep, dan Can't Lose Them. Ketiga segmen tersebut memiliki nilai FM yang tinggi dengan skor 2-4 tetapi mulai jarang aktif.\n",
    "    * Perusahaan dapat menyusun strategi reactivation customers.\n",
    "* At Risk: Customer ini telah melakukan pembelian di masa lalu dengan frekuensi dan monetary yang cukup tinggi tetapi belum melakukan transaksi baru-baru ini. \n",
    "    * Strategi untuk segmen ini dapat mencakup promosi personal, re-engagement emails, dan follow-up phone calls atau survei untuk memahami mengapa mereka belum melakukan pembelian akhir-akhir ini.\n",
    "* About to Sleep: Customer ini telah melakukan pembelian baru-baru ini tetapi aktivitas dan frekuensinya menurun. \n",
    "    * Strategi untuk segmen ini dapat mencakup promosi personal, re-engagement emails, dan feedback survey untuk memahami perubahan kebutuhan atau preferensi mereka.\n",
    "* Can't Lose Them: Customer ini belum melakukan pembelian apa pun baru-baru ini, tetapi memiliki riwayat pembelian yang sangat baik. \n",
    "    * Penting untuk fokus mempertahankan mereka dengan menawarkan promosi personal, follow-up emails atau phone calls, dan membantu mengatasi masalah yang mungkin mereka hadapi terhadap platform.\n"
   ]
  },
  {
   "cell_type": "markdown",
   "id": "03dc9c99-acb6-4bc5-9f2f-1860cc248ca6",
   "metadata": {
    "id": "gEKlP0CLc477",
    "tags": []
   },
   "source": [
    "# **Kesimpulan dan Rekomendasi**\n",
    "\n",
    "Dari analisis yang telah dilakukan, dapat disimpulkan:\n",
    "* Customer lebih sering membeli produk dengan harga di bawah 939.\n",
    "* Lebih dari 80% order memiliki 1 quantity per order dengan rata-rata persentase complete order cenderung diatas 55% pada rentang order quantity 1-3 dan 6-10. Customer lebih memilih untuk melakukan pembelian yang lebih kecil dengan produk yang lebih sedikit per order.\n",
    "* Analisis menunjukkan bahwa Men's Fashion dan Mobiles & Tablets adalah kategori tertinggi yang diorder customers, terhitung sekitar 15-20% dari total transaksi. Namun, mereka menunjukkan tingkat complete order rate yang berbeda. Rata-rata complete order rate untuk Mobiles & Tablets (42%) adalah sekitar 15% lebih rendah daripada Men's Fashion (57%).\n",
    "* Rata-rata grand total terus meningkat sejak 2017 Q3. Bahkan, meningkat 238% dari Q3 2017 ke Q3 2018 dengan total orders tertinggi terjadi pada Q4. Namun, selama periode waktu yang sama, complete order rate mengalami penurunan dari waktu ke waktu tanpa pola yang jelas. \n",
    "* Total orders terbesar terjadi pada bulan November dengan order lebih dari 60k. Total orders kedua terbesar terjadi pada bulan Mei dengan order mencapai 30k.\n",
    "* Rata-rata grand_total stabil dalam skala harian. Namun, total order tertinggi terjadi pada hari Jumat. Selain itu, tampaknya complete order rate tetap stabil dan sebagian besar di atas 50%.\n",
    "* Customer dengan canceled order memiliki median rata-rata bulanan price 3x lebih tinggi daripada customer dengan complete order. Hal ini mungkin menunjukkan bahwa harga yang tinggi merupakan faktor yang menyebabkan customer mengurungkan niat untuk membeli sehingga terjadi pembatalan order.\n",
    "* Analisis menunjukkan bahwa order yang dibatalkan memiliki median rata-rata grand total 3x lebih tinggi daripada order yang berhasil sedangkan  diskon secara statistik tidak berdampak signifikan pada complete order rate. Ada kemungkinan bahwa customer membatalkan atau refund order karena produk yang sebenarnya berbeda dari yang diiklankan\n",
    "* Retention rate analysis menunjukkan bahwa tingkat retention customers dalam 1 tahun secara keseluruhan tergolong rendah. Hanya rata-rata 5.5% customer melakukan repeat order dalam 90 hari sejak pembelian terakhir mereka. Berdasarkan [Harvard Business School](https://hbr.org/2014/10/the-value-of-keeping-the-right-customers)  mendapatkan customers baru lebih mahal 5-25 kali daripada mempertahankan customers yang ada\n",
    "* 50% customers masih aktif dalam melakukan transaksi yaitu di segmen Loyal, Potential, New, dan Champions\n",
    "* Segmen prioritas untuk high recency (R 3-4) adalah Champions, Loyal, Potential, dan New\n",
    "* Segmen prioritas untuk low recency (R 1-2) adalah At Risk, About to Sleep, dan Can't Lose Them\n",
    "\n",
    "Potential Opportunity:\n",
    "* Soghaat memiliki complete order rate tertinggi tetapi total ordernya rendah. Soghaat adalah produk makanan manis, complete order rate tinggi menunjukkan bahwa customer puas dengan produk dan layanannya. Namun, penting untuk berfokus pada peningkatan total order untuk kategori ini.\n",
    "* Pada bulan Juni rata-rata grand total cenderung lebih tinggi dengan rentang mencapai 1.5-1.7 kali rata-rata grand total bulan-bulan lainnya. Perusahaan dapat memanfaatkan tren rata-rata grand total yang lebih tinggi di bulan Juni dengan memberikan penawaran dan promosi untuk menarik lebih banyak customer.\n",
    "* Customers dengan frekuensi order tinggi (F 3-4), cenderung memiliki monetary value tinggi (M 3-4) meskipun sudah jarang aktif. Perusahaan bisa melakukan pendekatan pada customer yang jarang aktif (R 1-2) tetapi memiliki FM tinggi untuk dapat meningkatkan penjualan\n",
    "\n",
    "\n",
    "Consideration:\n",
    "* Perlu analisa lebih lanjut untuk produk dengan harga diatas 939, karena beberapa produk memiliki rentang harga yang lebar dan adanya brand yang mengeluarkan produk low-budget.\n",
    "* Jika perusahaan ingin lebih berhati-hati dalam menerapkan strategi promosi, lebih baik berfokus pada order quantity 1-5 dan 11-20 karena secara distribusi memiliki median persentase complete order lebih stabil diatas 55% dan rentang yang lebih sempit.\n",
    "* Butuh analisa lebih lanjut untuk memahami alasan di balik penurunan complete order rate, seperti masalah product quality, customer service atau customer experience.\n",
    "* Perlu di lakukan analisa retention tiap produk, untuk mengetahui apakah ada perbedaan retention di tiap produk. Bisa jadi salah satu penyebab rendahnya retention rate adalah customers tidak melakukan repeat order secara bulanan, melainkan 3 bulan, 6 bulan atau pada hari-hari besar saja."
   ]
  },
  {
   "cell_type": "markdown",
   "id": "f323a6f9-3591-4942-a553-06aff0c2e3a9",
   "metadata": {
    "id": "G_RiImXGc478"
   },
   "source": [
    "**Rekomendasi**\n",
    "1. Perusahaan disarankan fokus untuk menawarkan lebih banyak produk dalam kisaran harga dibawah 939 seperti \"Men's Fashion\", \"Home & Living\", dan \"Health & Sports\" untuk memenuhi permintaan customer dan meningkatkan kinerja penjualan.\n",
    "    * Perlu analisa lebih lanjut untuk produk dengan harga diatas 939, karena beberapa produk memiliki rentang harga yang lebar dan adanya brand yang mengeluarkan produk low-budget.\n",
    "2. Minimalisir pemberian diskon karena kurang berdampak pada complete order rate\n",
    "3. Perusahaan direkomendasikan berfokus pada promosi penawaran bundel yang lebih kecil, order quantity 1-3  atau menerapkan loyalty program untuk customer yang melakukan order dengan quantity 6-10 untuk memaksimalkan kesempatan complete order demi meningkatkan penjualan.\n",
    "    * Jika perusahaan ingin lebih berhati-hati dalam menerapkan strategi promosi, lebih baik berfokus pada order quantity 1-5 dan 11-20 karena secara distribusi memiliki median persentase complete order lebih stabil diatas 55% dan rentang yang lebih sempit.\n",
    "4. Perusahaan dapat fokus mempersiapkan volume order yang tinggi di bulan November dan Mei serta mempertimbangkan untuk meningkatkan stock pada bulan tersebut untuk memenuhi permintaan customer\n",
    "5. Perusahaan bisa mempertimbangkan untuk menyediakan program cicilan atau memastikan bahwa produk aktual yang dikirim ke customer sesuai dengan iklan untuk meminimalkan jumlah order yang dibatalkan.\n",
    "6. Contoh strategi yang dapat digunakan antara lain rekomendasi produk berdasarkan pembelian sebelumnya, loyalty program, cross-selling, upselling, re-engagement emails, follow-up phone calls atau surveys untuk memahami mengapa mereka belum melakukan pembelian akhir-akhir ini. \n",
    "    * Prioritaskan pada segmen Champion, Loyal, Potential, dan New untuk meminimalisir risiko churn\n",
    "    * Prioritaskan pada segmen At Risk, About to Sleep, dan Can't Lose Them untuk reactivation customers"
   ]
  }
 ],
 "metadata": {
  "kernelspec": {
   "display_name": "Python 3 (ipykernel)",
   "language": "python",
   "name": "python3"
  },
  "language_info": {
   "codemirror_mode": {
    "name": "ipython",
    "version": 3
   },
   "file_extension": ".py",
   "mimetype": "text/x-python",
   "name": "python",
   "nbconvert_exporter": "python",
   "pygments_lexer": "ipython3",
   "version": "3.9.7"
  }
 },
 "nbformat": 4,
 "nbformat_minor": 5
}
